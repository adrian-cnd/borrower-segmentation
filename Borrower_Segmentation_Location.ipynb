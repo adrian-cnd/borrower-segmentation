{
 "cells": [
  {
   "cell_type": "markdown",
   "metadata": {
    "heading_collapsed": true,
    "id": "LYjZhFxEKYIq"
   },
   "source": [
    "# Import packages"
   ]
  },
  {
   "cell_type": "code",
   "execution_count": 45,
   "metadata": {
    "ExecuteTime": {
     "end_time": "2021-09-22T18:03:14.370026Z",
     "start_time": "2021-09-22T18:03:14.360024Z"
    },
    "colab": {
     "base_uri": "https://localhost:8080/",
     "height": 381
    },
    "hidden": true,
    "id": "WpTo846s1DRk",
    "outputId": "43611347-a869-4265-a76b-2ea48e47409e"
   },
   "outputs": [],
   "source": [
    "from datetime import datetime, timedelta\n",
    "%matplotlib inline\n",
    "import matplotlib.pyplot as plt\n",
    "import matplotlib.ticker as ticker\n",
    "import numpy as np\n",
    "np.random.seed(0)\n",
    "import seaborn as sns\n",
    "import requests\n",
    "import statsmodels.api as sm\n",
    "# from __future__ import division\n",
    "# import plotly.plotly as py\n",
    "# import plotly.offline as pyoff\n",
    "# import plotly.graph_objs as go\n",
    "from sklearn.cluster import KMeans\n",
    "from sklearn.cluster import DBSCAN\n",
    "from sklearn import metrics\n",
    "from sklearn.datasets import make_blobs\n",
    "from sklearn.preprocessing import StandardScaler\n",
    "# import hdbscan\n",
    "\n",
    "from io import StringIO\n",
    "\n",
    "import pandas as pd\n",
    "pd.set_option('display.max_rows', 25)\n",
    "pd.set_option('display.max_columns', 500)\n",
    "pd.set_option('display.width', 1000)\n",
    "\n",
    "import warnings\n",
    "warnings.filterwarnings('ignore')\n"
   ]
  },
  {
   "cell_type": "code",
   "execution_count": 46,
   "metadata": {
    "ExecuteTime": {
     "end_time": "2021-09-22T18:03:18.179171Z",
     "start_time": "2021-09-22T18:03:18.172171Z"
    },
    "hidden": true,
    "id": "5ErzaHla4eVn"
   },
   "outputs": [],
   "source": [
    "from math import radians, cos, sin, asin, sqrt\n",
    "\n",
    "def haversine(lon1, lat1, lon2, lat2):\n",
    "    \"\"\"\n",
    "    Calculate the great circle distance in kilometers between two points \n",
    "    on the earth (specified in decimal degrees)\n",
    "    \"\"\"\n",
    "    # convert decimal degrees to radians \n",
    "    lon1, lat1, lon2, lat2 = map(radians, [lon1, lat1, lon2, lat2])\n",
    "\n",
    "    # haversine formula \n",
    "    dlon = lon2 - lon1 \n",
    "    dlat = lat2 - lat1 \n",
    "    a = sin(dlat/2)**2 + cos(lat1) * cos(lat2) * sin(dlon/2)**2\n",
    "    c = 2 * asin(sqrt(a)) \n",
    "    r = 6371 # Radius of earth in kilometers. Use 3956 for miles. Determines return value units.\n",
    "    return c * r"
   ]
  },
  {
   "cell_type": "markdown",
   "metadata": {
    "heading_collapsed": true,
    "id": "1C9jKNmB22J4"
   },
   "source": [
    "# **Setup helper functions**"
   ]
  },
  {
   "cell_type": "code",
   "execution_count": 3,
   "metadata": {
    "ExecuteTime": {
     "end_time": "2021-09-20T06:58:03.210398Z",
     "start_time": "2021-09-20T06:58:03.196153Z"
    },
    "hidden": true,
    "id": "o0SIL_3621Cy"
   },
   "outputs": [],
   "source": [
    "# https://github.com/fivetran/analyst-recipes/blob/master/looker_api/looker_api_helpers.py\n",
    "\n",
    "def generate_auth_token():\n",
    "\n",
    "   \"\"\"Generates an access token for the Looker API that can be passed in the required authorization header.\n",
    "   These tokens expire in an hour\"\"\"\n",
    "\n",
    "   data = {\n",
    "\n",
    "     'client_id': 'FdKcD95jJjbjBSMpY8xr',  #replace this with client id\n",
    "\n",
    "     'client_secret': 'n4ctjx5ZnYfV78WNGcXjkRmP' #replace this with client secret\n",
    "\n",
    "   }\n",
    "\n",
    "   auth_token = requests.post('https://carnextdoor.au.looker.com:19999/api/3.1/login', data=data)\n",
    "\n",
    "   return auth_token.json().get('access_token')\n",
    "\n",
    "\n",
    "def get_all_looks():\n",
    "    \"\"\"Returns all the looks in the looker environment\"\"\"\n",
    "    looks = requests.get(URL + 'looks', headers=HEADERS)\n",
    "    return looks.json()\n",
    "\n",
    "def get_look(look_id):\n",
    "    \"\"\"Returns the look object for the specified look id\"\"\"\n",
    "    look = requests.get('{}looks/{}'.format(URL, look_id), headers=HEADERS)\n",
    "    return look.json()\n",
    "\n",
    "\n",
    "def get_query(query_id):\n",
    "    \"\"\"Returns the query object for the specified id\"\"\"\n",
    "    query = requests.get('{}queries/{}'.format(URL, query_id), headers=HEADERS)\n",
    "    return query.json()\n",
    "\n",
    "def run_query(query_id, results_format):\n",
    "    \"\"\"Returns the query result of the specified id in a specified format\"\"\"\n",
    "    result = requests.get('{}queries/{}/run/{}'.format(URL, query_id, results_format), headers=HEADERS)\n",
    "    return result\n",
    "    \n",
    "#GET/api/3.1/queries/{query_id}/run/{result_format}"
   ]
  },
  {
   "cell_type": "code",
   "execution_count": 4,
   "metadata": {
    "ExecuteTime": {
     "end_time": "2021-09-20T06:58:04.179726Z",
     "start_time": "2021-09-20T06:58:03.212550Z"
    },
    "hidden": true,
    "id": "vld0NB5-3dtr"
   },
   "outputs": [],
   "source": [
    "HEADERS = {\n",
    "\n",
    "   'Authorization': 'token {}'.format(generate_auth_token())\n",
    "\n",
    "}\n",
    "\n",
    "URL = 'https://carnextdoor.au.looker.com:19999/api/3.1/'\n",
    "\n",
    "\n",
    "look_ids = [2978] #list all looks IDs here "
   ]
  },
  {
   "cell_type": "markdown",
   "metadata": {
    "heading_collapsed": true,
    "id": "jgcToLCtOBo8"
   },
   "source": [
    "# Mount Google Drive (optional)"
   ]
  },
  {
   "cell_type": "code",
   "execution_count": 5,
   "metadata": {
    "ExecuteTime": {
     "end_time": "2021-09-20T06:58:04.188065Z",
     "start_time": "2021-09-20T06:58:04.179726Z"
    },
    "colab": {
     "base_uri": "https://localhost:8080/"
    },
    "hidden": true,
    "id": "Fr20nh4JOBFU",
    "outputId": "63c011ca-728c-49eb-e9fe-6439d5f2ac65"
   },
   "outputs": [],
   "source": [
    "# from google.colab import drive\n",
    "# drive.mount('/content/drive')"
   ]
  },
  {
   "cell_type": "markdown",
   "metadata": {
    "id": "OE6UPcKg4Ahf"
   },
   "source": [
    "# **Querying data**"
   ]
  },
  {
   "cell_type": "code",
   "execution_count": 6,
   "metadata": {
    "ExecuteTime": {
     "end_time": "2021-09-20T06:58:04.203958Z",
     "start_time": "2021-09-20T06:58:04.189946Z"
    },
    "colab": {
     "base_uri": "https://localhost:8080/"
    },
    "id": "-U-NyDyG37AU",
    "outputId": "b4d0fb24-af01-41f6-951b-71d7e4a1f7b5"
   },
   "outputs": [],
   "source": [
    "# d = {}\n",
    "\n",
    "# for i in range(len(look_ids)):\n",
    "#     query_id = get_look(look_ids[i]).get('query_id')\n",
    "#     print('Running query id:{}'.format(query_id))\n",
    "#     query_content = run_query(query_id, 'csv').content\n",
    "#     print('Querying success! Saving to dataframe d[{}]'.format(i))\n",
    "#     query_string = str(query_content,'utf-8')\n",
    "#     d[i] = pd.read_csv(StringIO(query_string))\n",
    "#     print('Dataframe d[{}] with {} rows created'.format(i, len(d[i])))\n",
    "    \n",
    "# print('All dataframes loaded on dictionary d')"
   ]
  },
  {
   "cell_type": "code",
   "execution_count": 7,
   "metadata": {
    "ExecuteTime": {
     "end_time": "2021-09-20T06:58:04.220779Z",
     "start_time": "2021-09-20T06:58:04.204247Z"
    },
    "id": "He9WtmM14Ibb"
   },
   "outputs": [],
   "source": [
    "# trip_details = d[0].copy(deep=True)"
   ]
  },
  {
   "cell_type": "code",
   "execution_count": 8,
   "metadata": {
    "ExecuteTime": {
     "end_time": "2021-09-20T06:58:04.237918Z",
     "start_time": "2021-09-20T06:58:04.221405Z"
    },
    "id": "meMEAe9kN708"
   },
   "outputs": [],
   "source": [
    "# trip_details.to_csv('/content/drive/MyDrive/Colab Notebooks/trip_details.csv', index=False)\n",
    "# trip_details.to_csv('trip_details.csv', index=False)"
   ]
  },
  {
   "cell_type": "code",
   "execution_count": 129,
   "metadata": {
    "ExecuteTime": {
     "end_time": "2021-09-22T18:20:59.709858Z",
     "start_time": "2021-09-22T18:20:59.247728Z"
    },
    "id": "7xtqfCMjEbeH"
   },
   "outputs": [],
   "source": [
    "# trip_details = pd.read_csv('/content/drive/MyDrive/Colab Notebooks/trip_details.csv')\n",
    "trip_details = pd.read_csv('trip_details.csv')"
   ]
  },
  {
   "cell_type": "code",
   "execution_count": 130,
   "metadata": {
    "ExecuteTime": {
     "end_time": "2021-09-22T18:21:00.183964Z",
     "start_time": "2021-09-22T18:21:00.168961Z"
    },
    "colab": {
     "base_uri": "https://localhost:8080/",
     "height": 335
    },
    "id": "QI-dGZkO4hvG",
    "outputId": "a81a40c1-04f7-4dc9-d03d-03ef1ea56cc4"
   },
   "outputs": [
    {
     "data": {
      "text/html": [
       "<div>\n",
       "<style scoped>\n",
       "    .dataframe tbody tr th:only-of-type {\n",
       "        vertical-align: middle;\n",
       "    }\n",
       "\n",
       "    .dataframe tbody tr th {\n",
       "        vertical-align: top;\n",
       "    }\n",
       "\n",
       "    .dataframe thead th {\n",
       "        text-align: right;\n",
       "    }\n",
       "</style>\n",
       "<table border=\"1\" class=\"dataframe\">\n",
       "  <thead>\n",
       "    <tr style=\"text-align: right;\">\n",
       "      <th></th>\n",
       "      <th>Members ID</th>\n",
       "      <th>Addresses State</th>\n",
       "      <th>Addresses Latitude</th>\n",
       "      <th>Addresses Longitude</th>\n",
       "      <th>Trips ID</th>\n",
       "      <th>Trips Created Date</th>\n",
       "      <th>Trips End Date</th>\n",
       "      <th>Cars ID</th>\n",
       "      <th>Trips - Homezone (at time of booking) State</th>\n",
       "      <th>Trips - Homezone (at time of booking) Latitude</th>\n",
       "      <th>Trips - Homezone (at time of booking) Longitude</th>\n",
       "      <th>Cars Body Type Class</th>\n",
       "      <th>Trips Billing Distance</th>\n",
       "      <th>Trips Hours Duration</th>\n",
       "      <th>Trips Completed (Yes / No)</th>\n",
       "      <th>Trips Start Date</th>\n",
       "      <th>Members Age</th>\n",
       "      <th>Members Age Tier</th>\n",
       "      <th>Applicants Gender</th>\n",
       "      <th>Trips Count</th>\n",
       "    </tr>\n",
       "  </thead>\n",
       "  <tbody>\n",
       "    <tr>\n",
       "      <th>0</th>\n",
       "      <td>1001</td>\n",
       "      <td>NSW</td>\n",
       "      <td>-33.805412</td>\n",
       "      <td>151.260579</td>\n",
       "      <td>1090474</td>\n",
       "      <td>2021-06-01</td>\n",
       "      <td>2021-09-08</td>\n",
       "      <td>2.0</td>\n",
       "      <td>Queensland</td>\n",
       "      <td>-16.900039</td>\n",
       "      <td>145.758048</td>\n",
       "      <td>SUV / 4WD</td>\n",
       "      <td>0</td>\n",
       "      <td>168 hours</td>\n",
       "      <td>No</td>\n",
       "      <td>2021-09-01</td>\n",
       "      <td>42</td>\n",
       "      <td>35 to 44</td>\n",
       "      <td>NaN</td>\n",
       "      <td>1</td>\n",
       "    </tr>\n",
       "    <tr>\n",
       "      <th>1</th>\n",
       "      <td>33333</td>\n",
       "      <td>VIC</td>\n",
       "      <td>-37.775968</td>\n",
       "      <td>144.949683</td>\n",
       "      <td>1159098</td>\n",
       "      <td>2021-09-11</td>\n",
       "      <td>2021-09-12</td>\n",
       "      <td>NaN</td>\n",
       "      <td>Victoria</td>\n",
       "      <td>-37.737681</td>\n",
       "      <td>145.009625</td>\n",
       "      <td>Car</td>\n",
       "      <td>34</td>\n",
       "      <td>23 hours</td>\n",
       "      <td>Yes</td>\n",
       "      <td>2021-09-11</td>\n",
       "      <td>30</td>\n",
       "      <td>30 to 34</td>\n",
       "      <td>male</td>\n",
       "      <td>1</td>\n",
       "    </tr>\n",
       "    <tr>\n",
       "      <th>2</th>\n",
       "      <td>33333</td>\n",
       "      <td>VIC</td>\n",
       "      <td>-37.775968</td>\n",
       "      <td>144.949683</td>\n",
       "      <td>1150218</td>\n",
       "      <td>2021-08-27</td>\n",
       "      <td>2021-08-28</td>\n",
       "      <td>NaN</td>\n",
       "      <td>Victoria</td>\n",
       "      <td>-37.737681</td>\n",
       "      <td>145.009625</td>\n",
       "      <td>Car</td>\n",
       "      <td>97</td>\n",
       "      <td>23 hours</td>\n",
       "      <td>Yes</td>\n",
       "      <td>2021-08-27</td>\n",
       "      <td>30</td>\n",
       "      <td>30 to 34</td>\n",
       "      <td>male</td>\n",
       "      <td>1</td>\n",
       "    </tr>\n",
       "    <tr>\n",
       "      <th>3</th>\n",
       "      <td>33333</td>\n",
       "      <td>VIC</td>\n",
       "      <td>-37.775968</td>\n",
       "      <td>144.949683</td>\n",
       "      <td>1140415</td>\n",
       "      <td>2021-08-10</td>\n",
       "      <td>2021-08-10</td>\n",
       "      <td>NaN</td>\n",
       "      <td>Victoria</td>\n",
       "      <td>-33.860000</td>\n",
       "      <td>151.209400</td>\n",
       "      <td>Car</td>\n",
       "      <td>23</td>\n",
       "      <td>2 hours</td>\n",
       "      <td>Yes</td>\n",
       "      <td>2021-08-10</td>\n",
       "      <td>30</td>\n",
       "      <td>30 to 34</td>\n",
       "      <td>male</td>\n",
       "      <td>1</td>\n",
       "    </tr>\n",
       "    <tr>\n",
       "      <th>4</th>\n",
       "      <td>33333</td>\n",
       "      <td>VIC</td>\n",
       "      <td>-37.775968</td>\n",
       "      <td>144.949683</td>\n",
       "      <td>1140415</td>\n",
       "      <td>2021-08-10</td>\n",
       "      <td>2021-08-10</td>\n",
       "      <td>NaN</td>\n",
       "      <td>Victoria</td>\n",
       "      <td>-37.726564</td>\n",
       "      <td>145.001440</td>\n",
       "      <td>Car</td>\n",
       "      <td>23</td>\n",
       "      <td>2 hours</td>\n",
       "      <td>Yes</td>\n",
       "      <td>2021-08-10</td>\n",
       "      <td>30</td>\n",
       "      <td>30 to 34</td>\n",
       "      <td>male</td>\n",
       "      <td>1</td>\n",
       "    </tr>\n",
       "  </tbody>\n",
       "</table>\n",
       "</div>"
      ],
      "text/plain": [
       "   Members ID Addresses State  Addresses Latitude  Addresses Longitude  Trips ID Trips Created Date Trips End Date  Cars ID Trips - Homezone (at time of booking) State  Trips - Homezone (at time of booking) Latitude  Trips - Homezone (at time of booking) Longitude Cars Body Type Class  Trips Billing Distance Trips Hours Duration Trips Completed (Yes / No) Trips Start Date  Members Age Members Age Tier Applicants Gender  Trips Count\n",
       "0        1001             NSW          -33.805412           151.260579   1090474         2021-06-01     2021-09-08      2.0                                  Queensland                                      -16.900039                                       145.758048            SUV / 4WD                       0            168 hours                         No       2021-09-01           42         35 to 44               NaN            1\n",
       "1       33333             VIC          -37.775968           144.949683   1159098         2021-09-11     2021-09-12      NaN                                    Victoria                                      -37.737681                                       145.009625                  Car                      34             23 hours                        Yes       2021-09-11           30         30 to 34              male            1\n",
       "2       33333             VIC          -37.775968           144.949683   1150218         2021-08-27     2021-08-28      NaN                                    Victoria                                      -37.737681                                       145.009625                  Car                      97             23 hours                        Yes       2021-08-27           30         30 to 34              male            1\n",
       "3       33333             VIC          -37.775968           144.949683   1140415         2021-08-10     2021-08-10      NaN                                    Victoria                                      -33.860000                                       151.209400                  Car                      23              2 hours                        Yes       2021-08-10           30         30 to 34              male            1\n",
       "4       33333             VIC          -37.775968           144.949683   1140415         2021-08-10     2021-08-10      NaN                                    Victoria                                      -37.726564                                       145.001440                  Car                      23              2 hours                        Yes       2021-08-10           30         30 to 34              male            1"
      ]
     },
     "execution_count": 130,
     "metadata": {},
     "output_type": "execute_result"
    }
   ],
   "source": [
    "trip_details.head()"
   ]
  },
  {
   "cell_type": "code",
   "execution_count": 131,
   "metadata": {
    "ExecuteTime": {
     "end_time": "2021-09-22T18:21:00.596106Z",
     "start_time": "2021-09-22T18:21:00.581104Z"
    },
    "colab": {
     "base_uri": "https://localhost:8080/"
    },
    "id": "LjUE7GOg6kEF",
    "outputId": "52799d6d-071a-4a83-d768-c7d8d06d79b7"
   },
   "outputs": [
    {
     "data": {
      "text/plain": [
       "['Members ID',\n",
       " 'Addresses State',\n",
       " 'Addresses Latitude',\n",
       " 'Addresses Longitude',\n",
       " 'Trips ID',\n",
       " 'Trips Created Date',\n",
       " 'Trips End Date',\n",
       " 'Cars ID',\n",
       " 'Trips - Homezone (at time of booking) State',\n",
       " 'Trips - Homezone (at time of booking) Latitude',\n",
       " 'Trips - Homezone (at time of booking) Longitude',\n",
       " 'Cars Body Type Class',\n",
       " 'Trips Billing Distance',\n",
       " 'Trips Hours Duration',\n",
       " 'Trips Completed (Yes / No)',\n",
       " 'Trips Start Date',\n",
       " 'Members Age',\n",
       " 'Members Age Tier',\n",
       " 'Applicants Gender',\n",
       " 'Trips Count']"
      ]
     },
     "execution_count": 131,
     "metadata": {},
     "output_type": "execute_result"
    }
   ],
   "source": [
    "trip_details.columns.to_list()"
   ]
  },
  {
   "cell_type": "code",
   "execution_count": 132,
   "metadata": {
    "ExecuteTime": {
     "end_time": "2021-09-22T18:21:01.042206Z",
     "start_time": "2021-09-22T18:21:01.027203Z"
    },
    "id": "4qaq1iCH6Txl"
   },
   "outputs": [],
   "source": [
    "trip_details.columns = ['member_id',\n",
    " 'member_state',\n",
    " 'member_lat',\n",
    " 'member_lon',\n",
    " 'trip_id',\n",
    " 'trip_created',\n",
    " 'trip_end',\n",
    " 'car_id',\n",
    " 'car_state',\n",
    " 'car_lat',\n",
    " 'car_lon',\n",
    " 'car_type',\n",
    " 'trip_distance',\n",
    " 'trip_duration',\n",
    " 'trip_completed',\n",
    " 'trip_start',\n",
    " 'age',\n",
    " 'age_tier',\n",
    " 'gender',\n",
    " 'count']"
   ]
  },
  {
   "cell_type": "code",
   "execution_count": 133,
   "metadata": {
    "ExecuteTime": {
     "end_time": "2021-09-22T18:21:01.454299Z",
     "start_time": "2021-09-22T18:21:01.440296Z"
    },
    "colab": {
     "base_uri": "https://localhost:8080/"
    },
    "id": "MGvkMCDWLMKv",
    "outputId": "a1f2602a-8dd8-4b96-fd30-a227e2f49252"
   },
   "outputs": [
    {
     "data": {
      "text/plain": [
       "member_id           int64\n",
       "member_state       object\n",
       "member_lat        float64\n",
       "member_lon        float64\n",
       "trip_id             int64\n",
       "trip_created       object\n",
       "trip_end           object\n",
       "car_id            float64\n",
       "car_state          object\n",
       "car_lat           float64\n",
       "car_lon           float64\n",
       "car_type           object\n",
       "trip_distance       int64\n",
       "trip_duration      object\n",
       "trip_completed     object\n",
       "trip_start         object\n",
       "age                 int64\n",
       "age_tier           object\n",
       "gender             object\n",
       "count               int64\n",
       "dtype: object"
      ]
     },
     "execution_count": 133,
     "metadata": {},
     "output_type": "execute_result"
    }
   ],
   "source": [
    "trip_details.dtypes"
   ]
  },
  {
   "cell_type": "code",
   "execution_count": 134,
   "metadata": {
    "ExecuteTime": {
     "end_time": "2021-09-22T18:21:01.852388Z",
     "start_time": "2021-09-22T18:21:01.837386Z"
    },
    "colab": {
     "base_uri": "https://localhost:8080/",
     "height": 202
    },
    "id": "qK17JO6QHfJP",
    "outputId": "d7c055d4-4646-4807-f2bd-ae6a918603d2"
   },
   "outputs": [
    {
     "data": {
      "text/html": [
       "<div>\n",
       "<style scoped>\n",
       "    .dataframe tbody tr th:only-of-type {\n",
       "        vertical-align: middle;\n",
       "    }\n",
       "\n",
       "    .dataframe tbody tr th {\n",
       "        vertical-align: top;\n",
       "    }\n",
       "\n",
       "    .dataframe thead th {\n",
       "        text-align: right;\n",
       "    }\n",
       "</style>\n",
       "<table border=\"1\" class=\"dataframe\">\n",
       "  <thead>\n",
       "    <tr style=\"text-align: right;\">\n",
       "      <th></th>\n",
       "      <th>member_id</th>\n",
       "      <th>member_state</th>\n",
       "      <th>member_lat</th>\n",
       "      <th>member_lon</th>\n",
       "      <th>trip_id</th>\n",
       "      <th>trip_created</th>\n",
       "      <th>trip_end</th>\n",
       "      <th>car_id</th>\n",
       "      <th>car_state</th>\n",
       "      <th>car_lat</th>\n",
       "      <th>car_lon</th>\n",
       "      <th>car_type</th>\n",
       "      <th>trip_distance</th>\n",
       "      <th>trip_duration</th>\n",
       "      <th>trip_completed</th>\n",
       "      <th>trip_start</th>\n",
       "      <th>age</th>\n",
       "      <th>age_tier</th>\n",
       "      <th>gender</th>\n",
       "      <th>count</th>\n",
       "    </tr>\n",
       "  </thead>\n",
       "  <tbody>\n",
       "    <tr>\n",
       "      <th>0</th>\n",
       "      <td>1001</td>\n",
       "      <td>NSW</td>\n",
       "      <td>-33.805412</td>\n",
       "      <td>151.260579</td>\n",
       "      <td>1090474</td>\n",
       "      <td>2021-06-01</td>\n",
       "      <td>2021-09-08</td>\n",
       "      <td>2.0</td>\n",
       "      <td>Queensland</td>\n",
       "      <td>-16.900039</td>\n",
       "      <td>145.758048</td>\n",
       "      <td>SUV / 4WD</td>\n",
       "      <td>0</td>\n",
       "      <td>168 hours</td>\n",
       "      <td>No</td>\n",
       "      <td>2021-09-01</td>\n",
       "      <td>42</td>\n",
       "      <td>35 to 44</td>\n",
       "      <td>NaN</td>\n",
       "      <td>1</td>\n",
       "    </tr>\n",
       "    <tr>\n",
       "      <th>1</th>\n",
       "      <td>33333</td>\n",
       "      <td>VIC</td>\n",
       "      <td>-37.775968</td>\n",
       "      <td>144.949683</td>\n",
       "      <td>1159098</td>\n",
       "      <td>2021-09-11</td>\n",
       "      <td>2021-09-12</td>\n",
       "      <td>NaN</td>\n",
       "      <td>Victoria</td>\n",
       "      <td>-37.737681</td>\n",
       "      <td>145.009625</td>\n",
       "      <td>Car</td>\n",
       "      <td>34</td>\n",
       "      <td>23 hours</td>\n",
       "      <td>Yes</td>\n",
       "      <td>2021-09-11</td>\n",
       "      <td>30</td>\n",
       "      <td>30 to 34</td>\n",
       "      <td>male</td>\n",
       "      <td>1</td>\n",
       "    </tr>\n",
       "    <tr>\n",
       "      <th>2</th>\n",
       "      <td>33333</td>\n",
       "      <td>VIC</td>\n",
       "      <td>-37.775968</td>\n",
       "      <td>144.949683</td>\n",
       "      <td>1150218</td>\n",
       "      <td>2021-08-27</td>\n",
       "      <td>2021-08-28</td>\n",
       "      <td>NaN</td>\n",
       "      <td>Victoria</td>\n",
       "      <td>-37.737681</td>\n",
       "      <td>145.009625</td>\n",
       "      <td>Car</td>\n",
       "      <td>97</td>\n",
       "      <td>23 hours</td>\n",
       "      <td>Yes</td>\n",
       "      <td>2021-08-27</td>\n",
       "      <td>30</td>\n",
       "      <td>30 to 34</td>\n",
       "      <td>male</td>\n",
       "      <td>1</td>\n",
       "    </tr>\n",
       "    <tr>\n",
       "      <th>3</th>\n",
       "      <td>33333</td>\n",
       "      <td>VIC</td>\n",
       "      <td>-37.775968</td>\n",
       "      <td>144.949683</td>\n",
       "      <td>1140415</td>\n",
       "      <td>2021-08-10</td>\n",
       "      <td>2021-08-10</td>\n",
       "      <td>NaN</td>\n",
       "      <td>Victoria</td>\n",
       "      <td>-33.860000</td>\n",
       "      <td>151.209400</td>\n",
       "      <td>Car</td>\n",
       "      <td>23</td>\n",
       "      <td>2 hours</td>\n",
       "      <td>Yes</td>\n",
       "      <td>2021-08-10</td>\n",
       "      <td>30</td>\n",
       "      <td>30 to 34</td>\n",
       "      <td>male</td>\n",
       "      <td>1</td>\n",
       "    </tr>\n",
       "    <tr>\n",
       "      <th>4</th>\n",
       "      <td>33333</td>\n",
       "      <td>VIC</td>\n",
       "      <td>-37.775968</td>\n",
       "      <td>144.949683</td>\n",
       "      <td>1140415</td>\n",
       "      <td>2021-08-10</td>\n",
       "      <td>2021-08-10</td>\n",
       "      <td>NaN</td>\n",
       "      <td>Victoria</td>\n",
       "      <td>-37.726564</td>\n",
       "      <td>145.001440</td>\n",
       "      <td>Car</td>\n",
       "      <td>23</td>\n",
       "      <td>2 hours</td>\n",
       "      <td>Yes</td>\n",
       "      <td>2021-08-10</td>\n",
       "      <td>30</td>\n",
       "      <td>30 to 34</td>\n",
       "      <td>male</td>\n",
       "      <td>1</td>\n",
       "    </tr>\n",
       "  </tbody>\n",
       "</table>\n",
       "</div>"
      ],
      "text/plain": [
       "   member_id member_state  member_lat  member_lon  trip_id trip_created    trip_end  car_id   car_state    car_lat     car_lon   car_type  trip_distance trip_duration trip_completed  trip_start  age  age_tier gender  count\n",
       "0       1001          NSW  -33.805412  151.260579  1090474   2021-06-01  2021-09-08     2.0  Queensland -16.900039  145.758048  SUV / 4WD              0     168 hours             No  2021-09-01   42  35 to 44    NaN      1\n",
       "1      33333          VIC  -37.775968  144.949683  1159098   2021-09-11  2021-09-12     NaN    Victoria -37.737681  145.009625        Car             34      23 hours            Yes  2021-09-11   30  30 to 34   male      1\n",
       "2      33333          VIC  -37.775968  144.949683  1150218   2021-08-27  2021-08-28     NaN    Victoria -37.737681  145.009625        Car             97      23 hours            Yes  2021-08-27   30  30 to 34   male      1\n",
       "3      33333          VIC  -37.775968  144.949683  1140415   2021-08-10  2021-08-10     NaN    Victoria -33.860000  151.209400        Car             23       2 hours            Yes  2021-08-10   30  30 to 34   male      1\n",
       "4      33333          VIC  -37.775968  144.949683  1140415   2021-08-10  2021-08-10     NaN    Victoria -37.726564  145.001440        Car             23       2 hours            Yes  2021-08-10   30  30 to 34   male      1"
      ]
     },
     "execution_count": 134,
     "metadata": {},
     "output_type": "execute_result"
    }
   ],
   "source": [
    "trip_details.head()"
   ]
  },
  {
   "cell_type": "markdown",
   "metadata": {
    "id": "HcLpRpYt47Nh"
   },
   "source": [
    "# Initial data checks"
   ]
  },
  {
   "cell_type": "markdown",
   "metadata": {
    "id": "QxOTb0uWHrA4"
   },
   "source": [
    "How many trips had null as car id"
   ]
  },
  {
   "cell_type": "code",
   "execution_count": 135,
   "metadata": {
    "ExecuteTime": {
     "end_time": "2021-09-22T18:21:05.349175Z",
     "start_time": "2021-09-22T18:21:05.187138Z"
    },
    "colab": {
     "base_uri": "https://localhost:8080/",
     "height": 141
    },
    "id": "ZcRbCkVQ49CE",
    "outputId": "07d42e41-72de-419e-a272-e34bb761ef74"
   },
   "outputs": [
    {
     "data": {
      "text/html": [
       "<div>\n",
       "<style scoped>\n",
       "    .dataframe tbody tr th:only-of-type {\n",
       "        vertical-align: middle;\n",
       "    }\n",
       "\n",
       "    .dataframe tbody tr th {\n",
       "        vertical-align: top;\n",
       "    }\n",
       "\n",
       "    .dataframe thead th {\n",
       "        text-align: right;\n",
       "    }\n",
       "</style>\n",
       "<table border=\"1\" class=\"dataframe\">\n",
       "  <thead>\n",
       "    <tr style=\"text-align: right;\">\n",
       "      <th></th>\n",
       "      <th>member_id</th>\n",
       "    </tr>\n",
       "    <tr>\n",
       "      <th>trip_completed</th>\n",
       "      <th></th>\n",
       "    </tr>\n",
       "  </thead>\n",
       "  <tbody>\n",
       "    <tr>\n",
       "      <th>No</th>\n",
       "      <td>28178</td>\n",
       "    </tr>\n",
       "    <tr>\n",
       "      <th>Yes</th>\n",
       "      <td>250690</td>\n",
       "    </tr>\n",
       "  </tbody>\n",
       "</table>\n",
       "</div>"
      ],
      "text/plain": [
       "                member_id\n",
       "trip_completed           \n",
       "No                  28178\n",
       "Yes                250690"
      ]
     },
     "execution_count": 135,
     "metadata": {},
     "output_type": "execute_result"
    }
   ],
   "source": [
    "trip_details[trip_details['car_id'].isnull()].groupby('trip_completed').count()[['member_id']]"
   ]
  },
  {
   "cell_type": "markdown",
   "metadata": {
    "id": "YwHYKznlHvlJ"
   },
   "source": [
    "How many trips had available car id"
   ]
  },
  {
   "cell_type": "code",
   "execution_count": 136,
   "metadata": {
    "ExecuteTime": {
     "end_time": "2021-09-22T18:21:05.764267Z",
     "start_time": "2021-09-22T18:21:05.734262Z"
    },
    "colab": {
     "base_uri": "https://localhost:8080/",
     "height": 141
    },
    "id": "MnCrK0XiHSlm",
    "outputId": "83127cff-0ec2-40a7-8021-ae50e6e7fedb"
   },
   "outputs": [
    {
     "data": {
      "text/html": [
       "<div>\n",
       "<style scoped>\n",
       "    .dataframe tbody tr th:only-of-type {\n",
       "        vertical-align: middle;\n",
       "    }\n",
       "\n",
       "    .dataframe tbody tr th {\n",
       "        vertical-align: top;\n",
       "    }\n",
       "\n",
       "    .dataframe thead th {\n",
       "        text-align: right;\n",
       "    }\n",
       "</style>\n",
       "<table border=\"1\" class=\"dataframe\">\n",
       "  <thead>\n",
       "    <tr style=\"text-align: right;\">\n",
       "      <th></th>\n",
       "      <th>member_id</th>\n",
       "    </tr>\n",
       "    <tr>\n",
       "      <th>trip_completed</th>\n",
       "      <th></th>\n",
       "    </tr>\n",
       "  </thead>\n",
       "  <tbody>\n",
       "    <tr>\n",
       "      <th>No</th>\n",
       "      <td>2661</td>\n",
       "    </tr>\n",
       "    <tr>\n",
       "      <th>Yes</th>\n",
       "      <td>16342</td>\n",
       "    </tr>\n",
       "  </tbody>\n",
       "</table>\n",
       "</div>"
      ],
      "text/plain": [
       "                member_id\n",
       "trip_completed           \n",
       "No                   2661\n",
       "Yes                 16342"
      ]
     },
     "execution_count": 136,
     "metadata": {},
     "output_type": "execute_result"
    }
   ],
   "source": [
    "trip_details[~(trip_details['car_id'].isnull())].groupby('trip_completed').count()[['member_id']]"
   ]
  },
  {
   "cell_type": "markdown",
   "metadata": {
    "id": "b9yFE3MSH8lc"
   },
   "source": [
    "Looking at top 10 member states"
   ]
  },
  {
   "cell_type": "code",
   "execution_count": 137,
   "metadata": {
    "ExecuteTime": {
     "end_time": "2021-09-22T18:21:06.531440Z",
     "start_time": "2021-09-22T18:21:06.390408Z"
    },
    "colab": {
     "base_uri": "https://localhost:8080/",
     "height": 385
    },
    "id": "NLbtLFL1HaW3",
    "outputId": "78034eda-7c75-4b91-ed88-65b2124507aa"
   },
   "outputs": [
    {
     "data": {
      "text/html": [
       "<div>\n",
       "<style scoped>\n",
       "    .dataframe tbody tr th:only-of-type {\n",
       "        vertical-align: middle;\n",
       "    }\n",
       "\n",
       "    .dataframe tbody tr th {\n",
       "        vertical-align: top;\n",
       "    }\n",
       "\n",
       "    .dataframe thead th {\n",
       "        text-align: right;\n",
       "    }\n",
       "</style>\n",
       "<table border=\"1\" class=\"dataframe\">\n",
       "  <thead>\n",
       "    <tr style=\"text-align: right;\">\n",
       "      <th></th>\n",
       "      <th>member_id</th>\n",
       "    </tr>\n",
       "    <tr>\n",
       "      <th>member_state</th>\n",
       "      <th></th>\n",
       "    </tr>\n",
       "  </thead>\n",
       "  <tbody>\n",
       "    <tr>\n",
       "      <th>NSW</th>\n",
       "      <td>152367</td>\n",
       "    </tr>\n",
       "    <tr>\n",
       "      <th>VIC</th>\n",
       "      <td>104575</td>\n",
       "    </tr>\n",
       "    <tr>\n",
       "      <th>QLD</th>\n",
       "      <td>31425</td>\n",
       "    </tr>\n",
       "    <tr>\n",
       "      <th>WA</th>\n",
       "      <td>4655</td>\n",
       "    </tr>\n",
       "    <tr>\n",
       "      <th>ACT</th>\n",
       "      <td>2139</td>\n",
       "    </tr>\n",
       "    <tr>\n",
       "      <th>SA</th>\n",
       "      <td>788</td>\n",
       "    </tr>\n",
       "    <tr>\n",
       "      <th>TAS</th>\n",
       "      <td>756</td>\n",
       "    </tr>\n",
       "    <tr>\n",
       "      <th>NT</th>\n",
       "      <td>273</td>\n",
       "    </tr>\n",
       "    <tr>\n",
       "      <th>England</th>\n",
       "      <td>215</td>\n",
       "    </tr>\n",
       "    <tr>\n",
       "      <th>Victoria</th>\n",
       "      <td>89</td>\n",
       "    </tr>\n",
       "  </tbody>\n",
       "</table>\n",
       "</div>"
      ],
      "text/plain": [
       "              member_id\n",
       "member_state           \n",
       "NSW              152367\n",
       "VIC              104575\n",
       "QLD               31425\n",
       "WA                 4655\n",
       "ACT                2139\n",
       "SA                  788\n",
       "TAS                 756\n",
       "NT                  273\n",
       "England             215\n",
       "Victoria             89"
      ]
     },
     "execution_count": 137,
     "metadata": {},
     "output_type": "execute_result"
    }
   ],
   "source": [
    "trip_details.groupby(['member_state']).count()[['member_id']].sort_values('member_id',ascending=False).head(10)"
   ]
  },
  {
   "cell_type": "markdown",
   "metadata": {
    "id": "HJjagXkeIAJi"
   },
   "source": [
    "Breaking down trips based on car types"
   ]
  },
  {
   "cell_type": "code",
   "execution_count": 138,
   "metadata": {
    "ExecuteTime": {
     "end_time": "2021-09-22T18:21:07.370376Z",
     "start_time": "2021-09-22T18:21:07.222344Z"
    },
    "colab": {
     "base_uri": "https://localhost:8080/",
     "height": 202
    },
    "id": "g6bjLTdBHvbB",
    "outputId": "9db3c4ac-6962-41ab-a981-0917ee1c9963"
   },
   "outputs": [
    {
     "data": {
      "text/html": [
       "<div>\n",
       "<style scoped>\n",
       "    .dataframe tbody tr th:only-of-type {\n",
       "        vertical-align: middle;\n",
       "    }\n",
       "\n",
       "    .dataframe tbody tr th {\n",
       "        vertical-align: top;\n",
       "    }\n",
       "\n",
       "    .dataframe thead th {\n",
       "        text-align: right;\n",
       "    }\n",
       "</style>\n",
       "<table border=\"1\" class=\"dataframe\">\n",
       "  <thead>\n",
       "    <tr style=\"text-align: right;\">\n",
       "      <th></th>\n",
       "      <th>member_id</th>\n",
       "    </tr>\n",
       "    <tr>\n",
       "      <th>car_type</th>\n",
       "      <th></th>\n",
       "    </tr>\n",
       "  </thead>\n",
       "  <tbody>\n",
       "    <tr>\n",
       "      <th>Car</th>\n",
       "      <td>291844</td>\n",
       "    </tr>\n",
       "    <tr>\n",
       "      <th>SUV / 4WD</th>\n",
       "      <td>2934</td>\n",
       "    </tr>\n",
       "    <tr>\n",
       "      <th>Van / People Mover</th>\n",
       "      <td>2408</td>\n",
       "    </tr>\n",
       "    <tr>\n",
       "      <th>Ute</th>\n",
       "      <td>685</td>\n",
       "    </tr>\n",
       "  </tbody>\n",
       "</table>\n",
       "</div>"
      ],
      "text/plain": [
       "                    member_id\n",
       "car_type                     \n",
       "Car                    291844\n",
       "SUV / 4WD                2934\n",
       "Van / People Mover       2408\n",
       "Ute                       685"
      ]
     },
     "execution_count": 138,
     "metadata": {},
     "output_type": "execute_result"
    }
   ],
   "source": [
    "trip_details.groupby(['car_type']).count()[['member_id']].sort_values('member_id',ascending=False).head(10)"
   ]
  },
  {
   "cell_type": "markdown",
   "metadata": {
    "id": "1B21vzFWH1xg"
   },
   "source": [
    ".. Only a very small percentage of trips were taken in Ute / Van vehicles"
   ]
  },
  {
   "cell_type": "code",
   "execution_count": 139,
   "metadata": {
    "ExecuteTime": {
     "end_time": "2021-09-22T18:21:07.830479Z",
     "start_time": "2021-09-22T18:21:07.799473Z"
    },
    "colab": {
     "base_uri": "https://localhost:8080/"
    },
    "id": "5W-CqChzK4PT",
    "outputId": "9951384e-a0a1-49ee-9b8d-07512c68b4de"
   },
   "outputs": [
    {
     "name": "stdout",
     "output_type": "stream",
     "text": [
      "Trips with 0 trip distance: 37040\n"
     ]
    }
   ],
   "source": [
    "print(\"Trips with 0 trip distance:\", trip_details[trip_details['trip_distance'] == 0].count()[['count']][0])"
   ]
  },
  {
   "cell_type": "code",
   "execution_count": 140,
   "metadata": {
    "ExecuteTime": {
     "end_time": "2021-09-22T18:21:08.284582Z",
     "start_time": "2021-09-22T18:21:08.239571Z"
    },
    "colab": {
     "base_uri": "https://localhost:8080/",
     "height": 141
    },
    "id": "hWOXw3PRHbOW",
    "outputId": "e13c25ff-8b24-458c-a581-4105f4a15b48"
   },
   "outputs": [
    {
     "data": {
      "text/html": [
       "<div>\n",
       "<style scoped>\n",
       "    .dataframe tbody tr th:only-of-type {\n",
       "        vertical-align: middle;\n",
       "    }\n",
       "\n",
       "    .dataframe tbody tr th {\n",
       "        vertical-align: top;\n",
       "    }\n",
       "\n",
       "    .dataframe thead th {\n",
       "        text-align: right;\n",
       "    }\n",
       "</style>\n",
       "<table border=\"1\" class=\"dataframe\">\n",
       "  <thead>\n",
       "    <tr style=\"text-align: right;\">\n",
       "      <th></th>\n",
       "      <th>member_id</th>\n",
       "    </tr>\n",
       "    <tr>\n",
       "      <th>trip_completed</th>\n",
       "      <th></th>\n",
       "    </tr>\n",
       "  </thead>\n",
       "  <tbody>\n",
       "    <tr>\n",
       "      <th>No</th>\n",
       "      <td>30839</td>\n",
       "    </tr>\n",
       "    <tr>\n",
       "      <th>Yes</th>\n",
       "      <td>6201</td>\n",
       "    </tr>\n",
       "  </tbody>\n",
       "</table>\n",
       "</div>"
      ],
      "text/plain": [
       "                member_id\n",
       "trip_completed           \n",
       "No                  30839\n",
       "Yes                  6201"
      ]
     },
     "execution_count": 140,
     "metadata": {},
     "output_type": "execute_result"
    }
   ],
   "source": [
    " trip_details[trip_details['trip_distance'] == 0].groupby(['trip_completed']).count()[['member_id']]"
   ]
  },
  {
   "cell_type": "markdown",
   "metadata": {
    "id": "o9tBm3USK9Xi"
   },
   "source": [
    ">10 % of trips have 0 trip distance"
   ]
  },
  {
   "cell_type": "code",
   "execution_count": 141,
   "metadata": {
    "ExecuteTime": {
     "end_time": "2021-09-22T18:21:08.732683Z",
     "start_time": "2021-09-22T18:21:08.701675Z"
    },
    "colab": {
     "base_uri": "https://localhost:8080/",
     "height": 385
    },
    "id": "UMumBTsFJ9tQ",
    "outputId": "ae7f3b0e-e53f-4b9a-84b3-25faf5e88709"
   },
   "outputs": [
    {
     "data": {
      "text/html": [
       "<div>\n",
       "<style scoped>\n",
       "    .dataframe tbody tr th:only-of-type {\n",
       "        vertical-align: middle;\n",
       "    }\n",
       "\n",
       "    .dataframe tbody tr th {\n",
       "        vertical-align: top;\n",
       "    }\n",
       "\n",
       "    .dataframe thead th {\n",
       "        text-align: right;\n",
       "    }\n",
       "</style>\n",
       "<table border=\"1\" class=\"dataframe\">\n",
       "  <thead>\n",
       "    <tr style=\"text-align: right;\">\n",
       "      <th></th>\n",
       "      <th>count</th>\n",
       "    </tr>\n",
       "    <tr>\n",
       "      <th>trip_duration</th>\n",
       "      <th></th>\n",
       "    </tr>\n",
       "  </thead>\n",
       "  <tbody>\n",
       "    <tr>\n",
       "      <th>0 hours</th>\n",
       "      <td>5</td>\n",
       "    </tr>\n",
       "    <tr>\n",
       "      <th>1 hour</th>\n",
       "      <td>4574</td>\n",
       "    </tr>\n",
       "    <tr>\n",
       "      <th>10 hours</th>\n",
       "      <td>40</td>\n",
       "    </tr>\n",
       "    <tr>\n",
       "      <th>101 hours</th>\n",
       "      <td>1</td>\n",
       "    </tr>\n",
       "    <tr>\n",
       "      <th>102 hours</th>\n",
       "      <td>1</td>\n",
       "    </tr>\n",
       "    <tr>\n",
       "      <th>11 hours</th>\n",
       "      <td>29</td>\n",
       "    </tr>\n",
       "    <tr>\n",
       "      <th>110 hours</th>\n",
       "      <td>1</td>\n",
       "    </tr>\n",
       "    <tr>\n",
       "      <th>117 hours</th>\n",
       "      <td>1</td>\n",
       "    </tr>\n",
       "    <tr>\n",
       "      <th>118 hours</th>\n",
       "      <td>3</td>\n",
       "    </tr>\n",
       "    <tr>\n",
       "      <th>12 hours</th>\n",
       "      <td>31</td>\n",
       "    </tr>\n",
       "  </tbody>\n",
       "</table>\n",
       "</div>"
      ],
      "text/plain": [
       "               count\n",
       "trip_duration       \n",
       "0 hours            5\n",
       "1 hour          4574\n",
       "10 hours          40\n",
       "101 hours          1\n",
       "102 hours          1\n",
       "11 hours          29\n",
       "110 hours          1\n",
       "117 hours          1\n",
       "118 hours          3\n",
       "12 hours          31"
      ]
     },
     "execution_count": 141,
     "metadata": {},
     "output_type": "execute_result"
    }
   ],
   "source": [
    "trip_details[(trip_details['trip_distance'] == 0) & (trip_details['trip_completed'] == \"Yes\")].groupby('trip_duration').count()[['count']].head(10)"
   ]
  },
  {
   "cell_type": "markdown",
   "metadata": {
    "id": "SbhEFuAOIX7o"
   },
   "source": [
    "Most of the trips with 0 distance only had 1 hour duration. From here, we can safely remove these trips from the analysis"
   ]
  },
  {
   "cell_type": "code",
   "execution_count": 142,
   "metadata": {
    "ExecuteTime": {
     "end_time": "2021-09-22T18:21:09.554006Z",
     "start_time": "2021-09-22T18:21:09.529001Z"
    },
    "scrolled": true
   },
   "outputs": [
    {
     "data": {
      "text/plain": [
       "member_id    0\n",
       "dtype: int64"
      ]
     },
     "execution_count": 142,
     "metadata": {},
     "output_type": "execute_result"
    }
   ],
   "source": [
    "trip_details[trip_details['trip_start'].isnull()].count()[['member_id']]"
   ]
  },
  {
   "cell_type": "markdown",
   "metadata": {
    "id": "RjHWpty2Goeo"
   },
   "source": [
    "# Data Manipulation"
   ]
  },
  {
   "cell_type": "markdown",
   "metadata": {
    "id": "6iTgl4jjHrpf"
   },
   "source": [
    "## Add month column"
   ]
  },
  {
   "cell_type": "code",
   "execution_count": 143,
   "metadata": {
    "ExecuteTime": {
     "end_time": "2021-09-22T18:21:10.372620Z",
     "start_time": "2021-09-22T18:21:10.271587Z"
    },
    "id": "jrw1JfhNHtWW"
   },
   "outputs": [],
   "source": [
    "trip_details['end_month'] = trip_details['trip_end'].str[:7]"
   ]
  },
  {
   "cell_type": "markdown",
   "metadata": {
    "id": "mrA90LPgIJ9m"
   },
   "source": [
    "## Add distance column"
   ]
  },
  {
   "cell_type": "code",
   "execution_count": 144,
   "metadata": {
    "ExecuteTime": {
     "end_time": "2021-09-22T18:21:15.300727Z",
     "start_time": "2021-09-22T18:21:10.818721Z"
    },
    "id": "f91Wn1NDILaK"
   },
   "outputs": [],
   "source": [
    "trip_details['borrower_distance'] = trip_details[['member_lon', 'member_lat', 'car_lon', 'car_lat']].apply(lambda row: haversine(row['member_lon'], row['member_lat'], row['car_lon'], row['car_lat']), axis=1)"
   ]
  },
  {
   "cell_type": "markdown",
   "metadata": {},
   "source": [
    "## Add time to book (time from trip creation to trip start) "
   ]
  },
  {
   "cell_type": "code",
   "execution_count": 145,
   "metadata": {
    "ExecuteTime": {
     "end_time": "2021-09-22T18:21:15.844850Z",
     "start_time": "2021-09-22T18:21:15.701817Z"
    }
   },
   "outputs": [
    {
     "data": {
      "text/html": [
       "<div>\n",
       "<style scoped>\n",
       "    .dataframe tbody tr th:only-of-type {\n",
       "        vertical-align: middle;\n",
       "    }\n",
       "\n",
       "    .dataframe tbody tr th {\n",
       "        vertical-align: top;\n",
       "    }\n",
       "\n",
       "    .dataframe thead th {\n",
       "        text-align: right;\n",
       "    }\n",
       "</style>\n",
       "<table border=\"1\" class=\"dataframe\">\n",
       "  <thead>\n",
       "    <tr style=\"text-align: right;\">\n",
       "      <th></th>\n",
       "      <th>time_to_book</th>\n",
       "    </tr>\n",
       "  </thead>\n",
       "  <tbody>\n",
       "    <tr>\n",
       "      <th>count</th>\n",
       "      <td>297871.000000</td>\n",
       "    </tr>\n",
       "    <tr>\n",
       "      <th>mean</th>\n",
       "      <td>2.616921</td>\n",
       "    </tr>\n",
       "    <tr>\n",
       "      <th>std</th>\n",
       "      <td>12.251915</td>\n",
       "    </tr>\n",
       "    <tr>\n",
       "      <th>min</th>\n",
       "      <td>-105.000000</td>\n",
       "    </tr>\n",
       "    <tr>\n",
       "      <th>25%</th>\n",
       "      <td>0.000000</td>\n",
       "    </tr>\n",
       "    <tr>\n",
       "      <th>50%</th>\n",
       "      <td>1.000000</td>\n",
       "    </tr>\n",
       "    <tr>\n",
       "      <th>75%</th>\n",
       "      <td>2.000000</td>\n",
       "    </tr>\n",
       "    <tr>\n",
       "      <th>max</th>\n",
       "      <td>1840.000000</td>\n",
       "    </tr>\n",
       "  </tbody>\n",
       "</table>\n",
       "</div>"
      ],
      "text/plain": [
       "        time_to_book\n",
       "count  297871.000000\n",
       "mean        2.616921\n",
       "std        12.251915\n",
       "min      -105.000000\n",
       "25%         0.000000\n",
       "50%         1.000000\n",
       "75%         2.000000\n",
       "max      1840.000000"
      ]
     },
     "execution_count": 145,
     "metadata": {},
     "output_type": "execute_result"
    }
   ],
   "source": [
    "trip_details[['trip_created','trip_start']] = trip_details[['trip_created','trip_start']].apply(pd.to_datetime) #if conversion required\n",
    "trip_details['time_to_book'] = (trip_details['trip_start'] - trip_details['trip_created']).dt.days\n",
    "trip_details[['time_to_book']].describe()"
   ]
  },
  {
   "cell_type": "code",
   "execution_count": 146,
   "metadata": {
    "ExecuteTime": {
     "end_time": "2021-09-22T18:21:16.292954Z",
     "start_time": "2021-09-22T18:21:16.229940Z"
    }
   },
   "outputs": [],
   "source": [
    "trip_details = trip_details.drop(index = trip_details[trip_details['time_to_book'] < 0].index)"
   ]
  },
  {
   "cell_type": "code",
   "execution_count": 147,
   "metadata": {
    "ExecuteTime": {
     "end_time": "2021-09-22T18:21:16.692469Z",
     "start_time": "2021-09-22T18:21:16.677465Z"
    }
   },
   "outputs": [
    {
     "data": {
      "text/html": [
       "<div>\n",
       "<style scoped>\n",
       "    .dataframe tbody tr th:only-of-type {\n",
       "        vertical-align: middle;\n",
       "    }\n",
       "\n",
       "    .dataframe tbody tr th {\n",
       "        vertical-align: top;\n",
       "    }\n",
       "\n",
       "    .dataframe thead th {\n",
       "        text-align: right;\n",
       "    }\n",
       "</style>\n",
       "<table border=\"1\" class=\"dataframe\">\n",
       "  <thead>\n",
       "    <tr style=\"text-align: right;\">\n",
       "      <th></th>\n",
       "      <th>time_to_book</th>\n",
       "      <th>trip_distance</th>\n",
       "    </tr>\n",
       "  </thead>\n",
       "  <tbody>\n",
       "    <tr>\n",
       "      <th>time_to_book</th>\n",
       "      <td>1.000000</td>\n",
       "      <td>0.038173</td>\n",
       "    </tr>\n",
       "    <tr>\n",
       "      <th>trip_distance</th>\n",
       "      <td>0.038173</td>\n",
       "      <td>1.000000</td>\n",
       "    </tr>\n",
       "  </tbody>\n",
       "</table>\n",
       "</div>"
      ],
      "text/plain": [
       "               time_to_book  trip_distance\n",
       "time_to_book       1.000000       0.038173\n",
       "trip_distance      0.038173       1.000000"
      ]
     },
     "execution_count": 147,
     "metadata": {},
     "output_type": "execute_result"
    }
   ],
   "source": [
    "trip_details[['time_to_book','trip_distance']].corr()"
   ]
  },
  {
   "cell_type": "markdown",
   "metadata": {
    "id": "sk1C2VvVG7Yj"
   },
   "source": [
    "## Remove borrowers from foreign addresses"
   ]
  },
  {
   "cell_type": "code",
   "execution_count": 148,
   "metadata": {
    "ExecuteTime": {
     "end_time": "2021-09-22T18:21:17.137971Z",
     "start_time": "2021-09-22T18:21:17.074956Z"
    },
    "id": "uxJXSdllGqEI"
   },
   "outputs": [],
   "source": [
    "trip_details = trip_details[trip_details['member_state'].isin(['NSW', 'VIC', 'QLD', 'WA', 'ACT', 'TAS', 'SA', 'NT'])]\n"
   ]
  },
  {
   "cell_type": "markdown",
   "metadata": {
    "id": "DbLWgywBIy5R"
   },
   "source": [
    "## Align car state syntax"
   ]
  },
  {
   "cell_type": "code",
   "execution_count": 149,
   "metadata": {
    "ExecuteTime": {
     "end_time": "2021-09-22T18:21:17.678094Z",
     "start_time": "2021-09-22T18:21:17.522057Z"
    },
    "id": "hLR3d0YDI04_"
   },
   "outputs": [],
   "source": [
    "trip_details.loc[trip_details['car_state'] == 'New South Wales', 'car_state'] = 'NSW'\n",
    "trip_details.loc[trip_details['car_state'] == 'Queensland', 'car_state'] = 'QLD'\n",
    "trip_details.loc[trip_details['car_state'] == 'Victoria', 'car_state'] = 'VIC'\n",
    "trip_details.loc[trip_details['car_state'] == 'Australian Capital Territory', 'car_state'] = 'ACT'\n",
    "trip_details.loc[trip_details['car_state'] == 'Tasmania', 'car_state'] = 'TAS'\n",
    "trip_details.loc[trip_details['car_state'] == 'Western Australia', 'car_state'] = 'WA'\n",
    "trip_details.loc[trip_details['car_state'] == 'South Australia', 'car_state'] = 'SA'\n",
    "trip_details.loc[trip_details['car_state'] == 'Northern Territory', 'car_state'] = 'NT'"
   ]
  },
  {
   "cell_type": "markdown",
   "metadata": {
    "id": "W0hrGidnKRVp"
   },
   "source": [
    "## Fix trip duration column"
   ]
  },
  {
   "cell_type": "code",
   "execution_count": 150,
   "metadata": {
    "ExecuteTime": {
     "end_time": "2021-09-22T18:21:18.692329Z",
     "start_time": "2021-09-22T18:21:18.073189Z"
    },
    "id": "JFrjZz8QKTql",
    "scrolled": true
   },
   "outputs": [],
   "source": [
    "trip_details['trip_duration'] = trip_details['trip_duration'].str.split(' ', expand=True)[0]\n",
    "trip_details['trip_duration'] = trip_details['trip_duration'].astype(int)"
   ]
  },
  {
   "cell_type": "markdown",
   "metadata": {
    "id": "wbG4R3LOHCTr"
   },
   "source": [
    "## Car borrowers"
   ]
  },
  {
   "cell_type": "code",
   "execution_count": 151,
   "metadata": {
    "ExecuteTime": {
     "end_time": "2021-09-22T18:21:19.155994Z",
     "start_time": "2021-09-22T18:21:19.077977Z"
    },
    "id": "PGUsD-oJHGGe"
   },
   "outputs": [],
   "source": [
    "car_borrowers = trip_details[(trip_details['car_type'].isin(['Car','SUV / 4WD'])) & \n",
    "                             (trip_details['trip_completed'] == 'Yes') & \n",
    "                             (trip_details['trip_distance'] > 0)].copy(deep=True)"
   ]
  },
  {
   "cell_type": "markdown",
   "metadata": {
    "id": "QVKPTnPhHDpR"
   },
   "source": [
    "## Van / Ute borrowers"
   ]
  },
  {
   "cell_type": "code",
   "execution_count": 152,
   "metadata": {
    "ExecuteTime": {
     "end_time": "2021-09-22T18:21:19.569989Z",
     "start_time": "2021-09-22T18:21:19.539978Z"
    },
    "code_folding": [],
    "id": "rEC59Bj0HRGf"
   },
   "outputs": [],
   "source": [
    "ute_borrowers = trip_details[trip_details['car_type'].isin(['Van / People Mover','Ute']) & \n",
    "                             (trip_details['trip_completed'] == 'Yes') & \n",
    "                             (trip_details['trip_distance'] > 0)].copy(deep=True)"
   ]
  },
  {
   "cell_type": "code",
   "execution_count": 153,
   "metadata": {
    "ExecuteTime": {
     "end_time": "2021-09-22T18:21:20.055615Z",
     "start_time": "2021-09-22T18:21:20.024608Z"
    }
   },
   "outputs": [
    {
     "data": {
      "text/html": [
       "<div>\n",
       "<style scoped>\n",
       "    .dataframe tbody tr th:only-of-type {\n",
       "        vertical-align: middle;\n",
       "    }\n",
       "\n",
       "    .dataframe tbody tr th {\n",
       "        vertical-align: top;\n",
       "    }\n",
       "\n",
       "    .dataframe thead th {\n",
       "        text-align: right;\n",
       "    }\n",
       "</style>\n",
       "<table border=\"1\" class=\"dataframe\">\n",
       "  <thead>\n",
       "    <tr style=\"text-align: right;\">\n",
       "      <th></th>\n",
       "      <th>member_id</th>\n",
       "      <th>member_state</th>\n",
       "      <th>member_lat</th>\n",
       "      <th>member_lon</th>\n",
       "      <th>trip_id</th>\n",
       "      <th>trip_created</th>\n",
       "      <th>trip_end</th>\n",
       "      <th>car_id</th>\n",
       "      <th>car_state</th>\n",
       "      <th>car_lat</th>\n",
       "      <th>car_lon</th>\n",
       "      <th>car_type</th>\n",
       "      <th>trip_distance</th>\n",
       "      <th>trip_duration</th>\n",
       "      <th>trip_completed</th>\n",
       "      <th>trip_start</th>\n",
       "      <th>age</th>\n",
       "      <th>age_tier</th>\n",
       "      <th>gender</th>\n",
       "      <th>count</th>\n",
       "      <th>end_month</th>\n",
       "      <th>borrower_distance</th>\n",
       "      <th>time_to_book</th>\n",
       "    </tr>\n",
       "  </thead>\n",
       "  <tbody>\n",
       "    <tr>\n",
       "      <th>44</th>\n",
       "      <td>33251</td>\n",
       "      <td>NSW</td>\n",
       "      <td>-33.912221</td>\n",
       "      <td>151.210080</td>\n",
       "      <td>1130804</td>\n",
       "      <td>2021-07-25</td>\n",
       "      <td>2021-07-26</td>\n",
       "      <td>1962.0</td>\n",
       "      <td>NSW</td>\n",
       "      <td>-33.912970</td>\n",
       "      <td>151.210090</td>\n",
       "      <td>Ute</td>\n",
       "      <td>13</td>\n",
       "      <td>1</td>\n",
       "      <td>Yes</td>\n",
       "      <td>2021-07-26</td>\n",
       "      <td>41</td>\n",
       "      <td>35 to 44</td>\n",
       "      <td>male</td>\n",
       "      <td>1</td>\n",
       "      <td>2021-07</td>\n",
       "      <td>0.083290</td>\n",
       "      <td>1</td>\n",
       "    </tr>\n",
       "    <tr>\n",
       "      <th>46</th>\n",
       "      <td>33251</td>\n",
       "      <td>NSW</td>\n",
       "      <td>-33.912221</td>\n",
       "      <td>151.210080</td>\n",
       "      <td>1124772</td>\n",
       "      <td>2021-07-15</td>\n",
       "      <td>2021-07-15</td>\n",
       "      <td>1962.0</td>\n",
       "      <td>NSW</td>\n",
       "      <td>-33.925836</td>\n",
       "      <td>151.199294</td>\n",
       "      <td>Ute</td>\n",
       "      <td>8</td>\n",
       "      <td>1</td>\n",
       "      <td>Yes</td>\n",
       "      <td>2021-07-15</td>\n",
       "      <td>41</td>\n",
       "      <td>35 to 44</td>\n",
       "      <td>male</td>\n",
       "      <td>1</td>\n",
       "      <td>2021-07</td>\n",
       "      <td>1.811761</td>\n",
       "      <td>0</td>\n",
       "    </tr>\n",
       "    <tr>\n",
       "      <th>48</th>\n",
       "      <td>33251</td>\n",
       "      <td>NSW</td>\n",
       "      <td>-33.912221</td>\n",
       "      <td>151.210080</td>\n",
       "      <td>1095827</td>\n",
       "      <td>2021-06-08</td>\n",
       "      <td>2021-06-11</td>\n",
       "      <td>1962.0</td>\n",
       "      <td>NSW</td>\n",
       "      <td>-33.909342</td>\n",
       "      <td>151.205701</td>\n",
       "      <td>Ute</td>\n",
       "      <td>22</td>\n",
       "      <td>1</td>\n",
       "      <td>Yes</td>\n",
       "      <td>2021-06-11</td>\n",
       "      <td>41</td>\n",
       "      <td>35 to 44</td>\n",
       "      <td>male</td>\n",
       "      <td>1</td>\n",
       "      <td>2021-06</td>\n",
       "      <td>0.515539</td>\n",
       "      <td>3</td>\n",
       "    </tr>\n",
       "    <tr>\n",
       "      <th>50</th>\n",
       "      <td>33251</td>\n",
       "      <td>NSW</td>\n",
       "      <td>-33.912221</td>\n",
       "      <td>151.210080</td>\n",
       "      <td>893934</td>\n",
       "      <td>2020-10-11</td>\n",
       "      <td>2020-10-24</td>\n",
       "      <td>1962.0</td>\n",
       "      <td>NSW</td>\n",
       "      <td>-33.930164</td>\n",
       "      <td>151.148591</td>\n",
       "      <td>Ute</td>\n",
       "      <td>236</td>\n",
       "      <td>308</td>\n",
       "      <td>Yes</td>\n",
       "      <td>2020-10-11</td>\n",
       "      <td>41</td>\n",
       "      <td>35 to 44</td>\n",
       "      <td>male</td>\n",
       "      <td>1</td>\n",
       "      <td>2020-10</td>\n",
       "      <td>6.014189</td>\n",
       "      <td>0</td>\n",
       "    </tr>\n",
       "    <tr>\n",
       "      <th>548</th>\n",
       "      <td>33513</td>\n",
       "      <td>NSW</td>\n",
       "      <td>-33.888234</td>\n",
       "      <td>151.137088</td>\n",
       "      <td>902436</td>\n",
       "      <td>2020-10-25</td>\n",
       "      <td>2020-10-25</td>\n",
       "      <td>3981.0</td>\n",
       "      <td>NSW</td>\n",
       "      <td>-33.860101</td>\n",
       "      <td>151.174455</td>\n",
       "      <td>Van / People Mover</td>\n",
       "      <td>18</td>\n",
       "      <td>4</td>\n",
       "      <td>Yes</td>\n",
       "      <td>2020-10-25</td>\n",
       "      <td>26</td>\n",
       "      <td>25 to 29</td>\n",
       "      <td>female</td>\n",
       "      <td>1</td>\n",
       "      <td>2020-10</td>\n",
       "      <td>4.656908</td>\n",
       "      <td>0</td>\n",
       "    </tr>\n",
       "    <tr>\n",
       "      <th>...</th>\n",
       "      <td>...</td>\n",
       "      <td>...</td>\n",
       "      <td>...</td>\n",
       "      <td>...</td>\n",
       "      <td>...</td>\n",
       "      <td>...</td>\n",
       "      <td>...</td>\n",
       "      <td>...</td>\n",
       "      <td>...</td>\n",
       "      <td>...</td>\n",
       "      <td>...</td>\n",
       "      <td>...</td>\n",
       "      <td>...</td>\n",
       "      <td>...</td>\n",
       "      <td>...</td>\n",
       "      <td>...</td>\n",
       "      <td>...</td>\n",
       "      <td>...</td>\n",
       "      <td>...</td>\n",
       "      <td>...</td>\n",
       "      <td>...</td>\n",
       "      <td>...</td>\n",
       "      <td>...</td>\n",
       "    </tr>\n",
       "    <tr>\n",
       "      <th>296157</th>\n",
       "      <td>5843</td>\n",
       "      <td>NSW</td>\n",
       "      <td>-33.888790</td>\n",
       "      <td>151.241441</td>\n",
       "      <td>1030513</td>\n",
       "      <td>2021-03-26</td>\n",
       "      <td>2021-03-26</td>\n",
       "      <td>10534.0</td>\n",
       "      <td>NSW</td>\n",
       "      <td>-33.899142</td>\n",
       "      <td>151.248081</td>\n",
       "      <td>Ute</td>\n",
       "      <td>52</td>\n",
       "      <td>1</td>\n",
       "      <td>Yes</td>\n",
       "      <td>2021-03-26</td>\n",
       "      <td>40</td>\n",
       "      <td>35 to 44</td>\n",
       "      <td>NaN</td>\n",
       "      <td>1</td>\n",
       "      <td>2021-03</td>\n",
       "      <td>1.304077</td>\n",
       "      <td>0</td>\n",
       "    </tr>\n",
       "    <tr>\n",
       "      <th>297576</th>\n",
       "      <td>1322</td>\n",
       "      <td>NSW</td>\n",
       "      <td>-33.909706</td>\n",
       "      <td>151.200281</td>\n",
       "      <td>1055160</td>\n",
       "      <td>2021-04-22</td>\n",
       "      <td>2021-06-14</td>\n",
       "      <td>1870.0</td>\n",
       "      <td>NSW</td>\n",
       "      <td>-28.180103</td>\n",
       "      <td>153.528170</td>\n",
       "      <td>Van / People Mover</td>\n",
       "      <td>565</td>\n",
       "      <td>55</td>\n",
       "      <td>Yes</td>\n",
       "      <td>2021-06-12</td>\n",
       "      <td>56</td>\n",
       "      <td>45 or Above</td>\n",
       "      <td>NaN</td>\n",
       "      <td>1</td>\n",
       "      <td>2021-06</td>\n",
       "      <td>674.533705</td>\n",
       "      <td>51</td>\n",
       "    </tr>\n",
       "    <tr>\n",
       "      <th>297578</th>\n",
       "      <td>1322</td>\n",
       "      <td>NSW</td>\n",
       "      <td>-33.909706</td>\n",
       "      <td>151.200281</td>\n",
       "      <td>906398</td>\n",
       "      <td>2020-10-30</td>\n",
       "      <td>2020-10-31</td>\n",
       "      <td>1870.0</td>\n",
       "      <td>NSW</td>\n",
       "      <td>-33.913133</td>\n",
       "      <td>151.200071</td>\n",
       "      <td>Van / People Mover</td>\n",
       "      <td>16</td>\n",
       "      <td>2</td>\n",
       "      <td>Yes</td>\n",
       "      <td>2020-10-31</td>\n",
       "      <td>56</td>\n",
       "      <td>45 or Above</td>\n",
       "      <td>NaN</td>\n",
       "      <td>1</td>\n",
       "      <td>2020-10</td>\n",
       "      <td>0.381557</td>\n",
       "      <td>1</td>\n",
       "    </tr>\n",
       "    <tr>\n",
       "      <th>297584</th>\n",
       "      <td>1303</td>\n",
       "      <td>NSW</td>\n",
       "      <td>-33.834061</td>\n",
       "      <td>151.228703</td>\n",
       "      <td>988887</td>\n",
       "      <td>2021-02-08</td>\n",
       "      <td>2021-02-09</td>\n",
       "      <td>141686.0</td>\n",
       "      <td>NSW</td>\n",
       "      <td>-33.818003</td>\n",
       "      <td>150.985666</td>\n",
       "      <td>Van / People Mover</td>\n",
       "      <td>294</td>\n",
       "      <td>24</td>\n",
       "      <td>Yes</td>\n",
       "      <td>2021-02-08</td>\n",
       "      <td>41</td>\n",
       "      <td>35 to 44</td>\n",
       "      <td>NaN</td>\n",
       "      <td>1</td>\n",
       "      <td>2021-02</td>\n",
       "      <td>22.520982</td>\n",
       "      <td>0</td>\n",
       "    </tr>\n",
       "    <tr>\n",
       "      <th>297660</th>\n",
       "      <td>1186</td>\n",
       "      <td>NSW</td>\n",
       "      <td>-33.908024</td>\n",
       "      <td>151.235899</td>\n",
       "      <td>1072592</td>\n",
       "      <td>2021-05-11</td>\n",
       "      <td>2021-05-15</td>\n",
       "      <td>193.0</td>\n",
       "      <td>NSW</td>\n",
       "      <td>-33.884765</td>\n",
       "      <td>151.236925</td>\n",
       "      <td>Ute</td>\n",
       "      <td>359</td>\n",
       "      <td>53</td>\n",
       "      <td>Yes</td>\n",
       "      <td>2021-05-13</td>\n",
       "      <td>55</td>\n",
       "      <td>45 or Above</td>\n",
       "      <td>NaN</td>\n",
       "      <td>1</td>\n",
       "      <td>2021-05</td>\n",
       "      <td>2.588016</td>\n",
       "      <td>2</td>\n",
       "    </tr>\n",
       "  </tbody>\n",
       "</table>\n",
       "<p>922 rows × 23 columns</p>\n",
       "</div>"
      ],
      "text/plain": [
       "        member_id member_state  member_lat  member_lon  trip_id trip_created    trip_end    car_id car_state    car_lat     car_lon            car_type  trip_distance  trip_duration trip_completed trip_start  age     age_tier  gender  count end_month  borrower_distance  time_to_book\n",
       "44          33251          NSW  -33.912221  151.210080  1130804   2021-07-25  2021-07-26    1962.0       NSW -33.912970  151.210090                 Ute             13              1            Yes 2021-07-26   41     35 to 44    male      1   2021-07           0.083290             1\n",
       "46          33251          NSW  -33.912221  151.210080  1124772   2021-07-15  2021-07-15    1962.0       NSW -33.925836  151.199294                 Ute              8              1            Yes 2021-07-15   41     35 to 44    male      1   2021-07           1.811761             0\n",
       "48          33251          NSW  -33.912221  151.210080  1095827   2021-06-08  2021-06-11    1962.0       NSW -33.909342  151.205701                 Ute             22              1            Yes 2021-06-11   41     35 to 44    male      1   2021-06           0.515539             3\n",
       "50          33251          NSW  -33.912221  151.210080   893934   2020-10-11  2020-10-24    1962.0       NSW -33.930164  151.148591                 Ute            236            308            Yes 2020-10-11   41     35 to 44    male      1   2020-10           6.014189             0\n",
       "548         33513          NSW  -33.888234  151.137088   902436   2020-10-25  2020-10-25    3981.0       NSW -33.860101  151.174455  Van / People Mover             18              4            Yes 2020-10-25   26     25 to 29  female      1   2020-10           4.656908             0\n",
       "...           ...          ...         ...         ...      ...          ...         ...       ...       ...        ...         ...                 ...            ...            ...            ...        ...  ...          ...     ...    ...       ...                ...           ...\n",
       "296157       5843          NSW  -33.888790  151.241441  1030513   2021-03-26  2021-03-26   10534.0       NSW -33.899142  151.248081                 Ute             52              1            Yes 2021-03-26   40     35 to 44     NaN      1   2021-03           1.304077             0\n",
       "297576       1322          NSW  -33.909706  151.200281  1055160   2021-04-22  2021-06-14    1870.0       NSW -28.180103  153.528170  Van / People Mover            565             55            Yes 2021-06-12   56  45 or Above     NaN      1   2021-06         674.533705            51\n",
       "297578       1322          NSW  -33.909706  151.200281   906398   2020-10-30  2020-10-31    1870.0       NSW -33.913133  151.200071  Van / People Mover             16              2            Yes 2020-10-31   56  45 or Above     NaN      1   2020-10           0.381557             1\n",
       "297584       1303          NSW  -33.834061  151.228703   988887   2021-02-08  2021-02-09  141686.0       NSW -33.818003  150.985666  Van / People Mover            294             24            Yes 2021-02-08   41     35 to 44     NaN      1   2021-02          22.520982             0\n",
       "297660       1186          NSW  -33.908024  151.235899  1072592   2021-05-11  2021-05-15     193.0       NSW -33.884765  151.236925                 Ute            359             53            Yes 2021-05-13   55  45 or Above     NaN      1   2021-05           2.588016             2\n",
       "\n",
       "[922 rows x 23 columns]"
      ]
     },
     "execution_count": 153,
     "metadata": {},
     "output_type": "execute_result"
    }
   ],
   "source": [
    "ute_borrowers[ute_borrowers['member_state'] == 'NSW']"
   ]
  },
  {
   "cell_type": "markdown",
   "metadata": {
    "id": "S0cl1oPFIXUB"
   },
   "source": [
    "# Separate data per state / city"
   ]
  },
  {
   "cell_type": "code",
   "execution_count": 154,
   "metadata": {
    "ExecuteTime": {
     "end_time": "2021-09-22T18:21:20.547725Z",
     "start_time": "2021-09-22T18:21:20.438700Z"
    },
    "colab": {
     "base_uri": "https://localhost:8080/",
     "height": 294
    },
    "id": "VLtqSLyKIXre",
    "outputId": "943c21b6-01b0-4d8e-f1e8-b5521a9ca93f"
   },
   "outputs": [
    {
     "data": {
      "text/html": [
       "<div>\n",
       "<style scoped>\n",
       "    .dataframe tbody tr th:only-of-type {\n",
       "        vertical-align: middle;\n",
       "    }\n",
       "\n",
       "    .dataframe tbody tr th {\n",
       "        vertical-align: top;\n",
       "    }\n",
       "\n",
       "    .dataframe thead th {\n",
       "        text-align: right;\n",
       "    }\n",
       "</style>\n",
       "<table border=\"1\" class=\"dataframe\">\n",
       "  <thead>\n",
       "    <tr style=\"text-align: right;\">\n",
       "      <th></th>\n",
       "      <th>member_id</th>\n",
       "      <th>member_lat</th>\n",
       "      <th>member_lon</th>\n",
       "      <th>trip_id</th>\n",
       "      <th>car_id</th>\n",
       "      <th>car_lat</th>\n",
       "      <th>car_lon</th>\n",
       "      <th>trip_distance</th>\n",
       "      <th>trip_duration</th>\n",
       "      <th>age</th>\n",
       "      <th>count</th>\n",
       "      <th>borrower_distance</th>\n",
       "      <th>time_to_book</th>\n",
       "    </tr>\n",
       "  </thead>\n",
       "  <tbody>\n",
       "    <tr>\n",
       "      <th>count</th>\n",
       "      <td>257668.000000</td>\n",
       "      <td>257147.000000</td>\n",
       "      <td>257147.000000</td>\n",
       "      <td>2.576680e+05</td>\n",
       "      <td>13354.000000</td>\n",
       "      <td>256480.000000</td>\n",
       "      <td>256480.000000</td>\n",
       "      <td>257668.000000</td>\n",
       "      <td>257668.000000</td>\n",
       "      <td>257668.000000</td>\n",
       "      <td>257668.0</td>\n",
       "      <td>255960.000000</td>\n",
       "      <td>257668.000000</td>\n",
       "    </tr>\n",
       "    <tr>\n",
       "      <th>mean</th>\n",
       "      <td>424317.550860</td>\n",
       "      <td>-34.530585</td>\n",
       "      <td>148.575331</td>\n",
       "      <td>1.024897e+06</td>\n",
       "      <td>100161.322450</td>\n",
       "      <td>-34.354174</td>\n",
       "      <td>148.732314</td>\n",
       "      <td>116.488629</td>\n",
       "      <td>25.525308</td>\n",
       "      <td>34.330887</td>\n",
       "      <td>1.0</td>\n",
       "      <td>106.981858</td>\n",
       "      <td>1.766839</td>\n",
       "    </tr>\n",
       "    <tr>\n",
       "      <th>std</th>\n",
       "      <td>214903.655722</td>\n",
       "      <td>3.287599</td>\n",
       "      <td>5.369086</td>\n",
       "      <td>7.902755e+04</td>\n",
       "      <td>68420.291555</td>\n",
       "      <td>3.511773</td>\n",
       "      <td>5.146194</td>\n",
       "      <td>197.360209</td>\n",
       "      <td>61.331837</td>\n",
       "      <td>8.923927</td>\n",
       "      <td>0.0</td>\n",
       "      <td>418.282546</td>\n",
       "      <td>4.348970</td>\n",
       "    </tr>\n",
       "    <tr>\n",
       "      <th>min</th>\n",
       "      <td>1012.000000</td>\n",
       "      <td>-43.337608</td>\n",
       "      <td>-122.567078</td>\n",
       "      <td>8.873580e+05</td>\n",
       "      <td>11.000000</td>\n",
       "      <td>-43.068216</td>\n",
       "      <td>115.692788</td>\n",
       "      <td>1.000000</td>\n",
       "      <td>0.000000</td>\n",
       "      <td>19.000000</td>\n",
       "      <td>1.0</td>\n",
       "      <td>0.000000</td>\n",
       "      <td>0.000000</td>\n",
       "    </tr>\n",
       "    <tr>\n",
       "      <th>25%</th>\n",
       "      <td>245078.250000</td>\n",
       "      <td>-37.779262</td>\n",
       "      <td>145.000508</td>\n",
       "      <td>9.567608e+05</td>\n",
       "      <td>15828.750000</td>\n",
       "      <td>-37.776551</td>\n",
       "      <td>145.003772</td>\n",
       "      <td>25.000000</td>\n",
       "      <td>2.000000</td>\n",
       "      <td>28.000000</td>\n",
       "      <td>1.0</td>\n",
       "      <td>0.627624</td>\n",
       "      <td>0.000000</td>\n",
       "    </tr>\n",
       "    <tr>\n",
       "      <th>50%</th>\n",
       "      <td>485729.500000</td>\n",
       "      <td>-33.905791</td>\n",
       "      <td>151.142912</td>\n",
       "      <td>1.025770e+06</td>\n",
       "      <td>142978.500000</td>\n",
       "      <td>-33.901723</td>\n",
       "      <td>151.160922</td>\n",
       "      <td>53.000000</td>\n",
       "      <td>8.000000</td>\n",
       "      <td>32.000000</td>\n",
       "      <td>1.0</td>\n",
       "      <td>1.945393</td>\n",
       "      <td>1.000000</td>\n",
       "    </tr>\n",
       "    <tr>\n",
       "      <th>75%</th>\n",
       "      <td>603007.250000</td>\n",
       "      <td>-33.863455</td>\n",
       "      <td>151.234777</td>\n",
       "      <td>1.093194e+06</td>\n",
       "      <td>156403.000000</td>\n",
       "      <td>-33.860000</td>\n",
       "      <td>151.238375</td>\n",
       "      <td>123.000000</td>\n",
       "      <td>24.000000</td>\n",
       "      <td>38.000000</td>\n",
       "      <td>1.0</td>\n",
       "      <td>6.565716</td>\n",
       "      <td>2.000000</td>\n",
       "    </tr>\n",
       "    <tr>\n",
       "      <th>max</th>\n",
       "      <td>733365.000000</td>\n",
       "      <td>52.818691</td>\n",
       "      <td>180.000000</td>\n",
       "      <td>1.161963e+06</td>\n",
       "      <td>174855.000000</td>\n",
       "      <td>-12.462360</td>\n",
       "      <td>153.620348</td>\n",
       "      <td>11370.000000</td>\n",
       "      <td>3767.000000</td>\n",
       "      <td>84.000000</td>\n",
       "      <td>1.0</td>\n",
       "      <td>17318.774541</td>\n",
       "      <td>240.000000</td>\n",
       "    </tr>\n",
       "  </tbody>\n",
       "</table>\n",
       "</div>"
      ],
      "text/plain": [
       "           member_id     member_lat     member_lon       trip_id         car_id        car_lat        car_lon  trip_distance  trip_duration            age     count  borrower_distance   time_to_book\n",
       "count  257668.000000  257147.000000  257147.000000  2.576680e+05   13354.000000  256480.000000  256480.000000  257668.000000  257668.000000  257668.000000  257668.0      255960.000000  257668.000000\n",
       "mean   424317.550860     -34.530585     148.575331  1.024897e+06  100161.322450     -34.354174     148.732314     116.488629      25.525308      34.330887       1.0         106.981858       1.766839\n",
       "std    214903.655722       3.287599       5.369086  7.902755e+04   68420.291555       3.511773       5.146194     197.360209      61.331837       8.923927       0.0         418.282546       4.348970\n",
       "min      1012.000000     -43.337608    -122.567078  8.873580e+05      11.000000     -43.068216     115.692788       1.000000       0.000000      19.000000       1.0           0.000000       0.000000\n",
       "25%    245078.250000     -37.779262     145.000508  9.567608e+05   15828.750000     -37.776551     145.003772      25.000000       2.000000      28.000000       1.0           0.627624       0.000000\n",
       "50%    485729.500000     -33.905791     151.142912  1.025770e+06  142978.500000     -33.901723     151.160922      53.000000       8.000000      32.000000       1.0           1.945393       1.000000\n",
       "75%    603007.250000     -33.863455     151.234777  1.093194e+06  156403.000000     -33.860000     151.238375     123.000000      24.000000      38.000000       1.0           6.565716       2.000000\n",
       "max    733365.000000      52.818691     180.000000  1.161963e+06  174855.000000     -12.462360     153.620348   11370.000000    3767.000000      84.000000       1.0       17318.774541     240.000000"
      ]
     },
     "execution_count": 154,
     "metadata": {},
     "output_type": "execute_result"
    }
   ],
   "source": [
    "car_borrowers.describe()"
   ]
  },
  {
   "cell_type": "code",
   "execution_count": 155,
   "metadata": {
    "ExecuteTime": {
     "end_time": "2021-09-22T18:21:20.971819Z",
     "start_time": "2021-09-22T18:21:20.924810Z"
    },
    "id": "bWd6o_ZKIW-g"
   },
   "outputs": [],
   "source": [
    "car_NSW = car_borrowers[car_borrowers['car_state'].isin(['NSW'])].copy(deep=True) "
   ]
  },
  {
   "cell_type": "markdown",
   "metadata": {},
   "source": [
    "## Define the feature variables "
   ]
  },
  {
   "cell_type": "code",
   "execution_count": 36,
   "metadata": {
    "ExecuteTime": {
     "end_time": "2021-09-20T06:58:23.182540Z",
     "start_time": "2021-09-20T06:58:23.166307Z"
    },
    "id": "pxr60ndwLZwk"
   },
   "outputs": [],
   "source": [
    "X = car_NSW[['borrower_distance', 'trip_duration', 'trip_distance','time_to_book']]"
   ]
  },
  {
   "cell_type": "code",
   "execution_count": 37,
   "metadata": {
    "ExecuteTime": {
     "end_time": "2021-09-20T06:58:23.222700Z",
     "start_time": "2021-09-20T06:58:23.183095Z"
    }
   },
   "outputs": [
    {
     "data": {
      "text/plain": [
       "borrower_distance    818.818392\n",
       "trip_duration        215.000000\n",
       "trip_distance        781.000000\n",
       "time_to_book          17.000000\n",
       "Name: 0.99, dtype: float64"
      ]
     },
     "execution_count": 37,
     "metadata": {},
     "output_type": "execute_result"
    }
   ],
   "source": [
    "X.quantile(.99)"
   ]
  },
  {
   "cell_type": "code",
   "execution_count": 38,
   "metadata": {
    "ExecuteTime": {
     "end_time": "2021-09-20T06:58:23.347024Z",
     "start_time": "2021-09-20T06:58:23.222700Z"
    },
    "id": "6wggLs4EM2_X"
   },
   "outputs": [],
   "source": [
    "X = X[X['borrower_distance'] <= X.quantile(.99)[0]]\n",
    "X = X[X['trip_duration'] <= X.quantile(.99)[1]]\n",
    "X = X[X['trip_distance'] <= X.quantile(.99)[2]]"
   ]
  },
  {
   "cell_type": "code",
   "execution_count": 39,
   "metadata": {
    "ExecuteTime": {
     "end_time": "2021-09-20T06:58:23.410232Z",
     "start_time": "2021-09-20T06:58:23.347024Z"
    },
    "scrolled": true
   },
   "outputs": [
    {
     "data": {
      "text/html": [
       "<div>\n",
       "<style scoped>\n",
       "    .dataframe tbody tr th:only-of-type {\n",
       "        vertical-align: middle;\n",
       "    }\n",
       "\n",
       "    .dataframe tbody tr th {\n",
       "        vertical-align: top;\n",
       "    }\n",
       "\n",
       "    .dataframe thead th {\n",
       "        text-align: right;\n",
       "    }\n",
       "</style>\n",
       "<table border=\"1\" class=\"dataframe\">\n",
       "  <thead>\n",
       "    <tr style=\"text-align: right;\">\n",
       "      <th></th>\n",
       "      <th>borrower_distance</th>\n",
       "      <th>trip_duration</th>\n",
       "      <th>trip_distance</th>\n",
       "      <th>time_to_book</th>\n",
       "    </tr>\n",
       "  </thead>\n",
       "  <tbody>\n",
       "    <tr>\n",
       "      <th>0</th>\n",
       "      <td>-0.209744</td>\n",
       "      <td>0.158805</td>\n",
       "      <td>-0.475999</td>\n",
       "      <td>-0.395437</td>\n",
       "    </tr>\n",
       "    <tr>\n",
       "      <th>1</th>\n",
       "      <td>-0.212235</td>\n",
       "      <td>-0.623886</td>\n",
       "      <td>-0.771005</td>\n",
       "      <td>-0.395437</td>\n",
       "    </tr>\n",
       "    <tr>\n",
       "      <th>2</th>\n",
       "      <td>-0.209142</td>\n",
       "      <td>-0.549344</td>\n",
       "      <td>0.456599</td>\n",
       "      <td>-0.395437</td>\n",
       "    </tr>\n",
       "    <tr>\n",
       "      <th>3</th>\n",
       "      <td>-0.206985</td>\n",
       "      <td>-0.288447</td>\n",
       "      <td>0.428050</td>\n",
       "      <td>1.881694</td>\n",
       "    </tr>\n",
       "    <tr>\n",
       "      <th>4</th>\n",
       "      <td>-0.214226</td>\n",
       "      <td>0.270618</td>\n",
       "      <td>-0.694874</td>\n",
       "      <td>-0.110796</td>\n",
       "    </tr>\n",
       "    <tr>\n",
       "      <th>...</th>\n",
       "      <td>...</td>\n",
       "      <td>...</td>\n",
       "      <td>...</td>\n",
       "      <td>...</td>\n",
       "    </tr>\n",
       "    <tr>\n",
       "      <th>127744</th>\n",
       "      <td>-0.210462</td>\n",
       "      <td>0.196076</td>\n",
       "      <td>-0.447450</td>\n",
       "      <td>-0.395437</td>\n",
       "    </tr>\n",
       "    <tr>\n",
       "      <th>127745</th>\n",
       "      <td>-0.210462</td>\n",
       "      <td>0.568785</td>\n",
       "      <td>-0.247608</td>\n",
       "      <td>0.458487</td>\n",
       "    </tr>\n",
       "    <tr>\n",
       "      <th>127746</th>\n",
       "      <td>-0.210988</td>\n",
       "      <td>-0.288447</td>\n",
       "      <td>-0.304706</td>\n",
       "      <td>-0.395437</td>\n",
       "    </tr>\n",
       "    <tr>\n",
       "      <th>127747</th>\n",
       "      <td>-0.209050</td>\n",
       "      <td>-0.251176</td>\n",
       "      <td>-0.352287</td>\n",
       "      <td>-0.395437</td>\n",
       "    </tr>\n",
       "    <tr>\n",
       "      <th>127748</th>\n",
       "      <td>-0.212334</td>\n",
       "      <td>-0.400260</td>\n",
       "      <td>0.323370</td>\n",
       "      <td>-0.395437</td>\n",
       "    </tr>\n",
       "  </tbody>\n",
       "</table>\n",
       "<p>127749 rows × 4 columns</p>\n",
       "</div>"
      ],
      "text/plain": [
       "        borrower_distance  trip_duration  trip_distance  time_to_book\n",
       "0               -0.209744       0.158805      -0.475999     -0.395437\n",
       "1               -0.212235      -0.623886      -0.771005     -0.395437\n",
       "2               -0.209142      -0.549344       0.456599     -0.395437\n",
       "3               -0.206985      -0.288447       0.428050      1.881694\n",
       "4               -0.214226       0.270618      -0.694874     -0.110796\n",
       "...                   ...            ...            ...           ...\n",
       "127744          -0.210462       0.196076      -0.447450     -0.395437\n",
       "127745          -0.210462       0.568785      -0.247608      0.458487\n",
       "127746          -0.210988      -0.288447      -0.304706     -0.395437\n",
       "127747          -0.209050      -0.251176      -0.352287     -0.395437\n",
       "127748          -0.212334      -0.400260       0.323370     -0.395437\n",
       "\n",
       "[127749 rows x 4 columns]"
      ]
     },
     "execution_count": 39,
     "metadata": {},
     "output_type": "execute_result"
    }
   ],
   "source": [
    "scaler = StandardScaler()\n",
    "scaler.fit(X)\n",
    "X_scaled = scaler.transform(X)\n",
    "X_scaled = pd.DataFrame(data=X_scaled, columns=X.columns)\n",
    "X_scaled"
   ]
  },
  {
   "cell_type": "markdown",
   "metadata": {},
   "source": [
    "# K-means\n",
    "Test k-means clustering for NSW data using borrower distance and trip duration"
   ]
  },
  {
   "cell_type": "code",
   "execution_count": 40,
   "metadata": {
    "ExecuteTime": {
     "end_time": "2021-09-20T06:58:23.419884Z",
     "start_time": "2021-09-20T06:58:23.410733Z"
    }
   },
   "outputs": [],
   "source": [
    "var1 = 'borrower_distance'\n",
    "var2 = 'trip_distance'"
   ]
  },
  {
   "cell_type": "code",
   "execution_count": 41,
   "metadata": {
    "ExecuteTime": {
     "end_time": "2021-09-20T06:58:27.374781Z",
     "start_time": "2021-09-20T06:58:23.422392Z"
    },
    "id": "HbfhQy0uLl4y"
   },
   "outputs": [],
   "source": [
    "kmeans = KMeans(n_clusters=5, random_state=0).fit(X_scaled[[var1, var2]])"
   ]
  },
  {
   "cell_type": "code",
   "execution_count": 42,
   "metadata": {
    "ExecuteTime": {
     "end_time": "2021-09-20T06:58:27.402381Z",
     "start_time": "2021-09-20T06:58:27.374781Z"
    },
    "colab": {
     "base_uri": "https://localhost:8080/",
     "height": 141
    },
    "id": "kn_544dtNLJB",
    "outputId": "528ebf15-aac9-4706-cf2e-1d854f50b369"
   },
   "outputs": [
    {
     "data": {
      "text/html": [
       "<div>\n",
       "<style scoped>\n",
       "    .dataframe tbody tr th:only-of-type {\n",
       "        vertical-align: middle;\n",
       "    }\n",
       "\n",
       "    .dataframe tbody tr th {\n",
       "        vertical-align: top;\n",
       "    }\n",
       "\n",
       "    .dataframe thead th {\n",
       "        text-align: right;\n",
       "    }\n",
       "</style>\n",
       "<table border=\"1\" class=\"dataframe\">\n",
       "  <thead>\n",
       "    <tr style=\"text-align: right;\">\n",
       "      <th></th>\n",
       "      <th>borrower_distance</th>\n",
       "      <th>trip_distance</th>\n",
       "    </tr>\n",
       "  </thead>\n",
       "  <tbody>\n",
       "    <tr>\n",
       "      <th>0</th>\n",
       "      <td>-0.186585</td>\n",
       "      <td>-0.497821</td>\n",
       "    </tr>\n",
       "    <tr>\n",
       "      <th>1</th>\n",
       "      <td>5.379036</td>\n",
       "      <td>0.436602</td>\n",
       "    </tr>\n",
       "    <tr>\n",
       "      <th>2</th>\n",
       "      <td>-0.168965</td>\n",
       "      <td>1.633118</td>\n",
       "    </tr>\n",
       "    <tr>\n",
       "      <th>3</th>\n",
       "      <td>-0.161198</td>\n",
       "      <td>3.798489</td>\n",
       "    </tr>\n",
       "    <tr>\n",
       "      <th>4</th>\n",
       "      <td>-0.175297</td>\n",
       "      <td>0.252322</td>\n",
       "    </tr>\n",
       "  </tbody>\n",
       "</table>\n",
       "</div>"
      ],
      "text/plain": [
       "   borrower_distance  trip_distance\n",
       "0          -0.186585      -0.497821\n",
       "1           5.379036       0.436602\n",
       "2          -0.168965       1.633118\n",
       "3          -0.161198       3.798489\n",
       "4          -0.175297       0.252322"
      ]
     },
     "execution_count": 42,
     "metadata": {},
     "output_type": "execute_result"
    }
   ],
   "source": [
    "cluster_centers = pd.DataFrame(columns=[var1, var2], data = kmeans.cluster_centers_)\n",
    "cluster_centers"
   ]
  },
  {
   "cell_type": "code",
   "execution_count": 43,
   "metadata": {
    "ExecuteTime": {
     "end_time": "2021-09-20T06:58:27.423571Z",
     "start_time": "2021-09-20T06:58:27.405178Z"
    },
    "colab": {
     "base_uri": "https://localhost:8080/"
    },
    "id": "NrIuhH1fR_Oz",
    "outputId": "a607f829-4fcb-4a5e-8256-5a3b4f9a0927"
   },
   "outputs": [
    {
     "data": {
      "text/plain": [
       "borrower_distance    float64\n",
       "trip_distance        float64\n",
       "dtype: object"
      ]
     },
     "execution_count": 43,
     "metadata": {},
     "output_type": "execute_result"
    }
   ],
   "source": [
    "cluster_centers.dtypes"
   ]
  },
  {
   "cell_type": "code",
   "execution_count": 44,
   "metadata": {
    "ExecuteTime": {
     "end_time": "2021-09-20T06:58:27.918882Z",
     "start_time": "2021-09-20T06:58:27.427287Z"
    },
    "colab": {
     "base_uri": "https://localhost:8080/",
     "height": 297
    },
    "id": "rQoWiEHIR0eS",
    "outputId": "9c0b8499-8504-4174-cba0-38f781a8b348"
   },
   "outputs": [
    {
     "data": {
      "text/plain": [
       "<AxesSubplot:xlabel='borrower_distance', ylabel='trip_distance'>"
      ]
     },
     "execution_count": 44,
     "metadata": {},
     "output_type": "execute_result"
    },
    {
     "data": {
      "image/png": "[encoded data removed]",
      "text/plain": [
       "<Figure size 360x360 with 1 Axes>"
      ]
     },
     "metadata": {
      "needs_background": "light"
     },
     "output_type": "display_data"
    }
   ],
   "source": [
    "plt.figure(figsize=(5,5))\n",
    "sns.scatterplot(data=cluster_centers, x=var1, y=var2)"
   ]
  },
  {
   "cell_type": "code",
   "execution_count": 45,
   "metadata": {
    "ExecuteTime": {
     "end_time": "2021-09-20T06:58:27.943653Z",
     "start_time": "2021-09-20T06:58:27.922685Z"
    },
    "id": "9TOQIJ-aNQm2"
   },
   "outputs": [],
   "source": [
    "X['kmeans'] = kmeans.labels_"
   ]
  },
  {
   "cell_type": "code",
   "execution_count": 46,
   "metadata": {
    "ExecuteTime": {
     "end_time": "2021-09-20T06:58:28.048975Z",
     "start_time": "2021-09-20T06:58:27.943653Z"
    },
    "colab": {
     "base_uri": "https://localhost:8080/",
     "height": 171
    },
    "id": "yCSWre_HNTg6",
    "outputId": "6bcd713b-557e-49b6-bbdb-9b986b6dc83d"
   },
   "outputs": [
    {
     "data": {
      "text/html": [
       "<div>\n",
       "<style scoped>\n",
       "    .dataframe tbody tr th:only-of-type {\n",
       "        vertical-align: middle;\n",
       "    }\n",
       "\n",
       "    .dataframe tbody tr th {\n",
       "        vertical-align: top;\n",
       "    }\n",
       "\n",
       "    .dataframe thead tr th {\n",
       "        text-align: left;\n",
       "    }\n",
       "\n",
       "    .dataframe thead tr:last-of-type th {\n",
       "        text-align: right;\n",
       "    }\n",
       "</style>\n",
       "<table border=\"1\" class=\"dataframe\">\n",
       "  <thead>\n",
       "    <tr>\n",
       "      <th></th>\n",
       "      <th colspan=\"2\" halign=\"left\">borrower_distance</th>\n",
       "      <th colspan=\"2\" halign=\"left\">trip_duration</th>\n",
       "      <th colspan=\"2\" halign=\"left\">trip_distance</th>\n",
       "      <th colspan=\"2\" halign=\"left\">time_to_book</th>\n",
       "    </tr>\n",
       "    <tr>\n",
       "      <th></th>\n",
       "      <th>count</th>\n",
       "      <th>mean</th>\n",
       "      <th>count</th>\n",
       "      <th>mean</th>\n",
       "      <th>count</th>\n",
       "      <th>mean</th>\n",
       "      <th>count</th>\n",
       "      <th>mean</th>\n",
       "    </tr>\n",
       "    <tr>\n",
       "      <th>kmeans</th>\n",
       "      <th></th>\n",
       "      <th></th>\n",
       "      <th></th>\n",
       "      <th></th>\n",
       "      <th></th>\n",
       "      <th></th>\n",
       "      <th></th>\n",
       "      <th></th>\n",
       "    </tr>\n",
       "  </thead>\n",
       "  <tbody>\n",
       "    <tr>\n",
       "      <th>0</th>\n",
       "      <td>82241</td>\n",
       "      <td>3.807798</td>\n",
       "      <td>82241</td>\n",
       "      <td>8.103452</td>\n",
       "      <td>82241</td>\n",
       "      <td>30.700721</td>\n",
       "      <td>82241</td>\n",
       "      <td>0.987926</td>\n",
       "    </tr>\n",
       "    <tr>\n",
       "      <th>4</th>\n",
       "      <td>27446</td>\n",
       "      <td>5.213130</td>\n",
       "      <td>27446</td>\n",
       "      <td>26.425344</td>\n",
       "      <td>27446</td>\n",
       "      <td>109.512679</td>\n",
       "      <td>27446</td>\n",
       "      <td>1.591926</td>\n",
       "    </tr>\n",
       "    <tr>\n",
       "      <th>1</th>\n",
       "      <td>4177</td>\n",
       "      <td>693.958649</td>\n",
       "      <td>4177</td>\n",
       "      <td>27.119943</td>\n",
       "      <td>4177</td>\n",
       "      <td>128.898731</td>\n",
       "      <td>4177</td>\n",
       "      <td>2.097438</td>\n",
       "    </tr>\n",
       "    <tr>\n",
       "      <th>2</th>\n",
       "      <td>9485</td>\n",
       "      <td>5.996871</td>\n",
       "      <td>9485</td>\n",
       "      <td>49.980812</td>\n",
       "      <td>9485</td>\n",
       "      <td>254.624354</td>\n",
       "      <td>9485</td>\n",
       "      <td>2.568371</td>\n",
       "    </tr>\n",
       "    <tr>\n",
       "      <th>3</th>\n",
       "      <td>4400</td>\n",
       "      <td>6.957704</td>\n",
       "      <td>4400</td>\n",
       "      <td>65.252273</td>\n",
       "      <td>4400</td>\n",
       "      <td>482.175227</td>\n",
       "      <td>4400</td>\n",
       "      <td>4.412045</td>\n",
       "    </tr>\n",
       "  </tbody>\n",
       "</table>\n",
       "</div>"
      ],
      "text/plain": [
       "       borrower_distance             trip_duration            trip_distance             time_to_book          \n",
       "                   count        mean         count       mean         count        mean        count      mean\n",
       "kmeans                                                                                                        \n",
       "0                  82241    3.807798         82241   8.103452         82241   30.700721        82241  0.987926\n",
       "4                  27446    5.213130         27446  26.425344         27446  109.512679        27446  1.591926\n",
       "1                   4177  693.958649          4177  27.119943          4177  128.898731         4177  2.097438\n",
       "2                   9485    5.996871          9485  49.980812          9485  254.624354         9485  2.568371\n",
       "3                   4400    6.957704          4400  65.252273          4400  482.175227         4400  4.412045"
      ]
     },
     "execution_count": 46,
     "metadata": {},
     "output_type": "execute_result"
    }
   ],
   "source": [
    "X.groupby(['kmeans']).agg(['count','mean']).sort_values(by=('trip_distance','mean'))"
   ]
  },
  {
   "cell_type": "code",
   "execution_count": 47,
   "metadata": {
    "ExecuteTime": {
     "end_time": "2021-09-20T07:00:13.117537Z",
     "start_time": "2021-09-20T06:58:28.051823Z"
    },
    "colab": {
     "base_uri": "https://localhost:8080/",
     "height": 458
    },
    "id": "YzWH6qPoNY1i",
    "outputId": "6d49113c-00d9-422d-f53d-7cab51d994d4",
    "scrolled": false
   },
   "outputs": [
    {
     "data": {
      "text/plain": [
       "<seaborn.axisgrid.JointGrid at 0x22ba77090a0>"
      ]
     },
     "execution_count": 47,
     "metadata": {},
     "output_type": "execute_result"
    },
    {
     "data": {
      "image/png": "[encoded data removed]",
      "text/plain": [
       "<Figure size 720x720 with 3 Axes>"
      ]
     },
     "metadata": {
      "needs_background": "light"
     },
     "output_type": "display_data"
    }
   ],
   "source": [
    "%matplotlib inline\n",
    "# plt.figure(figsize=(20,20))\n",
    "sns.jointplot(data=X, x=var1, y=var2, kind=\"hist\", \n",
    "              marginal_kws=dict(bins=50, fill=False),\n",
    "              hue=\"kmeans\", height=10, palette=\"Set2\")\n",
    "# plt.xlim(0,700)\n",
    "# plt.ylim(0,150)\n",
    "# plt.show()"
   ]
  },
  {
   "cell_type": "code",
   "execution_count": 48,
   "metadata": {
    "ExecuteTime": {
     "end_time": "2021-09-20T07:00:13.413311Z",
     "start_time": "2021-09-20T07:00:13.118048Z"
    }
   },
   "outputs": [
    {
     "data": {
      "text/html": [
       "<div>\n",
       "<style scoped>\n",
       "    .dataframe tbody tr th:only-of-type {\n",
       "        vertical-align: middle;\n",
       "    }\n",
       "\n",
       "    .dataframe tbody tr th {\n",
       "        vertical-align: top;\n",
       "    }\n",
       "\n",
       "    .dataframe thead tr th {\n",
       "        text-align: left;\n",
       "    }\n",
       "\n",
       "    .dataframe thead tr:last-of-type th {\n",
       "        text-align: right;\n",
       "    }\n",
       "</style>\n",
       "<table border=\"1\" class=\"dataframe\">\n",
       "  <thead>\n",
       "    <tr>\n",
       "      <th></th>\n",
       "      <th colspan=\"8\" halign=\"left\">borrower_distance</th>\n",
       "      <th colspan=\"8\" halign=\"left\">trip_duration</th>\n",
       "      <th colspan=\"8\" halign=\"left\">trip_distance</th>\n",
       "      <th colspan=\"8\" halign=\"left\">time_to_book</th>\n",
       "    </tr>\n",
       "    <tr>\n",
       "      <th></th>\n",
       "      <th>count</th>\n",
       "      <th>mean</th>\n",
       "      <th>std</th>\n",
       "      <th>min</th>\n",
       "      <th>25%</th>\n",
       "      <th>50%</th>\n",
       "      <th>75%</th>\n",
       "      <th>max</th>\n",
       "      <th>count</th>\n",
       "      <th>mean</th>\n",
       "      <th>std</th>\n",
       "      <th>min</th>\n",
       "      <th>25%</th>\n",
       "      <th>50%</th>\n",
       "      <th>75%</th>\n",
       "      <th>max</th>\n",
       "      <th>count</th>\n",
       "      <th>mean</th>\n",
       "      <th>std</th>\n",
       "      <th>min</th>\n",
       "      <th>25%</th>\n",
       "      <th>50%</th>\n",
       "      <th>75%</th>\n",
       "      <th>max</th>\n",
       "      <th>count</th>\n",
       "      <th>mean</th>\n",
       "      <th>std</th>\n",
       "      <th>min</th>\n",
       "      <th>25%</th>\n",
       "      <th>50%</th>\n",
       "      <th>75%</th>\n",
       "      <th>max</th>\n",
       "    </tr>\n",
       "    <tr>\n",
       "      <th>kmeans</th>\n",
       "      <th></th>\n",
       "      <th></th>\n",
       "      <th></th>\n",
       "      <th></th>\n",
       "      <th></th>\n",
       "      <th></th>\n",
       "      <th></th>\n",
       "      <th></th>\n",
       "      <th></th>\n",
       "      <th></th>\n",
       "      <th></th>\n",
       "      <th></th>\n",
       "      <th></th>\n",
       "      <th></th>\n",
       "      <th></th>\n",
       "      <th></th>\n",
       "      <th></th>\n",
       "      <th></th>\n",
       "      <th></th>\n",
       "      <th></th>\n",
       "      <th></th>\n",
       "      <th></th>\n",
       "      <th></th>\n",
       "      <th></th>\n",
       "      <th></th>\n",
       "      <th></th>\n",
       "      <th></th>\n",
       "      <th></th>\n",
       "      <th></th>\n",
       "      <th></th>\n",
       "      <th></th>\n",
       "      <th></th>\n",
       "    </tr>\n",
       "  </thead>\n",
       "  <tbody>\n",
       "    <tr>\n",
       "      <th>0</th>\n",
       "      <td>82241.0</td>\n",
       "      <td>3.807798</td>\n",
       "      <td>13.761414</td>\n",
       "      <td>0.000000</td>\n",
       "      <td>0.391812</td>\n",
       "      <td>1.010452</td>\n",
       "      <td>3.517684</td>\n",
       "      <td>353.928708</td>\n",
       "      <td>82241.0</td>\n",
       "      <td>8.103452</td>\n",
       "      <td>12.362025</td>\n",
       "      <td>0.0</td>\n",
       "      <td>1.0</td>\n",
       "      <td>3.0</td>\n",
       "      <td>9.0</td>\n",
       "      <td>207.0</td>\n",
       "      <td>82241.0</td>\n",
       "      <td>30.700721</td>\n",
       "      <td>17.960824</td>\n",
       "      <td>1.0</td>\n",
       "      <td>16.0</td>\n",
       "      <td>28.0</td>\n",
       "      <td>44.0</td>\n",
       "      <td>70.0</td>\n",
       "      <td>82241.0</td>\n",
       "      <td>0.987926</td>\n",
       "      <td>2.458204</td>\n",
       "      <td>0.0</td>\n",
       "      <td>0.0</td>\n",
       "      <td>0.0</td>\n",
       "      <td>1.0</td>\n",
       "      <td>91.0</td>\n",
       "    </tr>\n",
       "    <tr>\n",
       "      <th>1</th>\n",
       "      <td>4177.0</td>\n",
       "      <td>693.958649</td>\n",
       "      <td>60.304394</td>\n",
       "      <td>349.619966</td>\n",
       "      <td>691.656758</td>\n",
       "      <td>710.605316</td>\n",
       "      <td>718.053527</td>\n",
       "      <td>818.790997</td>\n",
       "      <td>4177.0</td>\n",
       "      <td>27.119943</td>\n",
       "      <td>34.575120</td>\n",
       "      <td>1.0</td>\n",
       "      <td>4.0</td>\n",
       "      <td>11.0</td>\n",
       "      <td>38.0</td>\n",
       "      <td>214.0</td>\n",
       "      <td>4177.0</td>\n",
       "      <td>128.898731</td>\n",
       "      <td>131.960878</td>\n",
       "      <td>1.0</td>\n",
       "      <td>33.0</td>\n",
       "      <td>81.0</td>\n",
       "      <td>184.0</td>\n",
       "      <td>652.0</td>\n",
       "      <td>4177.0</td>\n",
       "      <td>2.097438</td>\n",
       "      <td>5.409109</td>\n",
       "      <td>0.0</td>\n",
       "      <td>0.0</td>\n",
       "      <td>1.0</td>\n",
       "      <td>2.0</td>\n",
       "      <td>80.0</td>\n",
       "    </tr>\n",
       "    <tr>\n",
       "      <th>2</th>\n",
       "      <td>9485.0</td>\n",
       "      <td>5.996871</td>\n",
       "      <td>17.436011</td>\n",
       "      <td>0.000000</td>\n",
       "      <td>0.653446</td>\n",
       "      <td>1.729428</td>\n",
       "      <td>5.315703</td>\n",
       "      <td>378.586160</td>\n",
       "      <td>9485.0</td>\n",
       "      <td>49.980812</td>\n",
       "      <td>41.762406</td>\n",
       "      <td>1.0</td>\n",
       "      <td>16.0</td>\n",
       "      <td>40.0</td>\n",
       "      <td>71.0</td>\n",
       "      <td>214.0</td>\n",
       "      <td>9485.0</td>\n",
       "      <td>254.624354</td>\n",
       "      <td>51.132803</td>\n",
       "      <td>182.0</td>\n",
       "      <td>211.0</td>\n",
       "      <td>245.0</td>\n",
       "      <td>293.0</td>\n",
       "      <td>368.0</td>\n",
       "      <td>9485.0</td>\n",
       "      <td>2.568371</td>\n",
       "      <td>5.475810</td>\n",
       "      <td>0.0</td>\n",
       "      <td>0.0</td>\n",
       "      <td>1.0</td>\n",
       "      <td>3.0</td>\n",
       "      <td>84.0</td>\n",
       "    </tr>\n",
       "    <tr>\n",
       "      <th>3</th>\n",
       "      <td>4400.0</td>\n",
       "      <td>6.957704</td>\n",
       "      <td>24.686609</td>\n",
       "      <td>0.000000</td>\n",
       "      <td>0.684390</td>\n",
       "      <td>1.971122</td>\n",
       "      <td>5.581336</td>\n",
       "      <td>546.101643</td>\n",
       "      <td>4400.0</td>\n",
       "      <td>65.252273</td>\n",
       "      <td>41.390659</td>\n",
       "      <td>1.0</td>\n",
       "      <td>36.0</td>\n",
       "      <td>55.0</td>\n",
       "      <td>81.0</td>\n",
       "      <td>214.0</td>\n",
       "      <td>4400.0</td>\n",
       "      <td>482.175227</td>\n",
       "      <td>80.506012</td>\n",
       "      <td>369.0</td>\n",
       "      <td>413.0</td>\n",
       "      <td>467.0</td>\n",
       "      <td>544.0</td>\n",
       "      <td>660.0</td>\n",
       "      <td>4400.0</td>\n",
       "      <td>4.412045</td>\n",
       "      <td>7.763555</td>\n",
       "      <td>0.0</td>\n",
       "      <td>1.0</td>\n",
       "      <td>2.0</td>\n",
       "      <td>5.0</td>\n",
       "      <td>77.0</td>\n",
       "    </tr>\n",
       "    <tr>\n",
       "      <th>4</th>\n",
       "      <td>27446.0</td>\n",
       "      <td>5.213130</td>\n",
       "      <td>15.655330</td>\n",
       "      <td>0.000000</td>\n",
       "      <td>0.592156</td>\n",
       "      <td>1.601255</td>\n",
       "      <td>5.040145</td>\n",
       "      <td>348.865429</td>\n",
       "      <td>27446.0</td>\n",
       "      <td>26.425344</td>\n",
       "      <td>27.303081</td>\n",
       "      <td>1.0</td>\n",
       "      <td>8.0</td>\n",
       "      <td>21.0</td>\n",
       "      <td>33.0</td>\n",
       "      <td>214.0</td>\n",
       "      <td>27446.0</td>\n",
       "      <td>109.512679</td>\n",
       "      <td>29.926739</td>\n",
       "      <td>68.0</td>\n",
       "      <td>84.0</td>\n",
       "      <td>103.0</td>\n",
       "      <td>130.0</td>\n",
       "      <td>182.0</td>\n",
       "      <td>27446.0</td>\n",
       "      <td>1.591926</td>\n",
       "      <td>3.510552</td>\n",
       "      <td>0.0</td>\n",
       "      <td>0.0</td>\n",
       "      <td>1.0</td>\n",
       "      <td>2.0</td>\n",
       "      <td>115.0</td>\n",
       "    </tr>\n",
       "  </tbody>\n",
       "</table>\n",
       "</div>"
      ],
      "text/plain": [
       "       borrower_distance                                                                                    trip_duration                                                     trip_distance                                                            time_to_book                                               \n",
       "                   count        mean        std         min         25%         50%         75%         max         count       mean        std  min   25%   50%   75%    max         count        mean         std    min    25%    50%    75%    max        count      mean       std  min  25%  50%  75%    max\n",
       "kmeans                                                                                                                                                                                                                                                                                                            \n",
       "0                82241.0    3.807798  13.761414    0.000000    0.391812    1.010452    3.517684  353.928708       82241.0   8.103452  12.362025  0.0   1.0   3.0   9.0  207.0       82241.0   30.700721   17.960824    1.0   16.0   28.0   44.0   70.0      82241.0  0.987926  2.458204  0.0  0.0  0.0  1.0   91.0\n",
       "1                 4177.0  693.958649  60.304394  349.619966  691.656758  710.605316  718.053527  818.790997        4177.0  27.119943  34.575120  1.0   4.0  11.0  38.0  214.0        4177.0  128.898731  131.960878    1.0   33.0   81.0  184.0  652.0       4177.0  2.097438  5.409109  0.0  0.0  1.0  2.0   80.0\n",
       "2                 9485.0    5.996871  17.436011    0.000000    0.653446    1.729428    5.315703  378.586160        9485.0  49.980812  41.762406  1.0  16.0  40.0  71.0  214.0        9485.0  254.624354   51.132803  182.0  211.0  245.0  293.0  368.0       9485.0  2.568371  5.475810  0.0  0.0  1.0  3.0   84.0\n",
       "3                 4400.0    6.957704  24.686609    0.000000    0.684390    1.971122    5.581336  546.101643        4400.0  65.252273  41.390659  1.0  36.0  55.0  81.0  214.0        4400.0  482.175227   80.506012  369.0  413.0  467.0  544.0  660.0       4400.0  4.412045  7.763555  0.0  1.0  2.0  5.0   77.0\n",
       "4                27446.0    5.213130  15.655330    0.000000    0.592156    1.601255    5.040145  348.865429       27446.0  26.425344  27.303081  1.0   8.0  21.0  33.0  214.0       27446.0  109.512679   29.926739   68.0   84.0  103.0  130.0  182.0      27446.0  1.591926  3.510552  0.0  0.0  1.0  2.0  115.0"
      ]
     },
     "execution_count": 48,
     "metadata": {},
     "output_type": "execute_result"
    }
   ],
   "source": [
    "X.groupby(['kmeans']).describe()"
   ]
  },
  {
   "cell_type": "code",
   "execution_count": 49,
   "metadata": {
    "ExecuteTime": {
     "end_time": "2021-09-20T07:00:13.452367Z",
     "start_time": "2021-09-20T07:00:13.413311Z"
    }
   },
   "outputs": [
    {
     "data": {
      "text/plain": [
       "kmeans\n",
       "0    82241\n",
       "1     4177\n",
       "2     9485\n",
       "3     4400\n",
       "4    27446\n",
       "Name: trip_duration, dtype: int64"
      ]
     },
     "execution_count": 49,
     "metadata": {},
     "output_type": "execute_result"
    }
   ],
   "source": [
    "X.groupby(['kmeans']).count()['trip_duration']"
   ]
  },
  {
   "cell_type": "markdown",
   "metadata": {},
   "source": [
    "## 2nd layer k-means"
   ]
  },
  {
   "cell_type": "code",
   "execution_count": 50,
   "metadata": {
    "ExecuteTime": {
     "end_time": "2021-09-20T07:00:13.472835Z",
     "start_time": "2021-09-20T07:00:13.452367Z"
    }
   },
   "outputs": [],
   "source": [
    "X_2 = X[X['borrower_distance'] <= 100].copy(deep=True)"
   ]
  },
  {
   "cell_type": "code",
   "execution_count": 51,
   "metadata": {
    "ExecuteTime": {
     "end_time": "2021-09-20T07:00:13.549745Z",
     "start_time": "2021-09-20T07:00:13.472835Z"
    }
   },
   "outputs": [
    {
     "data": {
      "text/html": [
       "<div>\n",
       "<style scoped>\n",
       "    .dataframe tbody tr th:only-of-type {\n",
       "        vertical-align: middle;\n",
       "    }\n",
       "\n",
       "    .dataframe tbody tr th {\n",
       "        vertical-align: top;\n",
       "    }\n",
       "\n",
       "    .dataframe thead th {\n",
       "        text-align: right;\n",
       "    }\n",
       "</style>\n",
       "<table border=\"1\" class=\"dataframe\">\n",
       "  <thead>\n",
       "    <tr style=\"text-align: right;\">\n",
       "      <th></th>\n",
       "      <th>borrower_distance</th>\n",
       "      <th>trip_duration</th>\n",
       "      <th>trip_distance</th>\n",
       "    </tr>\n",
       "  </thead>\n",
       "  <tbody>\n",
       "    <tr>\n",
       "      <th>0</th>\n",
       "      <td>-0.395168</td>\n",
       "      <td>0.173253</td>\n",
       "      <td>-0.466873</td>\n",
       "    </tr>\n",
       "    <tr>\n",
       "      <th>1</th>\n",
       "      <td>-0.442085</td>\n",
       "      <td>-0.620394</td>\n",
       "      <td>-0.766419</td>\n",
       "    </tr>\n",
       "    <tr>\n",
       "      <th>2</th>\n",
       "      <td>-0.383835</td>\n",
       "      <td>-0.544808</td>\n",
       "      <td>0.480080</td>\n",
       "    </tr>\n",
       "    <tr>\n",
       "      <th>3</th>\n",
       "      <td>-0.343190</td>\n",
       "      <td>-0.280259</td>\n",
       "      <td>0.451092</td>\n",
       "    </tr>\n",
       "    <tr>\n",
       "      <th>4</th>\n",
       "      <td>-0.479607</td>\n",
       "      <td>0.286632</td>\n",
       "      <td>-0.689117</td>\n",
       "    </tr>\n",
       "    <tr>\n",
       "      <th>...</th>\n",
       "      <td>...</td>\n",
       "      <td>...</td>\n",
       "      <td>...</td>\n",
       "    </tr>\n",
       "    <tr>\n",
       "      <th>122991</th>\n",
       "      <td>-0.408692</td>\n",
       "      <td>0.211046</td>\n",
       "      <td>-0.437885</td>\n",
       "    </tr>\n",
       "    <tr>\n",
       "      <th>122992</th>\n",
       "      <td>-0.408692</td>\n",
       "      <td>0.588973</td>\n",
       "      <td>-0.234966</td>\n",
       "    </tr>\n",
       "    <tr>\n",
       "      <th>122993</th>\n",
       "      <td>-0.418595</td>\n",
       "      <td>-0.280259</td>\n",
       "      <td>-0.292943</td>\n",
       "    </tr>\n",
       "    <tr>\n",
       "      <th>122994</th>\n",
       "      <td>-0.382100</td>\n",
       "      <td>-0.242467</td>\n",
       "      <td>-0.341257</td>\n",
       "    </tr>\n",
       "    <tr>\n",
       "      <th>122995</th>\n",
       "      <td>-0.443956</td>\n",
       "      <td>-0.393638</td>\n",
       "      <td>0.344801</td>\n",
       "    </tr>\n",
       "  </tbody>\n",
       "</table>\n",
       "<p>122996 rows × 3 columns</p>\n",
       "</div>"
      ],
      "text/plain": [
       "        borrower_distance  trip_duration  trip_distance\n",
       "0               -0.395168       0.173253      -0.466873\n",
       "1               -0.442085      -0.620394      -0.766419\n",
       "2               -0.383835      -0.544808       0.480080\n",
       "3               -0.343190      -0.280259       0.451092\n",
       "4               -0.479607       0.286632      -0.689117\n",
       "...                   ...            ...            ...\n",
       "122991          -0.408692       0.211046      -0.437885\n",
       "122992          -0.408692       0.588973      -0.234966\n",
       "122993          -0.418595      -0.280259      -0.292943\n",
       "122994          -0.382100      -0.242467      -0.341257\n",
       "122995          -0.443956      -0.393638       0.344801\n",
       "\n",
       "[122996 rows x 3 columns]"
      ]
     },
     "execution_count": 51,
     "metadata": {},
     "output_type": "execute_result"
    }
   ],
   "source": [
    "scaler = StandardScaler()\n",
    "scaler.fit(X_2[['borrower_distance', 'trip_duration', 'trip_distance']])\n",
    "X_2_scaled = scaler.transform(X_2[['borrower_distance', 'trip_duration', 'trip_distance']])\n",
    "X_2_scaled = pd.DataFrame(data=X_2_scaled, columns=['borrower_distance', 'trip_duration', 'trip_distance'])\n",
    "X_2_scaled"
   ]
  },
  {
   "cell_type": "code",
   "execution_count": 52,
   "metadata": {
    "ExecuteTime": {
     "end_time": "2021-09-20T07:00:13.570795Z",
     "start_time": "2021-09-20T07:00:13.549745Z"
    }
   },
   "outputs": [],
   "source": [
    "var1 = 'borrower_distance'\n",
    "var2 = 'trip_distance'"
   ]
  },
  {
   "cell_type": "code",
   "execution_count": 53,
   "metadata": {
    "ExecuteTime": {
     "end_time": "2021-09-20T07:00:17.202792Z",
     "start_time": "2021-09-20T07:00:13.571370Z"
    },
    "id": "HbfhQy0uLl4y"
   },
   "outputs": [],
   "source": [
    "kmeans = KMeans(n_clusters=5, random_state=0).fit(X_2_scaled[[var1, var2]])"
   ]
  },
  {
   "cell_type": "code",
   "execution_count": 54,
   "metadata": {
    "ExecuteTime": {
     "end_time": "2021-09-20T07:00:17.226458Z",
     "start_time": "2021-09-20T07:00:17.207401Z"
    },
    "colab": {
     "base_uri": "https://localhost:8080/",
     "height": 141
    },
    "id": "kn_544dtNLJB",
    "outputId": "528ebf15-aac9-4706-cf2e-1d854f50b369"
   },
   "outputs": [
    {
     "data": {
      "text/html": [
       "<div>\n",
       "<style scoped>\n",
       "    .dataframe tbody tr th:only-of-type {\n",
       "        vertical-align: middle;\n",
       "    }\n",
       "\n",
       "    .dataframe tbody tr th {\n",
       "        vertical-align: top;\n",
       "    }\n",
       "\n",
       "    .dataframe thead th {\n",
       "        text-align: right;\n",
       "    }\n",
       "</style>\n",
       "<table border=\"1\" class=\"dataframe\">\n",
       "  <thead>\n",
       "    <tr style=\"text-align: right;\">\n",
       "      <th></th>\n",
       "      <th>borrower_distance</th>\n",
       "      <th>trip_distance</th>\n",
       "    </tr>\n",
       "  </thead>\n",
       "  <tbody>\n",
       "    <tr>\n",
       "      <th>0</th>\n",
       "      <td>0.050932</td>\n",
       "      <td>3.483816</td>\n",
       "    </tr>\n",
       "    <tr>\n",
       "      <th>1</th>\n",
       "      <td>-0.270667</td>\n",
       "      <td>-0.413869</td>\n",
       "    </tr>\n",
       "    <tr>\n",
       "      <th>2</th>\n",
       "      <td>8.023167</td>\n",
       "      <td>0.458601</td>\n",
       "    </tr>\n",
       "    <tr>\n",
       "      <th>3</th>\n",
       "      <td>1.743826</td>\n",
       "      <td>-0.091748</td>\n",
       "    </tr>\n",
       "    <tr>\n",
       "      <th>4</th>\n",
       "      <td>-0.171994</td>\n",
       "      <td>0.916700</td>\n",
       "    </tr>\n",
       "  </tbody>\n",
       "</table>\n",
       "</div>"
      ],
      "text/plain": [
       "   borrower_distance  trip_distance\n",
       "0           0.050932       3.483816\n",
       "1          -0.270667      -0.413869\n",
       "2           8.023167       0.458601\n",
       "3           1.743826      -0.091748\n",
       "4          -0.171994       0.916700"
      ]
     },
     "execution_count": 54,
     "metadata": {},
     "output_type": "execute_result"
    }
   ],
   "source": [
    "cluster_centers = pd.DataFrame(columns=[var1, var2], data = kmeans.cluster_centers_)\n",
    "cluster_centers"
   ]
  },
  {
   "cell_type": "code",
   "execution_count": 55,
   "metadata": {
    "ExecuteTime": {
     "end_time": "2021-09-20T07:00:17.246273Z",
     "start_time": "2021-09-20T07:00:17.230474Z"
    },
    "colab": {
     "base_uri": "https://localhost:8080/"
    },
    "id": "NrIuhH1fR_Oz",
    "outputId": "a607f829-4fcb-4a5e-8256-5a3b4f9a0927"
   },
   "outputs": [
    {
     "data": {
      "text/plain": [
       "borrower_distance    float64\n",
       "trip_distance        float64\n",
       "dtype: object"
      ]
     },
     "execution_count": 55,
     "metadata": {},
     "output_type": "execute_result"
    }
   ],
   "source": [
    "cluster_centers.dtypes"
   ]
  },
  {
   "cell_type": "code",
   "execution_count": 56,
   "metadata": {
    "ExecuteTime": {
     "end_time": "2021-09-20T07:00:17.588593Z",
     "start_time": "2021-09-20T07:00:17.246771Z"
    },
    "colab": {
     "base_uri": "https://localhost:8080/",
     "height": 297
    },
    "id": "rQoWiEHIR0eS",
    "outputId": "9c0b8499-8504-4174-cba0-38f781a8b348"
   },
   "outputs": [
    {
     "data": {
      "image/png": "[encoded data removed]",
      "text/plain": [
       "<Figure size 360x360 with 1 Axes>"
      ]
     },
     "metadata": {
      "needs_background": "light"
     },
     "output_type": "display_data"
    }
   ],
   "source": [
    "plt.figure(figsize=(5,5))\n",
    "sns.scatterplot(data=cluster_centers, x=var1, y=var2)\n",
    "plt.show()"
   ]
  },
  {
   "cell_type": "code",
   "execution_count": 57,
   "metadata": {
    "ExecuteTime": {
     "end_time": "2021-09-20T07:00:17.602405Z",
     "start_time": "2021-09-20T07:00:17.590060Z"
    },
    "id": "9TOQIJ-aNQm2"
   },
   "outputs": [],
   "source": [
    "X_2['kmeans'] = kmeans.labels_"
   ]
  },
  {
   "cell_type": "code",
   "execution_count": 58,
   "metadata": {
    "ExecuteTime": {
     "end_time": "2021-09-20T07:00:17.702883Z",
     "start_time": "2021-09-20T07:00:17.606699Z"
    },
    "colab": {
     "base_uri": "https://localhost:8080/",
     "height": 171
    },
    "id": "yCSWre_HNTg6",
    "outputId": "6bcd713b-557e-49b6-bbdb-9b986b6dc83d"
   },
   "outputs": [
    {
     "data": {
      "text/html": [
       "<div>\n",
       "<style scoped>\n",
       "    .dataframe tbody tr th:only-of-type {\n",
       "        vertical-align: middle;\n",
       "    }\n",
       "\n",
       "    .dataframe tbody tr th {\n",
       "        vertical-align: top;\n",
       "    }\n",
       "\n",
       "    .dataframe thead tr th {\n",
       "        text-align: left;\n",
       "    }\n",
       "\n",
       "    .dataframe thead tr:last-of-type th {\n",
       "        text-align: right;\n",
       "    }\n",
       "</style>\n",
       "<table border=\"1\" class=\"dataframe\">\n",
       "  <thead>\n",
       "    <tr>\n",
       "      <th></th>\n",
       "      <th colspan=\"2\" halign=\"left\">borrower_distance</th>\n",
       "      <th colspan=\"2\" halign=\"left\">trip_duration</th>\n",
       "      <th colspan=\"2\" halign=\"left\">trip_distance</th>\n",
       "      <th colspan=\"2\" halign=\"left\">time_to_book</th>\n",
       "    </tr>\n",
       "    <tr>\n",
       "      <th></th>\n",
       "      <th>count</th>\n",
       "      <th>mean</th>\n",
       "      <th>count</th>\n",
       "      <th>mean</th>\n",
       "      <th>count</th>\n",
       "      <th>mean</th>\n",
       "      <th>count</th>\n",
       "      <th>mean</th>\n",
       "    </tr>\n",
       "    <tr>\n",
       "      <th>kmeans</th>\n",
       "      <th></th>\n",
       "      <th></th>\n",
       "      <th></th>\n",
       "      <th></th>\n",
       "      <th></th>\n",
       "      <th></th>\n",
       "      <th></th>\n",
       "      <th></th>\n",
       "    </tr>\n",
       "  </thead>\n",
       "  <tbody>\n",
       "    <tr>\n",
       "      <th>1</th>\n",
       "      <td>87374</td>\n",
       "      <td>1.756817</td>\n",
       "      <td>87374</td>\n",
       "      <td>10.143338</td>\n",
       "      <td>87374</td>\n",
       "      <td>38.483061</td>\n",
       "      <td>87374</td>\n",
       "      <td>1.048413</td>\n",
       "    </tr>\n",
       "    <tr>\n",
       "      <th>3</th>\n",
       "      <td>11267</td>\n",
       "      <td>15.010430</td>\n",
       "      <td>11267</td>\n",
       "      <td>15.416260</td>\n",
       "      <td>11267</td>\n",
       "      <td>71.787610</td>\n",
       "      <td>11267</td>\n",
       "      <td>1.371439</td>\n",
       "    </tr>\n",
       "    <tr>\n",
       "      <th>2</th>\n",
       "      <td>841</td>\n",
       "      <td>56.302955</td>\n",
       "      <td>841</td>\n",
       "      <td>21.084423</td>\n",
       "      <td>841</td>\n",
       "      <td>128.816885</td>\n",
       "      <td>841</td>\n",
       "      <td>1.550535</td>\n",
       "    </tr>\n",
       "    <tr>\n",
       "      <th>4</th>\n",
       "      <td>17569</td>\n",
       "      <td>2.406960</td>\n",
       "      <td>17569</td>\n",
       "      <td>39.234276</td>\n",
       "      <td>17569</td>\n",
       "      <td>176.173829</td>\n",
       "      <td>17569</td>\n",
       "      <td>1.977290</td>\n",
       "    </tr>\n",
       "    <tr>\n",
       "      <th>0</th>\n",
       "      <td>5945</td>\n",
       "      <td>3.874358</td>\n",
       "      <td>5945</td>\n",
       "      <td>63.088814</td>\n",
       "      <td>5945</td>\n",
       "      <td>441.856013</td>\n",
       "      <td>5945</td>\n",
       "      <td>4.137090</td>\n",
       "    </tr>\n",
       "  </tbody>\n",
       "</table>\n",
       "</div>"
      ],
      "text/plain": [
       "       borrower_distance            trip_duration            trip_distance             time_to_book          \n",
       "                   count       mean         count       mean         count        mean        count      mean\n",
       "kmeans                                                                                                       \n",
       "1                  87374   1.756817         87374  10.143338         87374   38.483061        87374  1.048413\n",
       "3                  11267  15.010430         11267  15.416260         11267   71.787610        11267  1.371439\n",
       "2                    841  56.302955           841  21.084423           841  128.816885          841  1.550535\n",
       "4                  17569   2.406960         17569  39.234276         17569  176.173829        17569  1.977290\n",
       "0                   5945   3.874358          5945  63.088814          5945  441.856013         5945  4.137090"
      ]
     },
     "execution_count": 58,
     "metadata": {},
     "output_type": "execute_result"
    }
   ],
   "source": [
    "X_2.groupby(['kmeans']).agg(['count','mean']).sort_values(by=('trip_distance','mean'))"
   ]
  },
  {
   "cell_type": "code",
   "execution_count": 59,
   "metadata": {
    "ExecuteTime": {
     "end_time": "2021-09-20T07:00:36.393666Z",
     "start_time": "2021-09-20T07:00:17.702883Z"
    },
    "scrolled": true
   },
   "outputs": [
    {
     "data": {
      "text/plain": [
       "<Figure size 1440x1440 with 0 Axes>"
      ]
     },
     "metadata": {},
     "output_type": "display_data"
    },
    {
     "data": {
      "image/png": "[encoded data removed]",
      "text/plain": [
       "<Figure size 720x720 with 3 Axes>"
      ]
     },
     "metadata": {
      "needs_background": "light"
     },
     "output_type": "display_data"
    }
   ],
   "source": [
    "plt.figure(figsize=(20,20))\n",
    "sns.jointplot(data=X_2, x=var1, y=var2, kind=\"hist\", \n",
    "              marginal_kws=dict(bins=50, fill=False),\n",
    "              hue=\"kmeans\", height=10, palette=\"Set2\")\n",
    "# plt.xlim(0,700)\n",
    "# plt.ylim(0,50)\n",
    "plt.show()"
   ]
  },
  {
   "cell_type": "code",
   "execution_count": 60,
   "metadata": {
    "ExecuteTime": {
     "end_time": "2021-09-20T07:00:36.662249Z",
     "start_time": "2021-09-20T07:00:36.395476Z"
    }
   },
   "outputs": [
    {
     "data": {
      "text/html": [
       "<div>\n",
       "<style scoped>\n",
       "    .dataframe tbody tr th:only-of-type {\n",
       "        vertical-align: middle;\n",
       "    }\n",
       "\n",
       "    .dataframe tbody tr th {\n",
       "        vertical-align: top;\n",
       "    }\n",
       "\n",
       "    .dataframe thead tr th {\n",
       "        text-align: left;\n",
       "    }\n",
       "\n",
       "    .dataframe thead tr:last-of-type th {\n",
       "        text-align: right;\n",
       "    }\n",
       "</style>\n",
       "<table border=\"1\" class=\"dataframe\">\n",
       "  <thead>\n",
       "    <tr>\n",
       "      <th></th>\n",
       "      <th colspan=\"8\" halign=\"left\">borrower_distance</th>\n",
       "      <th colspan=\"8\" halign=\"left\">trip_duration</th>\n",
       "      <th colspan=\"8\" halign=\"left\">trip_distance</th>\n",
       "      <th colspan=\"8\" halign=\"left\">time_to_book</th>\n",
       "    </tr>\n",
       "    <tr>\n",
       "      <th></th>\n",
       "      <th>count</th>\n",
       "      <th>mean</th>\n",
       "      <th>std</th>\n",
       "      <th>min</th>\n",
       "      <th>25%</th>\n",
       "      <th>50%</th>\n",
       "      <th>75%</th>\n",
       "      <th>max</th>\n",
       "      <th>count</th>\n",
       "      <th>mean</th>\n",
       "      <th>std</th>\n",
       "      <th>min</th>\n",
       "      <th>25%</th>\n",
       "      <th>50%</th>\n",
       "      <th>75%</th>\n",
       "      <th>max</th>\n",
       "      <th>count</th>\n",
       "      <th>mean</th>\n",
       "      <th>std</th>\n",
       "      <th>min</th>\n",
       "      <th>25%</th>\n",
       "      <th>50%</th>\n",
       "      <th>75%</th>\n",
       "      <th>max</th>\n",
       "      <th>count</th>\n",
       "      <th>mean</th>\n",
       "      <th>std</th>\n",
       "      <th>min</th>\n",
       "      <th>25%</th>\n",
       "      <th>50%</th>\n",
       "      <th>75%</th>\n",
       "      <th>max</th>\n",
       "    </tr>\n",
       "    <tr>\n",
       "      <th>kmeans</th>\n",
       "      <th></th>\n",
       "      <th></th>\n",
       "      <th></th>\n",
       "      <th></th>\n",
       "      <th></th>\n",
       "      <th></th>\n",
       "      <th></th>\n",
       "      <th></th>\n",
       "      <th></th>\n",
       "      <th></th>\n",
       "      <th></th>\n",
       "      <th></th>\n",
       "      <th></th>\n",
       "      <th></th>\n",
       "      <th></th>\n",
       "      <th></th>\n",
       "      <th></th>\n",
       "      <th></th>\n",
       "      <th></th>\n",
       "      <th></th>\n",
       "      <th></th>\n",
       "      <th></th>\n",
       "      <th></th>\n",
       "      <th></th>\n",
       "      <th></th>\n",
       "      <th></th>\n",
       "      <th></th>\n",
       "      <th></th>\n",
       "      <th></th>\n",
       "      <th></th>\n",
       "      <th></th>\n",
       "      <th></th>\n",
       "    </tr>\n",
       "  </thead>\n",
       "  <tbody>\n",
       "    <tr>\n",
       "      <th>1</th>\n",
       "      <td>87374.0</td>\n",
       "      <td>1.756817</td>\n",
       "      <td>1.981380</td>\n",
       "      <td>0.000000</td>\n",
       "      <td>0.367722</td>\n",
       "      <td>0.862844</td>\n",
       "      <td>2.487371</td>\n",
       "      <td>8.860414</td>\n",
       "      <td>87374.0</td>\n",
       "      <td>10.143338</td>\n",
       "      <td>14.982707</td>\n",
       "      <td>0.0</td>\n",
       "      <td>2.0</td>\n",
       "      <td>4.0</td>\n",
       "      <td>12.0</td>\n",
       "      <td>214.0</td>\n",
       "      <td>87374.0</td>\n",
       "      <td>38.483061</td>\n",
       "      <td>26.175199</td>\n",
       "      <td>1.0</td>\n",
       "      <td>17.0</td>\n",
       "      <td>32.0</td>\n",
       "      <td>55.0</td>\n",
       "      <td>109.0</td>\n",
       "      <td>87374.0</td>\n",
       "      <td>1.048413</td>\n",
       "      <td>2.481583</td>\n",
       "      <td>0.0</td>\n",
       "      <td>0.0</td>\n",
       "      <td>0.0</td>\n",
       "      <td>1.0</td>\n",
       "      <td>66.0</td>\n",
       "    </tr>\n",
       "    <tr>\n",
       "      <th>4</th>\n",
       "      <td>17569.0</td>\n",
       "      <td>2.406960</td>\n",
       "      <td>2.499976</td>\n",
       "      <td>0.000000</td>\n",
       "      <td>0.569669</td>\n",
       "      <td>1.370883</td>\n",
       "      <td>3.511606</td>\n",
       "      <td>14.137926</td>\n",
       "      <td>17569.0</td>\n",
       "      <td>39.234276</td>\n",
       "      <td>36.597723</td>\n",
       "      <td>1.0</td>\n",
       "      <td>11.0</td>\n",
       "      <td>25.0</td>\n",
       "      <td>51.0</td>\n",
       "      <td>214.0</td>\n",
       "      <td>17569.0</td>\n",
       "      <td>176.173829</td>\n",
       "      <td>55.861750</td>\n",
       "      <td>101.0</td>\n",
       "      <td>128.0</td>\n",
       "      <td>161.0</td>\n",
       "      <td>218.0</td>\n",
       "      <td>312.0</td>\n",
       "      <td>17569.0</td>\n",
       "      <td>1.977290</td>\n",
       "      <td>4.486305</td>\n",
       "      <td>0.0</td>\n",
       "      <td>0.0</td>\n",
       "      <td>1.0</td>\n",
       "      <td>2.0</td>\n",
       "      <td>115.0</td>\n",
       "    </tr>\n",
       "    <tr>\n",
       "      <th>3</th>\n",
       "      <td>11267.0</td>\n",
       "      <td>15.010430</td>\n",
       "      <td>5.787067</td>\n",
       "      <td>7.958662</td>\n",
       "      <td>10.426000</td>\n",
       "      <td>13.215213</td>\n",
       "      <td>18.112099</td>\n",
       "      <td>35.862584</td>\n",
       "      <td>11267.0</td>\n",
       "      <td>15.416260</td>\n",
       "      <td>23.706711</td>\n",
       "      <td>0.0</td>\n",
       "      <td>2.0</td>\n",
       "      <td>6.0</td>\n",
       "      <td>22.0</td>\n",
       "      <td>214.0</td>\n",
       "      <td>11267.0</td>\n",
       "      <td>71.787610</td>\n",
       "      <td>60.006977</td>\n",
       "      <td>1.0</td>\n",
       "      <td>30.0</td>\n",
       "      <td>55.0</td>\n",
       "      <td>95.0</td>\n",
       "      <td>425.0</td>\n",
       "      <td>11267.0</td>\n",
       "      <td>1.371439</td>\n",
       "      <td>3.556929</td>\n",
       "      <td>0.0</td>\n",
       "      <td>0.0</td>\n",
       "      <td>0.0</td>\n",
       "      <td>1.0</td>\n",
       "      <td>91.0</td>\n",
       "    </tr>\n",
       "    <tr>\n",
       "      <th>0</th>\n",
       "      <td>5945.0</td>\n",
       "      <td>3.874358</td>\n",
       "      <td>5.026406</td>\n",
       "      <td>0.000000</td>\n",
       "      <td>0.663720</td>\n",
       "      <td>1.770528</td>\n",
       "      <td>5.012484</td>\n",
       "      <td>36.199677</td>\n",
       "      <td>5945.0</td>\n",
       "      <td>63.088814</td>\n",
       "      <td>41.768636</td>\n",
       "      <td>1.0</td>\n",
       "      <td>34.0</td>\n",
       "      <td>53.0</td>\n",
       "      <td>80.0</td>\n",
       "      <td>214.0</td>\n",
       "      <td>5945.0</td>\n",
       "      <td>441.856013</td>\n",
       "      <td>94.792998</td>\n",
       "      <td>295.0</td>\n",
       "      <td>361.0</td>\n",
       "      <td>424.0</td>\n",
       "      <td>510.0</td>\n",
       "      <td>660.0</td>\n",
       "      <td>5945.0</td>\n",
       "      <td>4.137090</td>\n",
       "      <td>7.530973</td>\n",
       "      <td>0.0</td>\n",
       "      <td>0.0</td>\n",
       "      <td>1.0</td>\n",
       "      <td>4.0</td>\n",
       "      <td>77.0</td>\n",
       "    </tr>\n",
       "    <tr>\n",
       "      <th>2</th>\n",
       "      <td>841.0</td>\n",
       "      <td>56.302955</td>\n",
       "      <td>16.349189</td>\n",
       "      <td>34.409794</td>\n",
       "      <td>42.074747</td>\n",
       "      <td>51.977551</td>\n",
       "      <td>67.738681</td>\n",
       "      <td>99.954448</td>\n",
       "      <td>841.0</td>\n",
       "      <td>21.084423</td>\n",
       "      <td>31.357140</td>\n",
       "      <td>1.0</td>\n",
       "      <td>3.0</td>\n",
       "      <td>8.0</td>\n",
       "      <td>24.0</td>\n",
       "      <td>211.0</td>\n",
       "      <td>841.0</td>\n",
       "      <td>128.816885</td>\n",
       "      <td>131.604222</td>\n",
       "      <td>2.0</td>\n",
       "      <td>30.0</td>\n",
       "      <td>84.0</td>\n",
       "      <td>186.0</td>\n",
       "      <td>646.0</td>\n",
       "      <td>841.0</td>\n",
       "      <td>1.550535</td>\n",
       "      <td>3.869001</td>\n",
       "      <td>0.0</td>\n",
       "      <td>0.0</td>\n",
       "      <td>1.0</td>\n",
       "      <td>2.0</td>\n",
       "      <td>78.0</td>\n",
       "    </tr>\n",
       "  </tbody>\n",
       "</table>\n",
       "</div>"
      ],
      "text/plain": [
       "       borrower_distance                                                                              trip_duration                                                     trip_distance                                                            time_to_book                                               \n",
       "                   count       mean        std        min        25%        50%        75%        max         count       mean        std  min   25%   50%   75%    max         count        mean         std    min    25%    50%    75%    max        count      mean       std  min  25%  50%  75%    max\n",
       "kmeans                                                                                                                                                                                                                                                                                                      \n",
       "1                87374.0   1.756817   1.981380   0.000000   0.367722   0.862844   2.487371   8.860414       87374.0  10.143338  14.982707  0.0   2.0   4.0  12.0  214.0       87374.0   38.483061   26.175199    1.0   17.0   32.0   55.0  109.0      87374.0  1.048413  2.481583  0.0  0.0  0.0  1.0   66.0\n",
       "4                17569.0   2.406960   2.499976   0.000000   0.569669   1.370883   3.511606  14.137926       17569.0  39.234276  36.597723  1.0  11.0  25.0  51.0  214.0       17569.0  176.173829   55.861750  101.0  128.0  161.0  218.0  312.0      17569.0  1.977290  4.486305  0.0  0.0  1.0  2.0  115.0\n",
       "3                11267.0  15.010430   5.787067   7.958662  10.426000  13.215213  18.112099  35.862584       11267.0  15.416260  23.706711  0.0   2.0   6.0  22.0  214.0       11267.0   71.787610   60.006977    1.0   30.0   55.0   95.0  425.0      11267.0  1.371439  3.556929  0.0  0.0  0.0  1.0   91.0\n",
       "0                 5945.0   3.874358   5.026406   0.000000   0.663720   1.770528   5.012484  36.199677        5945.0  63.088814  41.768636  1.0  34.0  53.0  80.0  214.0        5945.0  441.856013   94.792998  295.0  361.0  424.0  510.0  660.0       5945.0  4.137090  7.530973  0.0  0.0  1.0  4.0   77.0\n",
       "2                  841.0  56.302955  16.349189  34.409794  42.074747  51.977551  67.738681  99.954448         841.0  21.084423  31.357140  1.0   3.0   8.0  24.0  211.0         841.0  128.816885  131.604222    2.0   30.0   84.0  186.0  646.0        841.0  1.550535  3.869001  0.0  0.0  1.0  2.0   78.0"
      ]
     },
     "execution_count": 60,
     "metadata": {},
     "output_type": "execute_result"
    }
   ],
   "source": [
    "X_2.groupby(['kmeans']).describe().sort_values(by=('borrower_distance','max'))"
   ]
  },
  {
   "cell_type": "code",
   "execution_count": 61,
   "metadata": {
    "ExecuteTime": {
     "end_time": "2021-09-20T07:00:36.701691Z",
     "start_time": "2021-09-20T07:00:36.662249Z"
    },
    "scrolled": true
   },
   "outputs": [
    {
     "data": {
      "text/plain": [
       "kmeans\n",
       "0     5945\n",
       "1    87374\n",
       "2      841\n",
       "3    11267\n",
       "4    17569\n",
       "Name: trip_duration, dtype: int64"
      ]
     },
     "execution_count": 61,
     "metadata": {},
     "output_type": "execute_result"
    }
   ],
   "source": [
    "X_2.groupby(['kmeans']).count()['trip_duration']"
   ]
  },
  {
   "cell_type": "markdown",
   "metadata": {},
   "source": [
    "## Use time to book as another dimension to split travellers from inter-city borrowers "
   ]
  },
  {
   "cell_type": "code",
   "execution_count": 62,
   "metadata": {
    "ExecuteTime": {
     "end_time": "2021-09-20T07:00:36.721688Z",
     "start_time": "2021-09-20T07:00:36.701691Z"
    }
   },
   "outputs": [],
   "source": [
    "X_3 = X[X['borrower_distance'] > 8].copy(deep=True)"
   ]
  },
  {
   "cell_type": "code",
   "execution_count": 63,
   "metadata": {
    "ExecuteTime": {
     "end_time": "2021-09-20T07:00:36.761357Z",
     "start_time": "2021-09-20T07:00:36.722191Z"
    }
   },
   "outputs": [
    {
     "data": {
      "text/html": [
       "<div>\n",
       "<style scoped>\n",
       "    .dataframe tbody tr th:only-of-type {\n",
       "        vertical-align: middle;\n",
       "    }\n",
       "\n",
       "    .dataframe tbody tr th {\n",
       "        vertical-align: top;\n",
       "    }\n",
       "\n",
       "    .dataframe thead th {\n",
       "        text-align: right;\n",
       "    }\n",
       "</style>\n",
       "<table border=\"1\" class=\"dataframe\">\n",
       "  <thead>\n",
       "    <tr style=\"text-align: right;\">\n",
       "      <th></th>\n",
       "      <th>time_to_book</th>\n",
       "      <th>trip_distance</th>\n",
       "      <th>borrower_distance</th>\n",
       "    </tr>\n",
       "  </thead>\n",
       "  <tbody>\n",
       "    <tr>\n",
       "      <th>time_to_book</th>\n",
       "      <td>1.000000</td>\n",
       "      <td>0.194483</td>\n",
       "      <td>0.048264</td>\n",
       "    </tr>\n",
       "    <tr>\n",
       "      <th>trip_distance</th>\n",
       "      <td>0.194483</td>\n",
       "      <td>1.000000</td>\n",
       "      <td>0.093483</td>\n",
       "    </tr>\n",
       "    <tr>\n",
       "      <th>borrower_distance</th>\n",
       "      <td>0.048264</td>\n",
       "      <td>0.093483</td>\n",
       "      <td>1.000000</td>\n",
       "    </tr>\n",
       "  </tbody>\n",
       "</table>\n",
       "</div>"
      ],
      "text/plain": [
       "                   time_to_book  trip_distance  borrower_distance\n",
       "time_to_book           1.000000       0.194483           0.048264\n",
       "trip_distance          0.194483       1.000000           0.093483\n",
       "borrower_distance      0.048264       0.093483           1.000000"
      ]
     },
     "execution_count": 63,
     "metadata": {},
     "output_type": "execute_result"
    }
   ],
   "source": [
    "X_3[['time_to_book','trip_distance','borrower_distance']].corr()"
   ]
  },
  {
   "cell_type": "code",
   "execution_count": 64,
   "metadata": {
    "ExecuteTime": {
     "end_time": "2021-09-20T07:00:36.801472Z",
     "start_time": "2021-09-20T07:00:36.761357Z"
    }
   },
   "outputs": [
    {
     "data": {
      "text/plain": [
       "borrower_distance    719.687266\n",
       "trip_duration         91.150000\n",
       "trip_distance        385.000000\n",
       "time_to_book           7.000000\n",
       "kmeans                 4.000000\n",
       "Name: 0.95, dtype: float64"
      ]
     },
     "execution_count": 64,
     "metadata": {},
     "output_type": "execute_result"
    }
   ],
   "source": [
    "X_3.quantile(.95)"
   ]
  },
  {
   "cell_type": "code",
   "execution_count": 65,
   "metadata": {
    "ExecuteTime": {
     "end_time": "2021-09-20T07:00:36.825808Z",
     "start_time": "2021-09-20T07:00:36.801472Z"
    },
    "scrolled": true
   },
   "outputs": [
    {
     "data": {
      "text/html": [
       "<div>\n",
       "<style scoped>\n",
       "    .dataframe tbody tr th:only-of-type {\n",
       "        vertical-align: middle;\n",
       "    }\n",
       "\n",
       "    .dataframe tbody tr th {\n",
       "        vertical-align: top;\n",
       "    }\n",
       "\n",
       "    .dataframe thead th {\n",
       "        text-align: right;\n",
       "    }\n",
       "</style>\n",
       "<table border=\"1\" class=\"dataframe\">\n",
       "  <thead>\n",
       "    <tr style=\"text-align: right;\">\n",
       "      <th></th>\n",
       "      <th>borrower_distance</th>\n",
       "      <th>trip_duration</th>\n",
       "      <th>trip_distance</th>\n",
       "      <th>time_to_book</th>\n",
       "      <th>kmeans</th>\n",
       "    </tr>\n",
       "  </thead>\n",
       "  <tbody>\n",
       "  </tbody>\n",
       "</table>\n",
       "</div>"
      ],
      "text/plain": [
       "Empty DataFrame\n",
       "Columns: [borrower_distance, trip_duration, trip_distance, time_to_book, kmeans]\n",
       "Index: []"
      ]
     },
     "execution_count": 65,
     "metadata": {},
     "output_type": "execute_result"
    }
   ],
   "source": [
    "X_3[X_3['trip_distance'] > 800]"
   ]
  },
  {
   "cell_type": "code",
   "execution_count": 66,
   "metadata": {
    "ExecuteTime": {
     "end_time": "2021-09-20T07:00:42.620737Z",
     "start_time": "2021-09-20T07:00:36.827709Z"
    }
   },
   "outputs": [
    {
     "data": {
      "text/plain": [
       "<Figure size 1080x1080 with 0 Axes>"
      ]
     },
     "metadata": {},
     "output_type": "display_data"
    },
    {
     "data": {
      "image/png": "[encoded data removed]",
      "text/plain": [
       "<Figure size 432x432 with 3 Axes>"
      ]
     },
     "metadata": {
      "needs_background": "light"
     },
     "output_type": "display_data"
    }
   ],
   "source": [
    "plt.figure(figsize=(15,15))\n",
    "# sns.scatterplot(data=X, x='trip_distance', y='time_to_book')\n",
    "sns.jointplot(data=X_3[X_3['trip_distance'] <1000], x='trip_distance', y='time_to_book')\n",
    "plt.xlim(0,1000)\n",
    "plt.ylim(0,100)\n",
    "plt.show()"
   ]
  },
  {
   "cell_type": "code",
   "execution_count": 67,
   "metadata": {
    "ExecuteTime": {
     "end_time": "2021-09-20T07:00:42.632320Z",
     "start_time": "2021-09-20T07:00:42.624310Z"
    }
   },
   "outputs": [],
   "source": [
    "var1='borrower_distance'\n",
    "var2='time_to_book'"
   ]
  },
  {
   "cell_type": "code",
   "execution_count": 68,
   "metadata": {
    "ExecuteTime": {
     "end_time": "2021-09-20T07:00:42.695668Z",
     "start_time": "2021-09-20T07:00:42.655796Z"
    }
   },
   "outputs": [],
   "source": [
    "scaler = StandardScaler()\n",
    "scaler.fit(X_3)\n",
    "X_3_scaled = scaler.transform(X_3)\n",
    "X_3_scaled = pd.DataFrame(data=X_3_scaled, columns=X_3.columns)"
   ]
  },
  {
   "cell_type": "code",
   "execution_count": 69,
   "metadata": {
    "ExecuteTime": {
     "end_time": "2021-09-20T07:00:43.168958Z",
     "start_time": "2021-09-20T07:00:42.703676Z"
    },
    "id": "HbfhQy0uLl4y"
   },
   "outputs": [],
   "source": [
    "kmeans = KMeans(n_clusters=5, random_state=0).fit(X_3_scaled[[var1, var2]])"
   ]
  },
  {
   "cell_type": "code",
   "execution_count": 70,
   "metadata": {
    "ExecuteTime": {
     "end_time": "2021-09-20T07:00:43.191376Z",
     "start_time": "2021-09-20T07:00:43.169666Z"
    },
    "colab": {
     "base_uri": "https://localhost:8080/",
     "height": 141
    },
    "id": "kn_544dtNLJB",
    "outputId": "528ebf15-aac9-4706-cf2e-1d854f50b369"
   },
   "outputs": [
    {
     "data": {
      "text/html": [
       "<div>\n",
       "<style scoped>\n",
       "    .dataframe tbody tr th:only-of-type {\n",
       "        vertical-align: middle;\n",
       "    }\n",
       "\n",
       "    .dataframe tbody tr th {\n",
       "        vertical-align: top;\n",
       "    }\n",
       "\n",
       "    .dataframe thead th {\n",
       "        text-align: right;\n",
       "    }\n",
       "</style>\n",
       "<table border=\"1\" class=\"dataframe\">\n",
       "  <thead>\n",
       "    <tr style=\"text-align: right;\">\n",
       "      <th></th>\n",
       "      <th>borrower_distance</th>\n",
       "      <th>time_to_book</th>\n",
       "    </tr>\n",
       "  </thead>\n",
       "  <tbody>\n",
       "    <tr>\n",
       "      <th>0</th>\n",
       "      <td>-0.518580</td>\n",
       "      <td>-0.247413</td>\n",
       "    </tr>\n",
       "    <tr>\n",
       "      <th>1</th>\n",
       "      <td>1.889313</td>\n",
       "      <td>-0.109227</td>\n",
       "    </tr>\n",
       "    <tr>\n",
       "      <th>2</th>\n",
       "      <td>0.426850</td>\n",
       "      <td>10.560776</td>\n",
       "    </tr>\n",
       "    <tr>\n",
       "      <th>3</th>\n",
       "      <td>0.379173</td>\n",
       "      <td>3.962098</td>\n",
       "    </tr>\n",
       "    <tr>\n",
       "      <th>4</th>\n",
       "      <td>-0.507123</td>\n",
       "      <td>1.057882</td>\n",
       "    </tr>\n",
       "  </tbody>\n",
       "</table>\n",
       "</div>"
      ],
      "text/plain": [
       "   borrower_distance  time_to_book\n",
       "0          -0.518580     -0.247413\n",
       "1           1.889313     -0.109227\n",
       "2           0.426850     10.560776\n",
       "3           0.379173      3.962098\n",
       "4          -0.507123      1.057882"
      ]
     },
     "execution_count": 70,
     "metadata": {},
     "output_type": "execute_result"
    }
   ],
   "source": [
    "cluster_centers = pd.DataFrame(columns=[var1, var2], data = kmeans.cluster_centers_)\n",
    "cluster_centers"
   ]
  },
  {
   "cell_type": "code",
   "execution_count": 71,
   "metadata": {
    "ExecuteTime": {
     "end_time": "2021-09-20T07:00:43.210596Z",
     "start_time": "2021-09-20T07:00:43.194164Z"
    },
    "colab": {
     "base_uri": "https://localhost:8080/"
    },
    "id": "NrIuhH1fR_Oz",
    "outputId": "a607f829-4fcb-4a5e-8256-5a3b4f9a0927"
   },
   "outputs": [
    {
     "data": {
      "text/plain": [
       "borrower_distance    float64\n",
       "time_to_book         float64\n",
       "dtype: object"
      ]
     },
     "execution_count": 71,
     "metadata": {},
     "output_type": "execute_result"
    }
   ],
   "source": [
    "cluster_centers.dtypes"
   ]
  },
  {
   "cell_type": "code",
   "execution_count": 72,
   "metadata": {
    "ExecuteTime": {
     "end_time": "2021-09-20T07:00:43.560530Z",
     "start_time": "2021-09-20T07:00:43.211499Z"
    },
    "colab": {
     "base_uri": "https://localhost:8080/",
     "height": 297
    },
    "id": "rQoWiEHIR0eS",
    "outputId": "9c0b8499-8504-4174-cba0-38f781a8b348"
   },
   "outputs": [
    {
     "data": {
      "image/png": "[encoded data removed]",
      "text/plain": [
       "<Figure size 360x360 with 1 Axes>"
      ]
     },
     "metadata": {
      "needs_background": "light"
     },
     "output_type": "display_data"
    }
   ],
   "source": [
    "plt.figure(figsize=(5,5))\n",
    "sns.scatterplot(data=cluster_centers, x=var1, y=var2)\n",
    "plt.show()"
   ]
  },
  {
   "cell_type": "code",
   "execution_count": 73,
   "metadata": {
    "ExecuteTime": {
     "end_time": "2021-09-20T07:00:43.579010Z",
     "start_time": "2021-09-20T07:00:43.561779Z"
    },
    "id": "9TOQIJ-aNQm2"
   },
   "outputs": [],
   "source": [
    "X_3['kmeans'] = kmeans.labels_"
   ]
  },
  {
   "cell_type": "code",
   "execution_count": 74,
   "metadata": {
    "ExecuteTime": {
     "end_time": "2021-09-20T07:00:43.645894Z",
     "start_time": "2021-09-20T07:00:43.584584Z"
    },
    "colab": {
     "base_uri": "https://localhost:8080/",
     "height": 171
    },
    "id": "yCSWre_HNTg6",
    "outputId": "6bcd713b-557e-49b6-bbdb-9b986b6dc83d"
   },
   "outputs": [
    {
     "data": {
      "text/html": [
       "<div>\n",
       "<style scoped>\n",
       "    .dataframe tbody tr th:only-of-type {\n",
       "        vertical-align: middle;\n",
       "    }\n",
       "\n",
       "    .dataframe tbody tr th {\n",
       "        vertical-align: top;\n",
       "    }\n",
       "\n",
       "    .dataframe thead tr th {\n",
       "        text-align: left;\n",
       "    }\n",
       "\n",
       "    .dataframe thead tr:last-of-type th {\n",
       "        text-align: right;\n",
       "    }\n",
       "</style>\n",
       "<table border=\"1\" class=\"dataframe\">\n",
       "  <thead>\n",
       "    <tr>\n",
       "      <th></th>\n",
       "      <th colspan=\"2\" halign=\"left\">borrower_distance</th>\n",
       "      <th colspan=\"2\" halign=\"left\">trip_duration</th>\n",
       "      <th colspan=\"2\" halign=\"left\">trip_distance</th>\n",
       "      <th colspan=\"2\" halign=\"left\">time_to_book</th>\n",
       "    </tr>\n",
       "    <tr>\n",
       "      <th></th>\n",
       "      <th>count</th>\n",
       "      <th>mean</th>\n",
       "      <th>count</th>\n",
       "      <th>mean</th>\n",
       "      <th>count</th>\n",
       "      <th>mean</th>\n",
       "      <th>count</th>\n",
       "      <th>mean</th>\n",
       "    </tr>\n",
       "    <tr>\n",
       "      <th>kmeans</th>\n",
       "      <th></th>\n",
       "      <th></th>\n",
       "      <th></th>\n",
       "      <th></th>\n",
       "      <th></th>\n",
       "      <th></th>\n",
       "      <th></th>\n",
       "      <th></th>\n",
       "    </tr>\n",
       "  </thead>\n",
       "  <tbody>\n",
       "    <tr>\n",
       "      <th>0</th>\n",
       "      <td>13468</td>\n",
       "      <td>22.918731</td>\n",
       "      <td>13468</td>\n",
       "      <td>18.965919</td>\n",
       "      <td>13468</td>\n",
       "      <td>96.179388</td>\n",
       "      <td>13468</td>\n",
       "      <td>0.601500</td>\n",
       "    </tr>\n",
       "    <tr>\n",
       "      <th>1</th>\n",
       "      <td>4002</td>\n",
       "      <td>695.334996</td>\n",
       "      <td>4002</td>\n",
       "      <td>25.548226</td>\n",
       "      <td>4002</td>\n",
       "      <td>123.884558</td>\n",
       "      <td>4002</td>\n",
       "      <td>1.200150</td>\n",
       "    </tr>\n",
       "    <tr>\n",
       "      <th>4</th>\n",
       "      <td>1471</td>\n",
       "      <td>26.118198</td>\n",
       "      <td>1471</td>\n",
       "      <td>27.151598</td>\n",
       "      <td>1471</td>\n",
       "      <td>144.367777</td>\n",
       "      <td>1471</td>\n",
       "      <td>6.256288</td>\n",
       "    </tr>\n",
       "    <tr>\n",
       "      <th>3</th>\n",
       "      <td>364</td>\n",
       "      <td>273.620840</td>\n",
       "      <td>364</td>\n",
       "      <td>47.181319</td>\n",
       "      <td>364</td>\n",
       "      <td>210.365385</td>\n",
       "      <td>364</td>\n",
       "      <td>18.837912</td>\n",
       "    </tr>\n",
       "    <tr>\n",
       "      <th>2</th>\n",
       "      <td>73</td>\n",
       "      <td>286.934676</td>\n",
       "      <td>73</td>\n",
       "      <td>62.082192</td>\n",
       "      <td>73</td>\n",
       "      <td>263.630137</td>\n",
       "      <td>73</td>\n",
       "      <td>47.424658</td>\n",
       "    </tr>\n",
       "  </tbody>\n",
       "</table>\n",
       "</div>"
      ],
      "text/plain": [
       "       borrower_distance             trip_duration            trip_distance             time_to_book           \n",
       "                   count        mean         count       mean         count        mean        count       mean\n",
       "kmeans                                                                                                         \n",
       "0                  13468   22.918731         13468  18.965919         13468   96.179388        13468   0.601500\n",
       "1                   4002  695.334996          4002  25.548226          4002  123.884558         4002   1.200150\n",
       "4                   1471   26.118198          1471  27.151598          1471  144.367777         1471   6.256288\n",
       "3                    364  273.620840           364  47.181319           364  210.365385          364  18.837912\n",
       "2                     73  286.934676            73  62.082192            73  263.630137           73  47.424658"
      ]
     },
     "execution_count": 74,
     "metadata": {},
     "output_type": "execute_result"
    }
   ],
   "source": [
    "X_3.groupby(['kmeans']).agg(['count','mean']).sort_values(by=('trip_distance','mean'))"
   ]
  },
  {
   "cell_type": "code",
   "execution_count": 75,
   "metadata": {
    "ExecuteTime": {
     "end_time": "2021-09-20T07:01:05.322664Z",
     "start_time": "2021-09-20T07:00:43.645894Z"
    },
    "scrolled": false
   },
   "outputs": [
    {
     "data": {
      "text/plain": [
       "<Figure size 1440x1440 with 0 Axes>"
      ]
     },
     "metadata": {},
     "output_type": "display_data"
    },
    {
     "data": {
      "image/png": "[encoded data removed]",
      "text/plain": [
       "<Figure size 720x720 with 3 Axes>"
      ]
     },
     "metadata": {
      "needs_background": "light"
     },
     "output_type": "display_data"
    }
   ],
   "source": [
    "plt.figure(figsize=(20,20))\n",
    "sns.jointplot(data=X_3, x=var1, y=var2, kind=\"hist\", \n",
    "              marginal_kws=dict(bins=50, fill=False),\n",
    "              hue=\"kmeans\", height=10, palette=\"Set2\")\n",
    "plt.xlim(0,700)\n",
    "plt.ylim(0,50)\n",
    "plt.show()"
   ]
  },
  {
   "cell_type": "code",
   "execution_count": 76,
   "metadata": {
    "ExecuteTime": {
     "end_time": "2021-09-20T07:01:07.275309Z",
     "start_time": "2021-09-20T07:01:05.327382Z"
    }
   },
   "outputs": [
    {
     "data": {
      "image/png": "[encoded data removed]",
      "text/plain": [
       "<Figure size 864x864 with 1 Axes>"
      ]
     },
     "metadata": {
      "needs_background": "light"
     },
     "output_type": "display_data"
    }
   ],
   "source": [
    "plt.figure(figsize=(12,12))\n",
    "sns.scatterplot(data=X_3, x=var1, y=var2,\n",
    "              hue=\"kmeans\", palette=\"Set2\", y_jitter=.3)\n",
    "plt.xlim(0,3000)\n",
    "# plt.ylim(0,700)\n",
    "plt.show()"
   ]
  },
  {
   "cell_type": "code",
   "execution_count": 77,
   "metadata": {
    "ExecuteTime": {
     "end_time": "2021-09-20T07:01:08.612215Z",
     "start_time": "2021-09-20T07:01:07.279351Z"
    }
   },
   "outputs": [
    {
     "data": {
      "text/plain": [
       "<Figure size 864x864 with 0 Axes>"
      ]
     },
     "metadata": {},
     "output_type": "display_data"
    },
    {
     "data": {
      "image/png": "[encoded data removed]",
      "text/plain": [
       "<Figure size 551.25x504 with 1 Axes>"
      ]
     },
     "metadata": {
      "needs_background": "light"
     },
     "output_type": "display_data"
    }
   ],
   "source": [
    "plt.figure(figsize=(12,12))\n",
    "sns.lmplot(data=X_3, x=var1, y=var2, y_jitter=.3,\n",
    "            hue=\"kmeans\", palette=\"Set2\",\n",
    "            fit_reg=False, height=7)\n",
    "# plt.xlim(0,50)\n",
    "plt.xlim(0,3000)\n",
    "plt.show()"
   ]
  },
  {
   "cell_type": "code",
   "execution_count": 78,
   "metadata": {
    "ExecuteTime": {
     "end_time": "2021-09-20T07:01:08.642339Z",
     "start_time": "2021-09-20T07:01:08.614509Z"
    },
    "scrolled": true
   },
   "outputs": [
    {
     "data": {
      "text/plain": [
       "kmeans\n",
       "0    13468\n",
       "1     4002\n",
       "2       73\n",
       "3      364\n",
       "4     1471\n",
       "Name: trip_duration, dtype: int64"
      ]
     },
     "execution_count": 78,
     "metadata": {},
     "output_type": "execute_result"
    }
   ],
   "source": [
    "X_3.groupby(['kmeans']).count()['trip_duration']"
   ]
  },
  {
   "cell_type": "code",
   "execution_count": 79,
   "metadata": {
    "ExecuteTime": {
     "end_time": "2021-09-20T07:01:08.886559Z",
     "start_time": "2021-09-20T07:01:08.642339Z"
    }
   },
   "outputs": [
    {
     "data": {
      "text/html": [
       "<div>\n",
       "<style scoped>\n",
       "    .dataframe tbody tr th:only-of-type {\n",
       "        vertical-align: middle;\n",
       "    }\n",
       "\n",
       "    .dataframe tbody tr th {\n",
       "        vertical-align: top;\n",
       "    }\n",
       "\n",
       "    .dataframe thead tr th {\n",
       "        text-align: left;\n",
       "    }\n",
       "\n",
       "    .dataframe thead tr:last-of-type th {\n",
       "        text-align: right;\n",
       "    }\n",
       "</style>\n",
       "<table border=\"1\" class=\"dataframe\">\n",
       "  <thead>\n",
       "    <tr>\n",
       "      <th></th>\n",
       "      <th colspan=\"8\" halign=\"left\">borrower_distance</th>\n",
       "      <th colspan=\"8\" halign=\"left\">trip_duration</th>\n",
       "      <th colspan=\"8\" halign=\"left\">trip_distance</th>\n",
       "      <th colspan=\"8\" halign=\"left\">time_to_book</th>\n",
       "    </tr>\n",
       "    <tr>\n",
       "      <th></th>\n",
       "      <th>count</th>\n",
       "      <th>mean</th>\n",
       "      <th>std</th>\n",
       "      <th>min</th>\n",
       "      <th>25%</th>\n",
       "      <th>50%</th>\n",
       "      <th>75%</th>\n",
       "      <th>max</th>\n",
       "      <th>count</th>\n",
       "      <th>mean</th>\n",
       "      <th>std</th>\n",
       "      <th>min</th>\n",
       "      <th>25%</th>\n",
       "      <th>50%</th>\n",
       "      <th>75%</th>\n",
       "      <th>max</th>\n",
       "      <th>count</th>\n",
       "      <th>mean</th>\n",
       "      <th>std</th>\n",
       "      <th>min</th>\n",
       "      <th>25%</th>\n",
       "      <th>50%</th>\n",
       "      <th>75%</th>\n",
       "      <th>max</th>\n",
       "      <th>count</th>\n",
       "      <th>mean</th>\n",
       "      <th>std</th>\n",
       "      <th>min</th>\n",
       "      <th>25%</th>\n",
       "      <th>50%</th>\n",
       "      <th>75%</th>\n",
       "      <th>max</th>\n",
       "    </tr>\n",
       "    <tr>\n",
       "      <th>kmeans</th>\n",
       "      <th></th>\n",
       "      <th></th>\n",
       "      <th></th>\n",
       "      <th></th>\n",
       "      <th></th>\n",
       "      <th></th>\n",
       "      <th></th>\n",
       "      <th></th>\n",
       "      <th></th>\n",
       "      <th></th>\n",
       "      <th></th>\n",
       "      <th></th>\n",
       "      <th></th>\n",
       "      <th></th>\n",
       "      <th></th>\n",
       "      <th></th>\n",
       "      <th></th>\n",
       "      <th></th>\n",
       "      <th></th>\n",
       "      <th></th>\n",
       "      <th></th>\n",
       "      <th></th>\n",
       "      <th></th>\n",
       "      <th></th>\n",
       "      <th></th>\n",
       "      <th></th>\n",
       "      <th></th>\n",
       "      <th></th>\n",
       "      <th></th>\n",
       "      <th></th>\n",
       "      <th></th>\n",
       "      <th></th>\n",
       "    </tr>\n",
       "  </thead>\n",
       "  <tbody>\n",
       "    <tr>\n",
       "      <th>0</th>\n",
       "      <td>13468.0</td>\n",
       "      <td>22.918731</td>\n",
       "      <td>36.960046</td>\n",
       "      <td>8.000120</td>\n",
       "      <td>9.979589</td>\n",
       "      <td>13.052617</td>\n",
       "      <td>19.594014</td>\n",
       "      <td>362.144274</td>\n",
       "      <td>13468.0</td>\n",
       "      <td>18.965919</td>\n",
       "      <td>29.897567</td>\n",
       "      <td>0.0</td>\n",
       "      <td>2.0</td>\n",
       "      <td>7.0</td>\n",
       "      <td>23.0</td>\n",
       "      <td>214.0</td>\n",
       "      <td>13468.0</td>\n",
       "      <td>96.179388</td>\n",
       "      <td>108.453515</td>\n",
       "      <td>1.0</td>\n",
       "      <td>29.0</td>\n",
       "      <td>57.5</td>\n",
       "      <td>116.00</td>\n",
       "      <td>659.0</td>\n",
       "      <td>13468.0</td>\n",
       "      <td>0.601500</td>\n",
       "      <td>0.842997</td>\n",
       "      <td>0.0</td>\n",
       "      <td>0.0</td>\n",
       "      <td>0.0</td>\n",
       "      <td>1.0</td>\n",
       "      <td>3.0</td>\n",
       "    </tr>\n",
       "    <tr>\n",
       "      <th>4</th>\n",
       "      <td>1471.0</td>\n",
       "      <td>26.118198</td>\n",
       "      <td>45.990040</td>\n",
       "      <td>8.011623</td>\n",
       "      <td>10.062505</td>\n",
       "      <td>13.232390</td>\n",
       "      <td>20.298689</td>\n",
       "      <td>450.873861</td>\n",
       "      <td>1471.0</td>\n",
       "      <td>27.151598</td>\n",
       "      <td>33.417654</td>\n",
       "      <td>1.0</td>\n",
       "      <td>7.0</td>\n",
       "      <td>13.0</td>\n",
       "      <td>34.0</td>\n",
       "      <td>200.0</td>\n",
       "      <td>1471.0</td>\n",
       "      <td>144.367777</td>\n",
       "      <td>145.949950</td>\n",
       "      <td>1.0</td>\n",
       "      <td>45.0</td>\n",
       "      <td>88.0</td>\n",
       "      <td>191.50</td>\n",
       "      <td>658.0</td>\n",
       "      <td>1471.0</td>\n",
       "      <td>6.256288</td>\n",
       "      <td>2.399600</td>\n",
       "      <td>4.0</td>\n",
       "      <td>4.0</td>\n",
       "      <td>5.0</td>\n",
       "      <td>7.0</td>\n",
       "      <td>13.0</td>\n",
       "    </tr>\n",
       "    <tr>\n",
       "      <th>3</th>\n",
       "      <td>364.0</td>\n",
       "      <td>273.620840</td>\n",
       "      <td>319.974535</td>\n",
       "      <td>8.041021</td>\n",
       "      <td>11.195406</td>\n",
       "      <td>21.850172</td>\n",
       "      <td>646.281163</td>\n",
       "      <td>813.561066</td>\n",
       "      <td>364.0</td>\n",
       "      <td>47.181319</td>\n",
       "      <td>38.807927</td>\n",
       "      <td>1.0</td>\n",
       "      <td>17.0</td>\n",
       "      <td>36.0</td>\n",
       "      <td>71.0</td>\n",
       "      <td>198.0</td>\n",
       "      <td>364.0</td>\n",
       "      <td>210.365385</td>\n",
       "      <td>168.137426</td>\n",
       "      <td>2.0</td>\n",
       "      <td>68.0</td>\n",
       "      <td>158.0</td>\n",
       "      <td>322.00</td>\n",
       "      <td>651.0</td>\n",
       "      <td>364.0</td>\n",
       "      <td>18.837912</td>\n",
       "      <td>5.311622</td>\n",
       "      <td>11.0</td>\n",
       "      <td>14.0</td>\n",
       "      <td>17.0</td>\n",
       "      <td>22.0</td>\n",
       "      <td>33.0</td>\n",
       "    </tr>\n",
       "    <tr>\n",
       "      <th>2</th>\n",
       "      <td>73.0</td>\n",
       "      <td>286.934676</td>\n",
       "      <td>326.886914</td>\n",
       "      <td>8.592412</td>\n",
       "      <td>13.992872</td>\n",
       "      <td>19.250682</td>\n",
       "      <td>630.547684</td>\n",
       "      <td>817.932983</td>\n",
       "      <td>73.0</td>\n",
       "      <td>62.082192</td>\n",
       "      <td>44.344220</td>\n",
       "      <td>5.0</td>\n",
       "      <td>26.0</td>\n",
       "      <td>52.0</td>\n",
       "      <td>84.0</td>\n",
       "      <td>195.0</td>\n",
       "      <td>73.0</td>\n",
       "      <td>263.630137</td>\n",
       "      <td>199.955516</td>\n",
       "      <td>10.0</td>\n",
       "      <td>63.0</td>\n",
       "      <td>222.0</td>\n",
       "      <td>427.00</td>\n",
       "      <td>650.0</td>\n",
       "      <td>73.0</td>\n",
       "      <td>47.424658</td>\n",
       "      <td>13.290470</td>\n",
       "      <td>34.0</td>\n",
       "      <td>37.0</td>\n",
       "      <td>44.0</td>\n",
       "      <td>54.0</td>\n",
       "      <td>91.0</td>\n",
       "    </tr>\n",
       "    <tr>\n",
       "      <th>1</th>\n",
       "      <td>4002.0</td>\n",
       "      <td>695.334996</td>\n",
       "      <td>58.572574</td>\n",
       "      <td>361.356167</td>\n",
       "      <td>694.386631</td>\n",
       "      <td>710.825896</td>\n",
       "      <td>718.579056</td>\n",
       "      <td>818.790997</td>\n",
       "      <td>4002.0</td>\n",
       "      <td>25.548226</td>\n",
       "      <td>33.162409</td>\n",
       "      <td>1.0</td>\n",
       "      <td>4.0</td>\n",
       "      <td>10.0</td>\n",
       "      <td>33.0</td>\n",
       "      <td>214.0</td>\n",
       "      <td>4002.0</td>\n",
       "      <td>123.884558</td>\n",
       "      <td>128.562337</td>\n",
       "      <td>1.0</td>\n",
       "      <td>31.0</td>\n",
       "      <td>76.0</td>\n",
       "      <td>174.75</td>\n",
       "      <td>652.0</td>\n",
       "      <td>4002.0</td>\n",
       "      <td>1.200150</td>\n",
       "      <td>1.960665</td>\n",
       "      <td>0.0</td>\n",
       "      <td>0.0</td>\n",
       "      <td>1.0</td>\n",
       "      <td>1.0</td>\n",
       "      <td>11.0</td>\n",
       "    </tr>\n",
       "  </tbody>\n",
       "</table>\n",
       "</div>"
      ],
      "text/plain": [
       "       borrower_distance                                                                                     trip_duration                                                     trip_distance                                                           time_to_book                                                    \n",
       "                   count        mean         std         min         25%         50%         75%         max         count       mean        std  min   25%   50%   75%    max         count        mean         std   min   25%    50%     75%    max        count       mean        std   min   25%   50%   75%   max\n",
       "kmeans                                                                                                                                                                                                                                                                                                                 \n",
       "0                13468.0   22.918731   36.960046    8.000120    9.979589   13.052617   19.594014  362.144274       13468.0  18.965919  29.897567  0.0   2.0   7.0  23.0  214.0       13468.0   96.179388  108.453515   1.0  29.0   57.5  116.00  659.0      13468.0   0.601500   0.842997   0.0   0.0   0.0   1.0   3.0\n",
       "4                 1471.0   26.118198   45.990040    8.011623   10.062505   13.232390   20.298689  450.873861        1471.0  27.151598  33.417654  1.0   7.0  13.0  34.0  200.0        1471.0  144.367777  145.949950   1.0  45.0   88.0  191.50  658.0       1471.0   6.256288   2.399600   4.0   4.0   5.0   7.0  13.0\n",
       "3                  364.0  273.620840  319.974535    8.041021   11.195406   21.850172  646.281163  813.561066         364.0  47.181319  38.807927  1.0  17.0  36.0  71.0  198.0         364.0  210.365385  168.137426   2.0  68.0  158.0  322.00  651.0        364.0  18.837912   5.311622  11.0  14.0  17.0  22.0  33.0\n",
       "2                   73.0  286.934676  326.886914    8.592412   13.992872   19.250682  630.547684  817.932983          73.0  62.082192  44.344220  5.0  26.0  52.0  84.0  195.0          73.0  263.630137  199.955516  10.0  63.0  222.0  427.00  650.0         73.0  47.424658  13.290470  34.0  37.0  44.0  54.0  91.0\n",
       "1                 4002.0  695.334996   58.572574  361.356167  694.386631  710.825896  718.579056  818.790997        4002.0  25.548226  33.162409  1.0   4.0  10.0  33.0  214.0        4002.0  123.884558  128.562337   1.0  31.0   76.0  174.75  652.0       4002.0   1.200150   1.960665   0.0   0.0   1.0   1.0  11.0"
      ]
     },
     "execution_count": 79,
     "metadata": {},
     "output_type": "execute_result"
    }
   ],
   "source": [
    "X_3.groupby(['kmeans']).describe().sort_values(by=('borrower_distance','max'))"
   ]
  },
  {
   "cell_type": "code",
   "execution_count": 80,
   "metadata": {
    "ExecuteTime": {
     "end_time": "2021-09-20T07:01:08.911448Z",
     "start_time": "2021-09-20T07:01:08.886559Z"
    }
   },
   "outputs": [],
   "source": [
    "X_3.loc[X_3['borrower_distance'] > 600, 'traveller_split'] = 'traveller'\n",
    "X_3.loc[X_3['borrower_distance'] <= 600, 'traveller_split'] = 'commuter'"
   ]
  },
  {
   "cell_type": "code",
   "execution_count": 81,
   "metadata": {
    "ExecuteTime": {
     "end_time": "2021-09-20T07:01:09.952725Z",
     "start_time": "2021-09-20T07:01:08.913842Z"
    }
   },
   "outputs": [
    {
     "data": {
      "text/plain": [
       "<Figure size 864x864 with 0 Axes>"
      ]
     },
     "metadata": {},
     "output_type": "display_data"
    },
    {
     "data": {
      "image/png": "[encoded data removed]",
      "text/plain": [
       "<Figure size 591.25x504 with 1 Axes>"
      ]
     },
     "metadata": {
      "needs_background": "light"
     },
     "output_type": "display_data"
    }
   ],
   "source": [
    "plt.figure(figsize=(12,12))\n",
    "sns.lmplot(data=X_3, x=var1, y=var2, y_jitter=.3,\n",
    "            hue=\"traveller_split\", palette=\"Set2\",\n",
    "            fit_reg=False, height=7)\n",
    "# plt.xlim(0,50)\n",
    "plt.xlim(0,5000)\n",
    "plt.ylabel('booking creation to start (days)')\n",
    "plt.show()"
   ]
  },
  {
   "cell_type": "code",
   "execution_count": 82,
   "metadata": {
    "ExecuteTime": {
     "end_time": "2021-09-20T07:01:09.971011Z",
     "start_time": "2021-09-20T07:01:09.952725Z"
    }
   },
   "outputs": [
    {
     "data": {
      "text/plain": [
       "traveller_split\n",
       "commuter     15355\n",
       "traveller     4023\n",
       "Name: trip_duration, dtype: int64"
      ]
     },
     "execution_count": 82,
     "metadata": {},
     "output_type": "execute_result"
    }
   ],
   "source": [
    "X_3.groupby(['traveller_split']).count()['trip_duration']"
   ]
  },
  {
   "cell_type": "code",
   "execution_count": null,
   "metadata": {
    "id": "ZEqyBnj_FmBn"
   },
   "outputs": [],
   "source": []
  },
  {
   "cell_type": "markdown",
   "metadata": {},
   "source": [
    "# Standardize definition of segments "
   ]
  },
  {
   "cell_type": "code",
   "execution_count": 83,
   "metadata": {
    "ExecuteTime": {
     "end_time": "2021-09-20T07:01:09.990991Z",
     "start_time": "2021-09-20T07:01:09.973416Z"
    }
   },
   "outputs": [],
   "source": [
    "# ute_borrowers = trip_details[trip_details['car_type'].isin(['Van / People Mover','Ute']) & \n",
    "#                              (trip_details['trip_completed'] == 'Yes') & \n",
    "#                              (trip_details['trip_distance'] > 0)].copy(deep=True)"
   ]
  },
  {
   "cell_type": "code",
   "execution_count": 84,
   "metadata": {
    "ExecuteTime": {
     "end_time": "2021-09-20T07:01:10.005825Z",
     "start_time": "2021-09-20T07:01:09.994160Z"
    }
   },
   "outputs": [],
   "source": [
    "# car_borrowers = trip_details[(trip_details['car_type'].isin(['Car','SUV / 4WD'])) & \n",
    "#                              (trip_details['trip_completed'] == 'Yes') & \n",
    "#                              (trip_details['trip_distance'] > 0)].copy(deep=True)"
   ]
  },
  {
   "cell_type": "code",
   "execution_count": 156,
   "metadata": {
    "ExecuteTime": {
     "end_time": "2021-09-22T18:21:23.976733Z",
     "start_time": "2021-09-22T18:21:23.930723Z"
    }
   },
   "outputs": [],
   "source": [
    "car_sharers = car_borrowers[car_borrowers['borrower_distance'] < 600]"
   ]
  },
  {
   "cell_type": "code",
   "execution_count": 157,
   "metadata": {
    "ExecuteTime": {
     "end_time": "2021-09-22T18:21:24.374013Z",
     "start_time": "2021-09-22T18:21:24.359823Z"
    }
   },
   "outputs": [],
   "source": [
    "car_tourists = car_borrowers[car_borrowers['borrower_distance'] >= 600]"
   ]
  },
  {
   "cell_type": "markdown",
   "metadata": {
    "id": "3X-2Um1aGHBw"
   },
   "source": [
    "# Separate data per state / city"
   ]
  },
  {
   "cell_type": "code",
   "execution_count": 158,
   "metadata": {
    "ExecuteTime": {
     "end_time": "2021-09-22T18:21:25.466336Z",
     "start_time": "2021-09-22T18:21:25.425327Z"
    }
   },
   "outputs": [
    {
     "data": {
      "text/html": [
       "<div>\n",
       "<style scoped>\n",
       "    .dataframe tbody tr th:only-of-type {\n",
       "        vertical-align: middle;\n",
       "    }\n",
       "\n",
       "    .dataframe tbody tr th {\n",
       "        vertical-align: top;\n",
       "    }\n",
       "\n",
       "    .dataframe thead th {\n",
       "        text-align: right;\n",
       "    }\n",
       "</style>\n",
       "<table border=\"1\" class=\"dataframe\">\n",
       "  <thead>\n",
       "    <tr style=\"text-align: right;\">\n",
       "      <th></th>\n",
       "      <th>car_state</th>\n",
       "      <th>count</th>\n",
       "      <th>member_id</th>\n",
       "    </tr>\n",
       "  </thead>\n",
       "  <tbody>\n",
       "    <tr>\n",
       "      <th>1</th>\n",
       "      <td>NSW</td>\n",
       "      <td>126178</td>\n",
       "      <td>37469</td>\n",
       "    </tr>\n",
       "    <tr>\n",
       "      <th>5</th>\n",
       "      <td>VIC</td>\n",
       "      <td>81502</td>\n",
       "      <td>27949</td>\n",
       "    </tr>\n",
       "    <tr>\n",
       "      <th>2</th>\n",
       "      <td>QLD</td>\n",
       "      <td>23210</td>\n",
       "      <td>10579</td>\n",
       "    </tr>\n",
       "    <tr>\n",
       "      <th>6</th>\n",
       "      <td>WA</td>\n",
       "      <td>2832</td>\n",
       "      <td>1518</td>\n",
       "    </tr>\n",
       "    <tr>\n",
       "      <th>0</th>\n",
       "      <td>ACT</td>\n",
       "      <td>1502</td>\n",
       "      <td>932</td>\n",
       "    </tr>\n",
       "    <tr>\n",
       "      <th>4</th>\n",
       "      <td>TAS</td>\n",
       "      <td>486</td>\n",
       "      <td>340</td>\n",
       "    </tr>\n",
       "    <tr>\n",
       "      <th>7</th>\n",
       "      <td>unknown</td>\n",
       "      <td>72</td>\n",
       "      <td>41</td>\n",
       "    </tr>\n",
       "    <tr>\n",
       "      <th>3</th>\n",
       "      <td>SA</td>\n",
       "      <td>30</td>\n",
       "      <td>20</td>\n",
       "    </tr>\n",
       "  </tbody>\n",
       "</table>\n",
       "</div>"
      ],
      "text/plain": [
       "  car_state   count  member_id\n",
       "1       NSW  126178      37469\n",
       "5       VIC   81502      27949\n",
       "2       QLD   23210      10579\n",
       "6        WA    2832       1518\n",
       "0       ACT    1502        932\n",
       "4       TAS     486        340\n",
       "7   unknown      72         41\n",
       "3        SA      30         20"
      ]
     },
     "execution_count": 158,
     "metadata": {},
     "output_type": "execute_result"
    }
   ],
   "source": [
    "car_sharers.groupby(['car_state']).agg({'count':'sum',\n",
    "                                        'member_id':lambda x: x.nunique()}).reset_index()\\\n",
    "    .sort_values(by=['member_id'],ascending=False)"
   ]
  },
  {
   "cell_type": "code",
   "execution_count": 159,
   "metadata": {
    "ExecuteTime": {
     "end_time": "2021-09-22T18:21:26.828997Z",
     "start_time": "2021-09-22T18:21:26.741978Z"
    }
   },
   "outputs": [
    {
     "data": {
      "text/html": [
       "<div>\n",
       "<style scoped>\n",
       "    .dataframe tbody tr th:only-of-type {\n",
       "        vertical-align: middle;\n",
       "    }\n",
       "\n",
       "    .dataframe tbody tr th {\n",
       "        vertical-align: top;\n",
       "    }\n",
       "\n",
       "    .dataframe thead tr th {\n",
       "        text-align: left;\n",
       "    }\n",
       "\n",
       "    .dataframe thead tr:last-of-type th {\n",
       "        text-align: right;\n",
       "    }\n",
       "</style>\n",
       "<table border=\"1\" class=\"dataframe\">\n",
       "  <thead>\n",
       "    <tr>\n",
       "      <th></th>\n",
       "      <th colspan=\"3\" halign=\"left\">age</th>\n",
       "      <th colspan=\"3\" halign=\"left\">count</th>\n",
       "      <th colspan=\"3\" halign=\"left\">member_id</th>\n",
       "    </tr>\n",
       "    <tr>\n",
       "      <th>gender</th>\n",
       "      <th>female</th>\n",
       "      <th>male</th>\n",
       "      <th>other</th>\n",
       "      <th>female</th>\n",
       "      <th>male</th>\n",
       "      <th>other</th>\n",
       "      <th>female</th>\n",
       "      <th>male</th>\n",
       "      <th>other</th>\n",
       "    </tr>\n",
       "    <tr>\n",
       "      <th>car_state</th>\n",
       "      <th></th>\n",
       "      <th></th>\n",
       "      <th></th>\n",
       "      <th></th>\n",
       "      <th></th>\n",
       "      <th></th>\n",
       "      <th></th>\n",
       "      <th></th>\n",
       "      <th></th>\n",
       "    </tr>\n",
       "  </thead>\n",
       "  <tbody>\n",
       "    <tr>\n",
       "      <th>ACT</th>\n",
       "      <td>35.9</td>\n",
       "      <td>35.0</td>\n",
       "      <td>40.0</td>\n",
       "      <td>583.0</td>\n",
       "      <td>910.0</td>\n",
       "      <td>1.0</td>\n",
       "      <td>331.0</td>\n",
       "      <td>594.0</td>\n",
       "      <td>1.0</td>\n",
       "    </tr>\n",
       "    <tr>\n",
       "      <th>NSW</th>\n",
       "      <td>33.2</td>\n",
       "      <td>34.1</td>\n",
       "      <td>33.0</td>\n",
       "      <td>42265.0</td>\n",
       "      <td>80610.0</td>\n",
       "      <td>126.0</td>\n",
       "      <td>12524.0</td>\n",
       "      <td>24301.0</td>\n",
       "      <td>40.0</td>\n",
       "    </tr>\n",
       "    <tr>\n",
       "      <th>QLD</th>\n",
       "      <td>35.2</td>\n",
       "      <td>36.2</td>\n",
       "      <td>31.1</td>\n",
       "      <td>7847.0</td>\n",
       "      <td>15266.0</td>\n",
       "      <td>30.0</td>\n",
       "      <td>3538.0</td>\n",
       "      <td>7004.0</td>\n",
       "      <td>13.0</td>\n",
       "    </tr>\n",
       "    <tr>\n",
       "      <th>SA</th>\n",
       "      <td>34.9</td>\n",
       "      <td>36.2</td>\n",
       "      <td>0.0</td>\n",
       "      <td>15.0</td>\n",
       "      <td>14.0</td>\n",
       "      <td>0.0</td>\n",
       "      <td>6.0</td>\n",
       "      <td>13.0</td>\n",
       "      <td>0.0</td>\n",
       "    </tr>\n",
       "    <tr>\n",
       "      <th>TAS</th>\n",
       "      <td>38.7</td>\n",
       "      <td>36.0</td>\n",
       "      <td>0.0</td>\n",
       "      <td>234.0</td>\n",
       "      <td>247.0</td>\n",
       "      <td>0.0</td>\n",
       "      <td>137.0</td>\n",
       "      <td>200.0</td>\n",
       "      <td>0.0</td>\n",
       "    </tr>\n",
       "    <tr>\n",
       "      <th>VIC</th>\n",
       "      <td>34.0</td>\n",
       "      <td>34.2</td>\n",
       "      <td>36.9</td>\n",
       "      <td>29341.0</td>\n",
       "      <td>49944.0</td>\n",
       "      <td>314.0</td>\n",
       "      <td>9883.0</td>\n",
       "      <td>17603.0</td>\n",
       "      <td>71.0</td>\n",
       "    </tr>\n",
       "    <tr>\n",
       "      <th>WA</th>\n",
       "      <td>34.6</td>\n",
       "      <td>36.0</td>\n",
       "      <td>27.0</td>\n",
       "      <td>908.0</td>\n",
       "      <td>1918.0</td>\n",
       "      <td>2.0</td>\n",
       "      <td>537.0</td>\n",
       "      <td>976.0</td>\n",
       "      <td>1.0</td>\n",
       "    </tr>\n",
       "    <tr>\n",
       "      <th>unknown</th>\n",
       "      <td>33.4</td>\n",
       "      <td>37.0</td>\n",
       "      <td>0.0</td>\n",
       "      <td>38.0</td>\n",
       "      <td>32.0</td>\n",
       "      <td>0.0</td>\n",
       "      <td>21.0</td>\n",
       "      <td>18.0</td>\n",
       "      <td>0.0</td>\n",
       "    </tr>\n",
       "  </tbody>\n",
       "</table>\n",
       "</div>"
      ],
      "text/plain": [
       "             age                count                 member_id               \n",
       "gender    female  male other   female     male  other    female     male other\n",
       "car_state                                                                     \n",
       "ACT         35.9  35.0  40.0    583.0    910.0    1.0     331.0    594.0   1.0\n",
       "NSW         33.2  34.1  33.0  42265.0  80610.0  126.0   12524.0  24301.0  40.0\n",
       "QLD         35.2  36.2  31.1   7847.0  15266.0   30.0    3538.0   7004.0  13.0\n",
       "SA          34.9  36.2   0.0     15.0     14.0    0.0       6.0     13.0   0.0\n",
       "TAS         38.7  36.0   0.0    234.0    247.0    0.0     137.0    200.0   0.0\n",
       "VIC         34.0  34.2  36.9  29341.0  49944.0  314.0    9883.0  17603.0  71.0\n",
       "WA          34.6  36.0  27.0    908.0   1918.0    2.0     537.0    976.0   1.0\n",
       "unknown     33.4  37.0   0.0     38.0     32.0    0.0      21.0     18.0   0.0"
      ]
     },
     "execution_count": 159,
     "metadata": {},
     "output_type": "execute_result"
    }
   ],
   "source": [
    "car_sharers.pivot_table(index='car_state', columns='gender',\n",
    "                        values=['member_id','count', 'age'], aggfunc={'member_id':lambda x: x.nunique()\n",
    "                                                              , 'count':'sum', 'age':'mean'}\n",
    "                       ).fillna(0).round(1)"
   ]
  },
  {
   "cell_type": "code",
   "execution_count": 160,
   "metadata": {
    "ExecuteTime": {
     "end_time": "2021-09-22T18:21:27.259094Z",
     "start_time": "2021-09-22T18:21:27.244089Z"
    }
   },
   "outputs": [
    {
     "data": {
      "text/html": [
       "<div>\n",
       "<style scoped>\n",
       "    .dataframe tbody tr th:only-of-type {\n",
       "        vertical-align: middle;\n",
       "    }\n",
       "\n",
       "    .dataframe tbody tr th {\n",
       "        vertical-align: top;\n",
       "    }\n",
       "\n",
       "    .dataframe thead th {\n",
       "        text-align: right;\n",
       "    }\n",
       "</style>\n",
       "<table border=\"1\" class=\"dataframe\">\n",
       "  <thead>\n",
       "    <tr style=\"text-align: right;\">\n",
       "      <th></th>\n",
       "      <th>car_state</th>\n",
       "      <th>count</th>\n",
       "      <th>member_id</th>\n",
       "    </tr>\n",
       "  </thead>\n",
       "  <tbody>\n",
       "    <tr>\n",
       "      <th>3</th>\n",
       "      <td>QLD</td>\n",
       "      <td>7670</td>\n",
       "      <td>5482</td>\n",
       "    </tr>\n",
       "    <tr>\n",
       "      <th>6</th>\n",
       "      <td>VIC</td>\n",
       "      <td>4750</td>\n",
       "      <td>3058</td>\n",
       "    </tr>\n",
       "    <tr>\n",
       "      <th>1</th>\n",
       "      <td>NSW</td>\n",
       "      <td>5467</td>\n",
       "      <td>2967</td>\n",
       "    </tr>\n",
       "    <tr>\n",
       "      <th>5</th>\n",
       "      <td>TAS</td>\n",
       "      <td>902</td>\n",
       "      <td>786</td>\n",
       "    </tr>\n",
       "    <tr>\n",
       "      <th>7</th>\n",
       "      <td>WA</td>\n",
       "      <td>1175</td>\n",
       "      <td>743</td>\n",
       "    </tr>\n",
       "    <tr>\n",
       "      <th>0</th>\n",
       "      <td>ACT</td>\n",
       "      <td>128</td>\n",
       "      <td>104</td>\n",
       "    </tr>\n",
       "    <tr>\n",
       "      <th>4</th>\n",
       "      <td>SA</td>\n",
       "      <td>24</td>\n",
       "      <td>19</td>\n",
       "    </tr>\n",
       "    <tr>\n",
       "      <th>8</th>\n",
       "      <td>unknown</td>\n",
       "      <td>18</td>\n",
       "      <td>16</td>\n",
       "    </tr>\n",
       "    <tr>\n",
       "      <th>2</th>\n",
       "      <td>NT</td>\n",
       "      <td>14</td>\n",
       "      <td>12</td>\n",
       "    </tr>\n",
       "  </tbody>\n",
       "</table>\n",
       "</div>"
      ],
      "text/plain": [
       "  car_state  count  member_id\n",
       "3       QLD   7670       5482\n",
       "6       VIC   4750       3058\n",
       "1       NSW   5467       2967\n",
       "5       TAS    902        786\n",
       "7        WA   1175        743\n",
       "0       ACT    128        104\n",
       "4        SA     24         19\n",
       "8   unknown     18         16\n",
       "2        NT     14         12"
      ]
     },
     "execution_count": 160,
     "metadata": {},
     "output_type": "execute_result"
    }
   ],
   "source": [
    "car_tourists.groupby(['car_state']).agg({'count':'sum',\n",
    "                                        'member_id':lambda x: x.nunique()}).reset_index()\\\n",
    "    .sort_values(by=['member_id'],ascending=False)"
   ]
  },
  {
   "cell_type": "code",
   "execution_count": 161,
   "metadata": {
    "ExecuteTime": {
     "end_time": "2021-09-22T18:21:28.001005Z",
     "start_time": "2021-09-22T18:21:27.968998Z"
    }
   },
   "outputs": [
    {
     "data": {
      "text/html": [
       "<div>\n",
       "<style scoped>\n",
       "    .dataframe tbody tr th:only-of-type {\n",
       "        vertical-align: middle;\n",
       "    }\n",
       "\n",
       "    .dataframe tbody tr th {\n",
       "        vertical-align: top;\n",
       "    }\n",
       "\n",
       "    .dataframe thead tr th {\n",
       "        text-align: left;\n",
       "    }\n",
       "\n",
       "    .dataframe thead tr:last-of-type th {\n",
       "        text-align: right;\n",
       "    }\n",
       "</style>\n",
       "<table border=\"1\" class=\"dataframe\">\n",
       "  <thead>\n",
       "    <tr>\n",
       "      <th></th>\n",
       "      <th colspan=\"3\" halign=\"left\">age</th>\n",
       "      <th colspan=\"3\" halign=\"left\">count</th>\n",
       "      <th colspan=\"3\" halign=\"left\">member_id</th>\n",
       "    </tr>\n",
       "    <tr>\n",
       "      <th>gender</th>\n",
       "      <th>female</th>\n",
       "      <th>male</th>\n",
       "      <th>other</th>\n",
       "      <th>female</th>\n",
       "      <th>male</th>\n",
       "      <th>other</th>\n",
       "      <th>female</th>\n",
       "      <th>male</th>\n",
       "      <th>other</th>\n",
       "    </tr>\n",
       "    <tr>\n",
       "      <th>car_state</th>\n",
       "      <th></th>\n",
       "      <th></th>\n",
       "      <th></th>\n",
       "      <th></th>\n",
       "      <th></th>\n",
       "      <th></th>\n",
       "      <th></th>\n",
       "      <th></th>\n",
       "      <th></th>\n",
       "    </tr>\n",
       "  </thead>\n",
       "  <tbody>\n",
       "    <tr>\n",
       "      <th>ACT</th>\n",
       "      <td>37.3</td>\n",
       "      <td>39.4</td>\n",
       "      <td>0.0</td>\n",
       "      <td>60.0</td>\n",
       "      <td>67.0</td>\n",
       "      <td>0.0</td>\n",
       "      <td>49.0</td>\n",
       "      <td>54.0</td>\n",
       "      <td>0.0</td>\n",
       "    </tr>\n",
       "    <tr>\n",
       "      <th>NSW</th>\n",
       "      <td>32.8</td>\n",
       "      <td>33.6</td>\n",
       "      <td>34.3</td>\n",
       "      <td>2157.0</td>\n",
       "      <td>3242.0</td>\n",
       "      <td>3.0</td>\n",
       "      <td>1177.0</td>\n",
       "      <td>1748.0</td>\n",
       "      <td>3.0</td>\n",
       "    </tr>\n",
       "    <tr>\n",
       "      <th>NT</th>\n",
       "      <td>40.2</td>\n",
       "      <td>29.2</td>\n",
       "      <td>0.0</td>\n",
       "      <td>6.0</td>\n",
       "      <td>8.0</td>\n",
       "      <td>0.0</td>\n",
       "      <td>6.0</td>\n",
       "      <td>6.0</td>\n",
       "      <td>0.0</td>\n",
       "    </tr>\n",
       "    <tr>\n",
       "      <th>QLD</th>\n",
       "      <td>34.5</td>\n",
       "      <td>36.0</td>\n",
       "      <td>40.6</td>\n",
       "      <td>2778.0</td>\n",
       "      <td>4803.0</td>\n",
       "      <td>7.0</td>\n",
       "      <td>2090.0</td>\n",
       "      <td>3343.0</td>\n",
       "      <td>4.0</td>\n",
       "    </tr>\n",
       "    <tr>\n",
       "      <th>SA</th>\n",
       "      <td>35.0</td>\n",
       "      <td>31.0</td>\n",
       "      <td>0.0</td>\n",
       "      <td>8.0</td>\n",
       "      <td>16.0</td>\n",
       "      <td>0.0</td>\n",
       "      <td>7.0</td>\n",
       "      <td>12.0</td>\n",
       "      <td>0.0</td>\n",
       "    </tr>\n",
       "    <tr>\n",
       "      <th>TAS</th>\n",
       "      <td>33.2</td>\n",
       "      <td>35.1</td>\n",
       "      <td>26.0</td>\n",
       "      <td>355.0</td>\n",
       "      <td>529.0</td>\n",
       "      <td>1.0</td>\n",
       "      <td>313.0</td>\n",
       "      <td>456.0</td>\n",
       "      <td>1.0</td>\n",
       "    </tr>\n",
       "    <tr>\n",
       "      <th>VIC</th>\n",
       "      <td>33.1</td>\n",
       "      <td>33.8</td>\n",
       "      <td>33.0</td>\n",
       "      <td>1620.0</td>\n",
       "      <td>2989.0</td>\n",
       "      <td>26.0</td>\n",
       "      <td>1080.0</td>\n",
       "      <td>1913.0</td>\n",
       "      <td>10.0</td>\n",
       "    </tr>\n",
       "    <tr>\n",
       "      <th>WA</th>\n",
       "      <td>32.3</td>\n",
       "      <td>35.0</td>\n",
       "      <td>0.0</td>\n",
       "      <td>445.0</td>\n",
       "      <td>715.0</td>\n",
       "      <td>0.0</td>\n",
       "      <td>270.0</td>\n",
       "      <td>462.0</td>\n",
       "      <td>0.0</td>\n",
       "    </tr>\n",
       "    <tr>\n",
       "      <th>unknown</th>\n",
       "      <td>32.6</td>\n",
       "      <td>35.7</td>\n",
       "      <td>0.0</td>\n",
       "      <td>8.0</td>\n",
       "      <td>10.0</td>\n",
       "      <td>0.0</td>\n",
       "      <td>7.0</td>\n",
       "      <td>9.0</td>\n",
       "      <td>0.0</td>\n",
       "    </tr>\n",
       "  </tbody>\n",
       "</table>\n",
       "</div>"
      ],
      "text/plain": [
       "             age               count               member_id              \n",
       "gender    female  male other  female    male other    female    male other\n",
       "car_state                                                                 \n",
       "ACT         37.3  39.4   0.0    60.0    67.0   0.0      49.0    54.0   0.0\n",
       "NSW         32.8  33.6  34.3  2157.0  3242.0   3.0    1177.0  1748.0   3.0\n",
       "NT          40.2  29.2   0.0     6.0     8.0   0.0       6.0     6.0   0.0\n",
       "QLD         34.5  36.0  40.6  2778.0  4803.0   7.0    2090.0  3343.0   4.0\n",
       "SA          35.0  31.0   0.0     8.0    16.0   0.0       7.0    12.0   0.0\n",
       "TAS         33.2  35.1  26.0   355.0   529.0   1.0     313.0   456.0   1.0\n",
       "VIC         33.1  33.8  33.0  1620.0  2989.0  26.0    1080.0  1913.0  10.0\n",
       "WA          32.3  35.0   0.0   445.0   715.0   0.0     270.0   462.0   0.0\n",
       "unknown     32.6  35.7   0.0     8.0    10.0   0.0       7.0     9.0   0.0"
      ]
     },
     "execution_count": 161,
     "metadata": {},
     "output_type": "execute_result"
    }
   ],
   "source": [
    "car_tourists.pivot_table(index='car_state', columns='gender',\n",
    "                        values=['member_id','count', 'age'], aggfunc={'member_id':lambda x: x.nunique()\n",
    "                                                              , 'count':'sum', 'age':'mean'}\n",
    "                       ).fillna(0).round(1)"
   ]
  },
  {
   "cell_type": "code",
   "execution_count": 162,
   "metadata": {
    "ExecuteTime": {
     "end_time": "2021-09-22T18:21:28.478039Z",
     "start_time": "2021-09-22T18:21:28.464037Z"
    }
   },
   "outputs": [
    {
     "data": {
      "text/html": [
       "<div>\n",
       "<style scoped>\n",
       "    .dataframe tbody tr th:only-of-type {\n",
       "        vertical-align: middle;\n",
       "    }\n",
       "\n",
       "    .dataframe tbody tr th {\n",
       "        vertical-align: top;\n",
       "    }\n",
       "\n",
       "    .dataframe thead th {\n",
       "        text-align: right;\n",
       "    }\n",
       "</style>\n",
       "<table border=\"1\" class=\"dataframe\">\n",
       "  <thead>\n",
       "    <tr style=\"text-align: right;\">\n",
       "      <th></th>\n",
       "      <th>car_state</th>\n",
       "      <th>count</th>\n",
       "      <th>member_id</th>\n",
       "    </tr>\n",
       "  </thead>\n",
       "  <tbody>\n",
       "    <tr>\n",
       "      <th>1</th>\n",
       "      <td>NSW</td>\n",
       "      <td>980</td>\n",
       "      <td>213</td>\n",
       "    </tr>\n",
       "    <tr>\n",
       "      <th>4</th>\n",
       "      <td>VIC</td>\n",
       "      <td>890</td>\n",
       "      <td>165</td>\n",
       "    </tr>\n",
       "    <tr>\n",
       "      <th>2</th>\n",
       "      <td>QLD</td>\n",
       "      <td>354</td>\n",
       "      <td>97</td>\n",
       "    </tr>\n",
       "    <tr>\n",
       "      <th>5</th>\n",
       "      <td>WA</td>\n",
       "      <td>73</td>\n",
       "      <td>19</td>\n",
       "    </tr>\n",
       "    <tr>\n",
       "      <th>3</th>\n",
       "      <td>TAS</td>\n",
       "      <td>33</td>\n",
       "      <td>10</td>\n",
       "    </tr>\n",
       "    <tr>\n",
       "      <th>6</th>\n",
       "      <td>unknown</td>\n",
       "      <td>38</td>\n",
       "      <td>10</td>\n",
       "    </tr>\n",
       "    <tr>\n",
       "      <th>0</th>\n",
       "      <td>ACT</td>\n",
       "      <td>13</td>\n",
       "      <td>5</td>\n",
       "    </tr>\n",
       "  </tbody>\n",
       "</table>\n",
       "</div>"
      ],
      "text/plain": [
       "  car_state  count  member_id\n",
       "1       NSW    980        213\n",
       "4       VIC    890        165\n",
       "2       QLD    354         97\n",
       "5        WA     73         19\n",
       "3       TAS     33         10\n",
       "6   unknown     38         10\n",
       "0       ACT     13          5"
      ]
     },
     "execution_count": 162,
     "metadata": {},
     "output_type": "execute_result"
    }
   ],
   "source": [
    "ute_borrowers.groupby(['car_state']).agg({'count':'sum',\n",
    "                                        'member_id':lambda x: x.nunique()}).reset_index()\\\n",
    "    .sort_values(by=['member_id'],ascending=False)"
   ]
  },
  {
   "cell_type": "code",
   "execution_count": 163,
   "metadata": {
    "ExecuteTime": {
     "end_time": "2021-09-22T18:21:29.230005Z",
     "start_time": "2021-09-22T18:21:29.194999Z"
    }
   },
   "outputs": [
    {
     "data": {
      "text/html": [
       "<div>\n",
       "<style scoped>\n",
       "    .dataframe tbody tr th:only-of-type {\n",
       "        vertical-align: middle;\n",
       "    }\n",
       "\n",
       "    .dataframe tbody tr th {\n",
       "        vertical-align: top;\n",
       "    }\n",
       "\n",
       "    .dataframe thead tr th {\n",
       "        text-align: left;\n",
       "    }\n",
       "\n",
       "    .dataframe thead tr:last-of-type th {\n",
       "        text-align: right;\n",
       "    }\n",
       "</style>\n",
       "<table border=\"1\" class=\"dataframe\">\n",
       "  <thead>\n",
       "    <tr>\n",
       "      <th></th>\n",
       "      <th colspan=\"2\" halign=\"left\">age</th>\n",
       "      <th colspan=\"2\" halign=\"left\">count</th>\n",
       "      <th colspan=\"2\" halign=\"left\">member_id</th>\n",
       "    </tr>\n",
       "    <tr>\n",
       "      <th>gender</th>\n",
       "      <th>female</th>\n",
       "      <th>male</th>\n",
       "      <th>female</th>\n",
       "      <th>male</th>\n",
       "      <th>female</th>\n",
       "      <th>male</th>\n",
       "    </tr>\n",
       "    <tr>\n",
       "      <th>car_state</th>\n",
       "      <th></th>\n",
       "      <th></th>\n",
       "      <th></th>\n",
       "      <th></th>\n",
       "      <th></th>\n",
       "      <th></th>\n",
       "    </tr>\n",
       "  </thead>\n",
       "  <tbody>\n",
       "    <tr>\n",
       "      <th>ACT</th>\n",
       "      <td>34.7</td>\n",
       "      <td>35.7</td>\n",
       "      <td>10</td>\n",
       "      <td>3</td>\n",
       "      <td>3</td>\n",
       "      <td>2</td>\n",
       "    </tr>\n",
       "    <tr>\n",
       "      <th>NSW</th>\n",
       "      <td>37.6</td>\n",
       "      <td>34.8</td>\n",
       "      <td>146</td>\n",
       "      <td>807</td>\n",
       "      <td>36</td>\n",
       "      <td>170</td>\n",
       "    </tr>\n",
       "    <tr>\n",
       "      <th>QLD</th>\n",
       "      <td>41.0</td>\n",
       "      <td>36.9</td>\n",
       "      <td>30</td>\n",
       "      <td>323</td>\n",
       "      <td>15</td>\n",
       "      <td>81</td>\n",
       "    </tr>\n",
       "    <tr>\n",
       "      <th>TAS</th>\n",
       "      <td>66.0</td>\n",
       "      <td>34.5</td>\n",
       "      <td>17</td>\n",
       "      <td>16</td>\n",
       "      <td>1</td>\n",
       "      <td>9</td>\n",
       "    </tr>\n",
       "    <tr>\n",
       "      <th>VIC</th>\n",
       "      <td>35.9</td>\n",
       "      <td>36.9</td>\n",
       "      <td>110</td>\n",
       "      <td>765</td>\n",
       "      <td>23</td>\n",
       "      <td>138</td>\n",
       "    </tr>\n",
       "    <tr>\n",
       "      <th>WA</th>\n",
       "      <td>23.0</td>\n",
       "      <td>39.8</td>\n",
       "      <td>1</td>\n",
       "      <td>71</td>\n",
       "      <td>1</td>\n",
       "      <td>17</td>\n",
       "    </tr>\n",
       "    <tr>\n",
       "      <th>unknown</th>\n",
       "      <td>46.0</td>\n",
       "      <td>43.3</td>\n",
       "      <td>3</td>\n",
       "      <td>35</td>\n",
       "      <td>2</td>\n",
       "      <td>8</td>\n",
       "    </tr>\n",
       "  </tbody>\n",
       "</table>\n",
       "</div>"
      ],
      "text/plain": [
       "             age        count      member_id     \n",
       "gender    female  male female male    female male\n",
       "car_state                                        \n",
       "ACT         34.7  35.7     10    3         3    2\n",
       "NSW         37.6  34.8    146  807        36  170\n",
       "QLD         41.0  36.9     30  323        15   81\n",
       "TAS         66.0  34.5     17   16         1    9\n",
       "VIC         35.9  36.9    110  765        23  138\n",
       "WA          23.0  39.8      1   71         1   17\n",
       "unknown     46.0  43.3      3   35         2    8"
      ]
     },
     "execution_count": 163,
     "metadata": {},
     "output_type": "execute_result"
    }
   ],
   "source": [
    "ute_borrowers.pivot_table(index='car_state', columns='gender',\n",
    "                        values=['member_id','count', 'age'], aggfunc={'member_id':lambda x: x.nunique()\n",
    "                                                              , 'count':'sum', 'age':'mean'}\n",
    "                       ).fillna(0).round(1)"
   ]
  },
  {
   "cell_type": "markdown",
   "metadata": {},
   "source": [
    "# Get overlap between segments "
   ]
  },
  {
   "cell_type": "code",
   "execution_count": 164,
   "metadata": {
    "ExecuteTime": {
     "end_time": "2021-09-22T18:21:30.606346Z",
     "start_time": "2021-09-22T18:21:30.487319Z"
    }
   },
   "outputs": [],
   "source": [
    "car_sharer_merge = car_sharers.groupby(['member_id','car_state']).sum()[['count']].reset_index()\n",
    "car_tourists_merge = car_tourists.groupby(['member_id','car_state']).sum()[['count']].reset_index()\n",
    "ute_borrowers_merge = ute_borrowers.groupby(['member_id','car_state']).sum()[['count']].reset_index()"
   ]
  },
  {
   "cell_type": "code",
   "execution_count": 165,
   "metadata": {
    "ExecuteTime": {
     "end_time": "2021-09-22T18:21:31.100458Z",
     "start_time": "2021-09-22T18:21:31.053446Z"
    }
   },
   "outputs": [
    {
     "data": {
      "text/html": [
       "<div>\n",
       "<style scoped>\n",
       "    .dataframe tbody tr th:only-of-type {\n",
       "        vertical-align: middle;\n",
       "    }\n",
       "\n",
       "    .dataframe tbody tr th {\n",
       "        vertical-align: top;\n",
       "    }\n",
       "\n",
       "    .dataframe thead th {\n",
       "        text-align: right;\n",
       "    }\n",
       "</style>\n",
       "<table border=\"1\" class=\"dataframe\">\n",
       "  <thead>\n",
       "    <tr style=\"text-align: right;\">\n",
       "      <th>car_state_tourist</th>\n",
       "      <th>ACT</th>\n",
       "      <th>NSW</th>\n",
       "      <th>NT</th>\n",
       "      <th>QLD</th>\n",
       "      <th>SA</th>\n",
       "      <th>TAS</th>\n",
       "      <th>VIC</th>\n",
       "      <th>WA</th>\n",
       "      <th>unknown</th>\n",
       "      <th>All</th>\n",
       "    </tr>\n",
       "    <tr>\n",
       "      <th>car_state_sharer</th>\n",
       "      <th></th>\n",
       "      <th></th>\n",
       "      <th></th>\n",
       "      <th></th>\n",
       "      <th></th>\n",
       "      <th></th>\n",
       "      <th></th>\n",
       "      <th></th>\n",
       "      <th></th>\n",
       "      <th></th>\n",
       "    </tr>\n",
       "  </thead>\n",
       "  <tbody>\n",
       "    <tr>\n",
       "      <th>ACT</th>\n",
       "      <td>3.0</td>\n",
       "      <td>6.0</td>\n",
       "      <td>0.0</td>\n",
       "      <td>23.0</td>\n",
       "      <td>0.0</td>\n",
       "      <td>6.0</td>\n",
       "      <td>3.0</td>\n",
       "      <td>2.0</td>\n",
       "      <td>0.0</td>\n",
       "      <td>43</td>\n",
       "    </tr>\n",
       "    <tr>\n",
       "      <th>NSW</th>\n",
       "      <td>1.0</td>\n",
       "      <td>333.0</td>\n",
       "      <td>3.0</td>\n",
       "      <td>643.0</td>\n",
       "      <td>1.0</td>\n",
       "      <td>132.0</td>\n",
       "      <td>479.0</td>\n",
       "      <td>90.0</td>\n",
       "      <td>0.0</td>\n",
       "      <td>1682</td>\n",
       "    </tr>\n",
       "    <tr>\n",
       "      <th>QLD</th>\n",
       "      <td>13.0</td>\n",
       "      <td>161.0</td>\n",
       "      <td>0.0</td>\n",
       "      <td>550.0</td>\n",
       "      <td>0.0</td>\n",
       "      <td>20.0</td>\n",
       "      <td>128.0</td>\n",
       "      <td>30.0</td>\n",
       "      <td>5.0</td>\n",
       "      <td>907</td>\n",
       "    </tr>\n",
       "    <tr>\n",
       "      <th>SA</th>\n",
       "      <td>0.0</td>\n",
       "      <td>2.0</td>\n",
       "      <td>0.0</td>\n",
       "      <td>1.0</td>\n",
       "      <td>2.0</td>\n",
       "      <td>0.0</td>\n",
       "      <td>1.0</td>\n",
       "      <td>0.0</td>\n",
       "      <td>0.0</td>\n",
       "      <td>6</td>\n",
       "    </tr>\n",
       "    <tr>\n",
       "      <th>TAS</th>\n",
       "      <td>1.0</td>\n",
       "      <td>13.0</td>\n",
       "      <td>0.0</td>\n",
       "      <td>15.0</td>\n",
       "      <td>0.0</td>\n",
       "      <td>31.0</td>\n",
       "      <td>6.0</td>\n",
       "      <td>1.0</td>\n",
       "      <td>0.0</td>\n",
       "      <td>67</td>\n",
       "    </tr>\n",
       "    <tr>\n",
       "      <th>VIC</th>\n",
       "      <td>1.0</td>\n",
       "      <td>464.0</td>\n",
       "      <td>0.0</td>\n",
       "      <td>558.0</td>\n",
       "      <td>4.0</td>\n",
       "      <td>51.0</td>\n",
       "      <td>1068.0</td>\n",
       "      <td>64.0</td>\n",
       "      <td>7.0</td>\n",
       "      <td>2217</td>\n",
       "    </tr>\n",
       "    <tr>\n",
       "      <th>WA</th>\n",
       "      <td>1.0</td>\n",
       "      <td>28.0</td>\n",
       "      <td>1.0</td>\n",
       "      <td>23.0</td>\n",
       "      <td>0.0</td>\n",
       "      <td>3.0</td>\n",
       "      <td>17.0</td>\n",
       "      <td>140.0</td>\n",
       "      <td>1.0</td>\n",
       "      <td>214</td>\n",
       "    </tr>\n",
       "    <tr>\n",
       "      <th>unknown</th>\n",
       "      <td>0.0</td>\n",
       "      <td>0.0</td>\n",
       "      <td>0.0</td>\n",
       "      <td>0.0</td>\n",
       "      <td>0.0</td>\n",
       "      <td>0.0</td>\n",
       "      <td>0.0</td>\n",
       "      <td>1.0</td>\n",
       "      <td>0.0</td>\n",
       "      <td>1</td>\n",
       "    </tr>\n",
       "    <tr>\n",
       "      <th>All</th>\n",
       "      <td>20.0</td>\n",
       "      <td>1007.0</td>\n",
       "      <td>4.0</td>\n",
       "      <td>1813.0</td>\n",
       "      <td>7.0</td>\n",
       "      <td>243.0</td>\n",
       "      <td>1702.0</td>\n",
       "      <td>328.0</td>\n",
       "      <td>13.0</td>\n",
       "      <td>5137</td>\n",
       "    </tr>\n",
       "  </tbody>\n",
       "</table>\n",
       "</div>"
      ],
      "text/plain": [
       "car_state_tourist   ACT     NSW   NT     QLD   SA    TAS     VIC     WA  unknown   All\n",
       "car_state_sharer                                                                      \n",
       "ACT                 3.0     6.0  0.0    23.0  0.0    6.0     3.0    2.0      0.0    43\n",
       "NSW                 1.0   333.0  3.0   643.0  1.0  132.0   479.0   90.0      0.0  1682\n",
       "QLD                13.0   161.0  0.0   550.0  0.0   20.0   128.0   30.0      5.0   907\n",
       "SA                  0.0     2.0  0.0     1.0  2.0    0.0     1.0    0.0      0.0     6\n",
       "TAS                 1.0    13.0  0.0    15.0  0.0   31.0     6.0    1.0      0.0    67\n",
       "VIC                 1.0   464.0  0.0   558.0  4.0   51.0  1068.0   64.0      7.0  2217\n",
       "WA                  1.0    28.0  1.0    23.0  0.0    3.0    17.0  140.0      1.0   214\n",
       "unknown             0.0     0.0  0.0     0.0  0.0    0.0     0.0    1.0      0.0     1\n",
       "All                20.0  1007.0  4.0  1813.0  7.0  243.0  1702.0  328.0     13.0  5137"
      ]
     },
     "execution_count": 165,
     "metadata": {},
     "output_type": "execute_result"
    }
   ],
   "source": [
    "sharer_vs_tourist = car_sharer_merge.merge(car_tourists_merge, on='member_id', how='inner', suffixes=('_sharer','_tourist'))\n",
    "sharer_vs_tourist.pivot_table(index='car_state_sharer', columns='car_state_tourist',\n",
    "                              values='member_id', aggfunc='count',\n",
    "                              margins=True).fillna(0)"
   ]
  },
  {
   "cell_type": "code",
   "execution_count": 166,
   "metadata": {
    "ExecuteTime": {
     "end_time": "2021-09-22T18:21:31.576564Z",
     "start_time": "2021-09-22T18:21:31.529552Z"
    }
   },
   "outputs": [
    {
     "data": {
      "text/html": [
       "<div>\n",
       "<style scoped>\n",
       "    .dataframe tbody tr th:only-of-type {\n",
       "        vertical-align: middle;\n",
       "    }\n",
       "\n",
       "    .dataframe tbody tr th {\n",
       "        vertical-align: top;\n",
       "    }\n",
       "\n",
       "    .dataframe thead th {\n",
       "        text-align: right;\n",
       "    }\n",
       "</style>\n",
       "<table border=\"1\" class=\"dataframe\">\n",
       "  <thead>\n",
       "    <tr style=\"text-align: right;\">\n",
       "      <th>car_state_ute</th>\n",
       "      <th>ACT</th>\n",
       "      <th>NSW</th>\n",
       "      <th>QLD</th>\n",
       "      <th>TAS</th>\n",
       "      <th>VIC</th>\n",
       "      <th>WA</th>\n",
       "      <th>unknown</th>\n",
       "      <th>All</th>\n",
       "    </tr>\n",
       "    <tr>\n",
       "      <th>car_state_sharer</th>\n",
       "      <th></th>\n",
       "      <th></th>\n",
       "      <th></th>\n",
       "      <th></th>\n",
       "      <th></th>\n",
       "      <th></th>\n",
       "      <th></th>\n",
       "      <th></th>\n",
       "    </tr>\n",
       "  </thead>\n",
       "  <tbody>\n",
       "    <tr>\n",
       "      <th>ACT</th>\n",
       "      <td>1.0</td>\n",
       "      <td>0.0</td>\n",
       "      <td>1.0</td>\n",
       "      <td>0.0</td>\n",
       "      <td>0.0</td>\n",
       "      <td>0.0</td>\n",
       "      <td>0.0</td>\n",
       "      <td>2</td>\n",
       "    </tr>\n",
       "    <tr>\n",
       "      <th>NSW</th>\n",
       "      <td>0.0</td>\n",
       "      <td>54.0</td>\n",
       "      <td>6.0</td>\n",
       "      <td>0.0</td>\n",
       "      <td>2.0</td>\n",
       "      <td>1.0</td>\n",
       "      <td>0.0</td>\n",
       "      <td>63</td>\n",
       "    </tr>\n",
       "    <tr>\n",
       "      <th>QLD</th>\n",
       "      <td>0.0</td>\n",
       "      <td>1.0</td>\n",
       "      <td>16.0</td>\n",
       "      <td>0.0</td>\n",
       "      <td>1.0</td>\n",
       "      <td>0.0</td>\n",
       "      <td>0.0</td>\n",
       "      <td>18</td>\n",
       "    </tr>\n",
       "    <tr>\n",
       "      <th>TAS</th>\n",
       "      <td>0.0</td>\n",
       "      <td>0.0</td>\n",
       "      <td>0.0</td>\n",
       "      <td>2.0</td>\n",
       "      <td>0.0</td>\n",
       "      <td>0.0</td>\n",
       "      <td>0.0</td>\n",
       "      <td>2</td>\n",
       "    </tr>\n",
       "    <tr>\n",
       "      <th>VIC</th>\n",
       "      <td>0.0</td>\n",
       "      <td>3.0</td>\n",
       "      <td>2.0</td>\n",
       "      <td>0.0</td>\n",
       "      <td>59.0</td>\n",
       "      <td>1.0</td>\n",
       "      <td>3.0</td>\n",
       "      <td>68</td>\n",
       "    </tr>\n",
       "    <tr>\n",
       "      <th>WA</th>\n",
       "      <td>0.0</td>\n",
       "      <td>0.0</td>\n",
       "      <td>0.0</td>\n",
       "      <td>0.0</td>\n",
       "      <td>0.0</td>\n",
       "      <td>6.0</td>\n",
       "      <td>0.0</td>\n",
       "      <td>6</td>\n",
       "    </tr>\n",
       "    <tr>\n",
       "      <th>All</th>\n",
       "      <td>1.0</td>\n",
       "      <td>58.0</td>\n",
       "      <td>25.0</td>\n",
       "      <td>2.0</td>\n",
       "      <td>62.0</td>\n",
       "      <td>8.0</td>\n",
       "      <td>3.0</td>\n",
       "      <td>159</td>\n",
       "    </tr>\n",
       "  </tbody>\n",
       "</table>\n",
       "</div>"
      ],
      "text/plain": [
       "car_state_ute     ACT   NSW   QLD  TAS   VIC   WA  unknown  All\n",
       "car_state_sharer                                               \n",
       "ACT               1.0   0.0   1.0  0.0   0.0  0.0      0.0    2\n",
       "NSW               0.0  54.0   6.0  0.0   2.0  1.0      0.0   63\n",
       "QLD               0.0   1.0  16.0  0.0   1.0  0.0      0.0   18\n",
       "TAS               0.0   0.0   0.0  2.0   0.0  0.0      0.0    2\n",
       "VIC               0.0   3.0   2.0  0.0  59.0  1.0      3.0   68\n",
       "WA                0.0   0.0   0.0  0.0   0.0  6.0      0.0    6\n",
       "All               1.0  58.0  25.0  2.0  62.0  8.0      3.0  159"
      ]
     },
     "execution_count": 166,
     "metadata": {},
     "output_type": "execute_result"
    }
   ],
   "source": [
    "sharer_vs_ute = car_sharer_merge.merge(ute_borrowers_merge, on='member_id', how='inner', suffixes=('_sharer','_ute'))\n",
    "sharer_vs_ute.pivot_table(index='car_state_sharer', columns='car_state_ute',\n",
    "                              values='member_id', aggfunc='count',\n",
    "                              margins=True).fillna(0)"
   ]
  },
  {
   "cell_type": "code",
   "execution_count": 167,
   "metadata": {
    "ExecuteTime": {
     "end_time": "2021-09-22T18:21:32.032667Z",
     "start_time": "2021-09-22T18:21:32.001660Z"
    }
   },
   "outputs": [
    {
     "data": {
      "text/html": [
       "<div>\n",
       "<style scoped>\n",
       "    .dataframe tbody tr th:only-of-type {\n",
       "        vertical-align: middle;\n",
       "    }\n",
       "\n",
       "    .dataframe tbody tr th {\n",
       "        vertical-align: top;\n",
       "    }\n",
       "\n",
       "    .dataframe thead th {\n",
       "        text-align: right;\n",
       "    }\n",
       "</style>\n",
       "<table border=\"1\" class=\"dataframe\">\n",
       "  <thead>\n",
       "    <tr style=\"text-align: right;\">\n",
       "      <th>car_state_ute</th>\n",
       "      <th>ACT</th>\n",
       "      <th>NSW</th>\n",
       "      <th>QLD</th>\n",
       "      <th>TAS</th>\n",
       "      <th>VIC</th>\n",
       "      <th>WA</th>\n",
       "      <th>unknown</th>\n",
       "      <th>All</th>\n",
       "    </tr>\n",
       "    <tr>\n",
       "      <th>car_state_tourist</th>\n",
       "      <th></th>\n",
       "      <th></th>\n",
       "      <th></th>\n",
       "      <th></th>\n",
       "      <th></th>\n",
       "      <th></th>\n",
       "      <th></th>\n",
       "      <th></th>\n",
       "    </tr>\n",
       "  </thead>\n",
       "  <tbody>\n",
       "    <tr>\n",
       "      <th>NSW</th>\n",
       "      <td>0.0</td>\n",
       "      <td>15.0</td>\n",
       "      <td>4.0</td>\n",
       "      <td>0.0</td>\n",
       "      <td>4.0</td>\n",
       "      <td>0.0</td>\n",
       "      <td>1.0</td>\n",
       "      <td>24</td>\n",
       "    </tr>\n",
       "    <tr>\n",
       "      <th>QLD</th>\n",
       "      <td>1.0</td>\n",
       "      <td>8.0</td>\n",
       "      <td>22.0</td>\n",
       "      <td>0.0</td>\n",
       "      <td>3.0</td>\n",
       "      <td>1.0</td>\n",
       "      <td>1.0</td>\n",
       "      <td>36</td>\n",
       "    </tr>\n",
       "    <tr>\n",
       "      <th>TAS</th>\n",
       "      <td>0.0</td>\n",
       "      <td>0.0</td>\n",
       "      <td>0.0</td>\n",
       "      <td>2.0</td>\n",
       "      <td>0.0</td>\n",
       "      <td>0.0</td>\n",
       "      <td>0.0</td>\n",
       "      <td>2</td>\n",
       "    </tr>\n",
       "    <tr>\n",
       "      <th>VIC</th>\n",
       "      <td>0.0</td>\n",
       "      <td>2.0</td>\n",
       "      <td>2.0</td>\n",
       "      <td>0.0</td>\n",
       "      <td>12.0</td>\n",
       "      <td>0.0</td>\n",
       "      <td>1.0</td>\n",
       "      <td>17</td>\n",
       "    </tr>\n",
       "    <tr>\n",
       "      <th>WA</th>\n",
       "      <td>0.0</td>\n",
       "      <td>1.0</td>\n",
       "      <td>1.0</td>\n",
       "      <td>0.0</td>\n",
       "      <td>1.0</td>\n",
       "      <td>5.0</td>\n",
       "      <td>0.0</td>\n",
       "      <td>8</td>\n",
       "    </tr>\n",
       "    <tr>\n",
       "      <th>All</th>\n",
       "      <td>1.0</td>\n",
       "      <td>26.0</td>\n",
       "      <td>29.0</td>\n",
       "      <td>2.0</td>\n",
       "      <td>20.0</td>\n",
       "      <td>6.0</td>\n",
       "      <td>3.0</td>\n",
       "      <td>87</td>\n",
       "    </tr>\n",
       "  </tbody>\n",
       "</table>\n",
       "</div>"
      ],
      "text/plain": [
       "car_state_ute      ACT   NSW   QLD  TAS   VIC   WA  unknown  All\n",
       "car_state_tourist                                               \n",
       "NSW                0.0  15.0   4.0  0.0   4.0  0.0      1.0   24\n",
       "QLD                1.0   8.0  22.0  0.0   3.0  1.0      1.0   36\n",
       "TAS                0.0   0.0   0.0  2.0   0.0  0.0      0.0    2\n",
       "VIC                0.0   2.0   2.0  0.0  12.0  0.0      1.0   17\n",
       "WA                 0.0   1.0   1.0  0.0   1.0  5.0      0.0    8\n",
       "All                1.0  26.0  29.0  2.0  20.0  6.0      3.0   87"
      ]
     },
     "execution_count": 167,
     "metadata": {},
     "output_type": "execute_result"
    }
   ],
   "source": [
    "tourist_vs_ute = car_tourists_merge.merge(ute_borrowers_merge, on='member_id', how='inner', suffixes=('_tourist','_ute'))\n",
    "tourist_vs_ute.pivot_table(index='car_state_tourist', columns='car_state_ute',\n",
    "                              values='member_id', aggfunc='count',\n",
    "                              margins=True).fillna(0)"
   ]
  },
  {
   "cell_type": "markdown",
   "metadata": {},
   "source": [
    "# Percentage per segment "
   ]
  },
  {
   "cell_type": "code",
   "execution_count": 168,
   "metadata": {
    "ExecuteTime": {
     "end_time": "2021-09-22T18:21:33.173527Z",
     "start_time": "2021-09-22T18:21:32.873654Z"
    }
   },
   "outputs": [],
   "source": [
    "total_car_sharers = car_sharers.groupby(['member_id']).count().count()['count']\n",
    "total_car_tourists = car_tourists.groupby(['member_id']).count().count()['count']\n",
    "total_car_borrowers = car_borrowers.groupby(['member_id']).count().count()['count']\n",
    "total_ute_borrowers = ute_borrowers.groupby(['member_id']).count().count()['count']"
   ]
  },
  {
   "cell_type": "code",
   "execution_count": 169,
   "metadata": {
    "ExecuteTime": {
     "end_time": "2021-09-22T18:21:33.612087Z",
     "start_time": "2021-09-22T18:21:33.597084Z"
    }
   },
   "outputs": [
    {
     "name": "stdout",
     "output_type": "stream",
     "text": [
      "Percentage of car sharer segment : 89.53757687085697\n"
     ]
    }
   ],
   "source": [
    "print(\"Percentage of car sharer segment :\", total_car_sharers / (total_car_borrowers + total_ute_borrowers) * 100)"
   ]
  },
  {
   "cell_type": "code",
   "execution_count": 170,
   "metadata": {
    "ExecuteTime": {
     "end_time": "2021-09-22T18:21:34.104985Z",
     "start_time": "2021-09-22T18:21:34.098984Z"
    }
   },
   "outputs": [
    {
     "name": "stdout",
     "output_type": "stream",
     "text": [
      "Percentage of car tourist segment : 14.434036532910424\n"
     ]
    }
   ],
   "source": [
    "print(\"Percentage of car tourist segment :\", total_car_tourists / (total_car_borrowers + total_ute_borrowers) * 100)"
   ]
  },
  {
   "cell_type": "code",
   "execution_count": 171,
   "metadata": {
    "ExecuteTime": {
     "end_time": "2021-09-22T18:21:34.599087Z",
     "start_time": "2021-09-22T18:21:34.584096Z"
    }
   },
   "outputs": [
    {
     "name": "stdout",
     "output_type": "stream",
     "text": [
      "Percentage of ute borrower segment : 0.5510741953518089\n"
     ]
    }
   ],
   "source": [
    "print(\"Percentage of ute borrower segment :\", total_ute_borrowers / (total_car_borrowers + total_ute_borrowers) * 100)"
   ]
  },
  {
   "cell_type": "markdown",
   "metadata": {},
   "source": [
    "# Car sharer - tourist analysis"
   ]
  },
  {
   "cell_type": "code",
   "execution_count": 88,
   "metadata": {
    "ExecuteTime": {
     "end_time": "2021-09-22T18:05:05.809009Z",
     "start_time": "2021-09-22T18:05:05.781003Z"
    }
   },
   "outputs": [
    {
     "data": {
      "text/html": [
       "<div>\n",
       "<style scoped>\n",
       "    .dataframe tbody tr th:only-of-type {\n",
       "        vertical-align: middle;\n",
       "    }\n",
       "\n",
       "    .dataframe tbody tr th {\n",
       "        vertical-align: top;\n",
       "    }\n",
       "\n",
       "    .dataframe thead tr th {\n",
       "        text-align: left;\n",
       "    }\n",
       "\n",
       "    .dataframe thead tr:last-of-type th {\n",
       "        text-align: right;\n",
       "    }\n",
       "</style>\n",
       "<table border=\"1\" class=\"dataframe\">\n",
       "  <thead>\n",
       "    <tr>\n",
       "      <th></th>\n",
       "      <th>member_id</th>\n",
       "      <th colspan=\"2\" halign=\"left\">count</th>\n",
       "    </tr>\n",
       "    <tr>\n",
       "      <th></th>\n",
       "      <th>count</th>\n",
       "      <th>mean</th>\n",
       "      <th>std</th>\n",
       "    </tr>\n",
       "    <tr>\n",
       "      <th>car_state</th>\n",
       "      <th></th>\n",
       "      <th></th>\n",
       "      <th></th>\n",
       "    </tr>\n",
       "  </thead>\n",
       "  <tbody>\n",
       "    <tr>\n",
       "      <th>ACT</th>\n",
       "      <td>283</td>\n",
       "      <td>1.530035</td>\n",
       "      <td>1.471351</td>\n",
       "    </tr>\n",
       "    <tr>\n",
       "      <th>NSW</th>\n",
       "      <td>27620</td>\n",
       "      <td>3.237654</td>\n",
       "      <td>6.509422</td>\n",
       "    </tr>\n",
       "    <tr>\n",
       "      <th>QLD</th>\n",
       "      <td>5022</td>\n",
       "      <td>2.180207</td>\n",
       "      <td>3.528187</td>\n",
       "    </tr>\n",
       "    <tr>\n",
       "      <th>VIC</th>\n",
       "      <td>22556</td>\n",
       "      <td>3.003901</td>\n",
       "      <td>5.118588</td>\n",
       "    </tr>\n",
       "    <tr>\n",
       "      <th>WA</th>\n",
       "      <td>265</td>\n",
       "      <td>1.671698</td>\n",
       "      <td>2.222848</td>\n",
       "    </tr>\n",
       "    <tr>\n",
       "      <th>unknown</th>\n",
       "      <td>54</td>\n",
       "      <td>1.222222</td>\n",
       "      <td>0.571878</td>\n",
       "    </tr>\n",
       "  </tbody>\n",
       "</table>\n",
       "</div>"
      ],
      "text/plain": [
       "          member_id     count          \n",
       "              count      mean       std\n",
       "car_state                              \n",
       "ACT             283  1.530035  1.471351\n",
       "NSW           27620  3.237654  6.509422\n",
       "QLD            5022  2.180207  3.528187\n",
       "VIC           22556  3.003901  5.118588\n",
       "WA              265  1.671698  2.222848\n",
       "unknown          54  1.222222  0.571878"
      ]
     },
     "execution_count": 88,
     "metadata": {},
     "output_type": "execute_result"
    }
   ],
   "source": [
    "car_sharer_merge.groupby(['car_state']).agg({'member_id':'count',\n",
    "                                             'count':['mean','std']})"
   ]
  },
  {
   "cell_type": "code",
   "execution_count": 89,
   "metadata": {
    "ExecuteTime": {
     "end_time": "2021-09-22T18:05:07.547167Z",
     "start_time": "2021-09-22T18:05:07.536173Z"
    }
   },
   "outputs": [
    {
     "data": {
      "text/plain": [
       "member_id    473479.1\n",
       "count            10.0\n",
       "Name: 0.95, dtype: float64"
      ]
     },
     "execution_count": 89,
     "metadata": {},
     "output_type": "execute_result"
    }
   ],
   "source": [
    "car_sharer_merge.quantile(.95)"
   ]
  },
  {
   "cell_type": "code",
   "execution_count": 90,
   "metadata": {
    "ExecuteTime": {
     "end_time": "2021-09-22T18:05:08.621775Z",
     "start_time": "2021-09-22T18:05:08.424739Z"
    }
   },
   "outputs": [
    {
     "data": {
      "text/plain": [
       "(-1.0, 10.0)"
      ]
     },
     "execution_count": 90,
     "metadata": {},
     "output_type": "execute_result"
    },
    {
     "data": {
      "image/png": "[encoded data removed]",
      "text/plain": [
       "<Figure size 720x360 with 1 Axes>"
      ]
     },
     "metadata": {
      "needs_background": "light"
     },
     "output_type": "display_data"
    }
   ],
   "source": [
    "plt.figure(figsize=(10,5))\n",
    "sns.boxplot(data=car_sharer_merge, x='car_state', y='count')\n",
    "plt.ylim(-1,10)"
   ]
  },
  {
   "cell_type": "code",
   "execution_count": 91,
   "metadata": {
    "ExecuteTime": {
     "end_time": "2021-09-22T18:05:14.438008Z",
     "start_time": "2021-09-22T18:05:14.421005Z"
    }
   },
   "outputs": [
    {
     "data": {
      "text/html": [
       "<div>\n",
       "<style scoped>\n",
       "    .dataframe tbody tr th:only-of-type {\n",
       "        vertical-align: middle;\n",
       "    }\n",
       "\n",
       "    .dataframe tbody tr th {\n",
       "        vertical-align: top;\n",
       "    }\n",
       "\n",
       "    .dataframe thead tr th {\n",
       "        text-align: left;\n",
       "    }\n",
       "\n",
       "    .dataframe thead tr:last-of-type th {\n",
       "        text-align: right;\n",
       "    }\n",
       "</style>\n",
       "<table border=\"1\" class=\"dataframe\">\n",
       "  <thead>\n",
       "    <tr>\n",
       "      <th></th>\n",
       "      <th>member_id</th>\n",
       "      <th colspan=\"2\" halign=\"left\">count_sharer</th>\n",
       "    </tr>\n",
       "    <tr>\n",
       "      <th></th>\n",
       "      <th>count</th>\n",
       "      <th>mean</th>\n",
       "      <th>std</th>\n",
       "    </tr>\n",
       "    <tr>\n",
       "      <th>car_state_sharer</th>\n",
       "      <th></th>\n",
       "      <th></th>\n",
       "      <th></th>\n",
       "    </tr>\n",
       "  </thead>\n",
       "  <tbody>\n",
       "    <tr>\n",
       "      <th>ACT</th>\n",
       "      <td>18</td>\n",
       "      <td>1.555556</td>\n",
       "      <td>1.688098</td>\n",
       "    </tr>\n",
       "    <tr>\n",
       "      <th>NSW</th>\n",
       "      <td>1024</td>\n",
       "      <td>5.471680</td>\n",
       "      <td>10.698169</td>\n",
       "    </tr>\n",
       "    <tr>\n",
       "      <th>QLD</th>\n",
       "      <td>335</td>\n",
       "      <td>3.432836</td>\n",
       "      <td>7.339549</td>\n",
       "    </tr>\n",
       "    <tr>\n",
       "      <th>VIC</th>\n",
       "      <td>1308</td>\n",
       "      <td>5.866208</td>\n",
       "      <td>10.622463</td>\n",
       "    </tr>\n",
       "    <tr>\n",
       "      <th>WA</th>\n",
       "      <td>41</td>\n",
       "      <td>3.682927</td>\n",
       "      <td>6.373535</td>\n",
       "    </tr>\n",
       "    <tr>\n",
       "      <th>unknown</th>\n",
       "      <td>2</td>\n",
       "      <td>1.000000</td>\n",
       "      <td>0.000000</td>\n",
       "    </tr>\n",
       "  </tbody>\n",
       "</table>\n",
       "</div>"
      ],
      "text/plain": [
       "                 member_id count_sharer           \n",
       "                     count         mean        std\n",
       "car_state_sharer                                  \n",
       "ACT                     18     1.555556   1.688098\n",
       "NSW                   1024     5.471680  10.698169\n",
       "QLD                    335     3.432836   7.339549\n",
       "VIC                   1308     5.866208  10.622463\n",
       "WA                      41     3.682927   6.373535\n",
       "unknown                  2     1.000000   0.000000"
      ]
     },
     "execution_count": 91,
     "metadata": {},
     "output_type": "execute_result"
    }
   ],
   "source": [
    "sharer_vs_tourist.groupby(['car_state_sharer']).agg({'member_id':'count',\n",
    "                                             'count_sharer':['mean','std']})"
   ]
  },
  {
   "cell_type": "code",
   "execution_count": 92,
   "metadata": {
    "ExecuteTime": {
     "end_time": "2021-09-22T18:05:16.147517Z",
     "start_time": "2021-09-22T18:05:16.007485Z"
    }
   },
   "outputs": [
    {
     "data": {
      "text/plain": [
       "(-1.0, 10.0)"
      ]
     },
     "execution_count": 92,
     "metadata": {},
     "output_type": "execute_result"
    },
    {
     "data": {
      "image/png": "[encoded data removed]",
      "text/plain": [
       "<Figure size 720x360 with 1 Axes>"
      ]
     },
     "metadata": {
      "needs_background": "light"
     },
     "output_type": "display_data"
    }
   ],
   "source": [
    "plt.figure(figsize=(10,5))\n",
    "sns.boxplot(data=sharer_vs_tourist, x='car_state_sharer', y='count_sharer')\n",
    "plt.ylim(-1,10)"
   ]
  },
  {
   "cell_type": "code",
   "execution_count": 93,
   "metadata": {
    "ExecuteTime": {
     "end_time": "2021-09-22T18:05:17.497012Z",
     "start_time": "2021-09-22T18:05:17.469006Z"
    }
   },
   "outputs": [
    {
     "data": {
      "text/html": [
       "<div>\n",
       "<style scoped>\n",
       "    .dataframe tbody tr th:only-of-type {\n",
       "        vertical-align: middle;\n",
       "    }\n",
       "\n",
       "    .dataframe tbody tr th {\n",
       "        vertical-align: top;\n",
       "    }\n",
       "\n",
       "    .dataframe thead th {\n",
       "        text-align: right;\n",
       "    }\n",
       "</style>\n",
       "<table border=\"1\" class=\"dataframe\">\n",
       "  <thead>\n",
       "    <tr style=\"text-align: right;\">\n",
       "      <th></th>\n",
       "      <th>car_state</th>\n",
       "      <th>count</th>\n",
       "      <th>car_state_sharer</th>\n",
       "      <th>count_sharer</th>\n",
       "    </tr>\n",
       "  </thead>\n",
       "  <tbody>\n",
       "    <tr>\n",
       "      <th>0</th>\n",
       "      <td>ACT</td>\n",
       "      <td>1.530035</td>\n",
       "      <td>ACT</td>\n",
       "      <td>1.555556</td>\n",
       "    </tr>\n",
       "    <tr>\n",
       "      <th>1</th>\n",
       "      <td>NSW</td>\n",
       "      <td>3.237654</td>\n",
       "      <td>NSW</td>\n",
       "      <td>5.471680</td>\n",
       "    </tr>\n",
       "    <tr>\n",
       "      <th>2</th>\n",
       "      <td>QLD</td>\n",
       "      <td>2.180207</td>\n",
       "      <td>QLD</td>\n",
       "      <td>3.432836</td>\n",
       "    </tr>\n",
       "    <tr>\n",
       "      <th>3</th>\n",
       "      <td>VIC</td>\n",
       "      <td>3.003901</td>\n",
       "      <td>VIC</td>\n",
       "      <td>5.866208</td>\n",
       "    </tr>\n",
       "    <tr>\n",
       "      <th>4</th>\n",
       "      <td>WA</td>\n",
       "      <td>1.671698</td>\n",
       "      <td>WA</td>\n",
       "      <td>3.682927</td>\n",
       "    </tr>\n",
       "    <tr>\n",
       "      <th>5</th>\n",
       "      <td>unknown</td>\n",
       "      <td>1.222222</td>\n",
       "      <td>unknown</td>\n",
       "      <td>1.000000</td>\n",
       "    </tr>\n",
       "  </tbody>\n",
       "</table>\n",
       "</div>"
      ],
      "text/plain": [
       "  car_state     count car_state_sharer  count_sharer\n",
       "0       ACT  1.530035              ACT      1.555556\n",
       "1       NSW  3.237654              NSW      5.471680\n",
       "2       QLD  2.180207              QLD      3.432836\n",
       "3       VIC  3.003901              VIC      5.866208\n",
       "4        WA  1.671698               WA      3.682927\n",
       "5   unknown  1.222222          unknown      1.000000"
      ]
     },
     "execution_count": 93,
     "metadata": {},
     "output_type": "execute_result"
    }
   ],
   "source": [
    "sharer_tourist_rides = car_sharer_merge.groupby(['car_state']).mean()[['count']].reset_index()\\\n",
    "        .merge(sharer_vs_tourist.groupby(['car_state_sharer']).mean()[['count_sharer']].reset_index(),\n",
    "              left_on='car_state', right_on='car_state_sharer')\n",
    "sharer_tourist_rides"
   ]
  },
  {
   "cell_type": "code",
   "execution_count": 94,
   "metadata": {
    "ExecuteTime": {
     "end_time": "2021-09-22T18:05:17.938435Z",
     "start_time": "2021-09-22T18:05:17.924002Z"
    }
   },
   "outputs": [],
   "source": [
    "sharer_tourist_rides.columns = ['home_state', 'sharer_trips', 'tourist_state', 'sharer_tourist_trips']"
   ]
  },
  {
   "cell_type": "code",
   "execution_count": 95,
   "metadata": {
    "ExecuteTime": {
     "end_time": "2021-09-22T18:05:19.824604Z",
     "start_time": "2021-09-22T18:05:19.651564Z"
    }
   },
   "outputs": [
    {
     "data": {
      "image/png": "[encoded data removed]",
      "text/plain": [
       "<Figure size 720x432 with 1 Axes>"
      ]
     },
     "metadata": {
      "needs_background": "light"
     },
     "output_type": "display_data"
    }
   ],
   "source": [
    "sharer_tourist_rides.plot(x='home_state', kind='bar', figsize=(10,6))\n",
    "plt.title(\"Comparison of Sharers only vs Sharers & Tourist in their home state\")\n",
    "plt.xlabel('Home State')\n",
    "plt.show()\n"
   ]
  },
  {
   "cell_type": "markdown",
   "metadata": {},
   "source": [
    "# Interstate analysis"
   ]
  },
  {
   "cell_type": "code",
   "execution_count": 105,
   "metadata": {
    "ExecuteTime": {
     "end_time": "2021-09-20T07:01:14.839547Z",
     "start_time": "2021-09-20T07:01:13.705963Z"
    },
    "id": "kbGoYBtcWyVW"
   },
   "outputs": [
    {
     "ename": "NameError",
     "evalue": "name 'interstate_trips' is not defined",
     "output_type": "error",
     "traceback": [
      "\u001b[1;31m---------------------------------------------------------------------------\u001b[0m",
      "\u001b[1;31mNameError\u001b[0m                                 Traceback (most recent call last)",
      "\u001b[1;32m<ipython-input-105-8712b2a88a7a>\u001b[0m in \u001b[0;36m<module>\u001b[1;34m\u001b[0m\n\u001b[1;32m----> 1\u001b[1;33m \u001b[0minterstate_per_member\u001b[0m \u001b[1;33m=\u001b[0m \u001b[0minterstate_trips\u001b[0m\u001b[1;33m.\u001b[0m\u001b[0mgroupby\u001b[0m\u001b[1;33m(\u001b[0m\u001b[1;34m'member_id'\u001b[0m\u001b[1;33m)\u001b[0m\u001b[1;33m.\u001b[0m\u001b[0mcount\u001b[0m\u001b[1;33m(\u001b[0m\u001b[1;33m)\u001b[0m\u001b[1;33m[\u001b[0m\u001b[1;33m[\u001b[0m\u001b[1;34m'count'\u001b[0m\u001b[1;33m]\u001b[0m\u001b[1;33m]\u001b[0m\u001b[1;33m.\u001b[0m\u001b[0mreset_index\u001b[0m\u001b[1;33m(\u001b[0m\u001b[1;33m)\u001b[0m\u001b[1;33m\u001b[0m\u001b[1;33m\u001b[0m\u001b[0m\n\u001b[0m\u001b[0;32m      2\u001b[0m \u001b[0minterstate_per_member\u001b[0m\u001b[1;33m.\u001b[0m\u001b[0mgroupby\u001b[0m\u001b[1;33m(\u001b[0m\u001b[1;33m[\u001b[0m\u001b[1;34m'count'\u001b[0m\u001b[1;33m]\u001b[0m\u001b[1;33m)\u001b[0m\u001b[1;33m.\u001b[0m\u001b[0mcount\u001b[0m\u001b[1;33m(\u001b[0m\u001b[1;33m)\u001b[0m\u001b[1;33m.\u001b[0m\u001b[0mhead\u001b[0m\u001b[1;33m(\u001b[0m\u001b[1;36m10\u001b[0m\u001b[1;33m)\u001b[0m\u001b[1;33m\u001b[0m\u001b[1;33m\u001b[0m\u001b[0m\n",
      "\u001b[1;31mNameError\u001b[0m: name 'interstate_trips' is not defined"
     ]
    }
   ],
   "source": [
    "interstate_per_member = interstate_trips.groupby('member_id').count()[['count']].reset_index()\n",
    "interstate_per_member.groupby(['count']).count().head(10)"
   ]
  },
  {
   "cell_type": "markdown",
   "metadata": {
    "id": "E6fbWJvOWpNz"
   },
   "source": [
    "Inter-state trips are clear cut in terms of distances, with its 25th percentile (707km) way above the 90th percentile (33km) of distance over all trips\n",
    "\n",
    "However, this capturse less than 10% of all trips"
   ]
  },
  {
   "cell_type": "code",
   "execution_count": null,
   "metadata": {
    "ExecuteTime": {
     "end_time": "2021-09-20T07:01:14.879461Z",
     "start_time": "2021-09-20T06:58:01.090Z"
    },
    "id": "ImqHa5EVWYSY"
   },
   "outputs": [],
   "source": [
    "interstate_trips['distance'].describe()"
   ]
  },
  {
   "cell_type": "code",
   "execution_count": null,
   "metadata": {
    "ExecuteTime": {
     "end_time": "2021-09-20T07:01:14.887788Z",
     "start_time": "2021-09-20T06:58:01.092Z"
    },
    "id": "E4o5XT2MVMoh"
   },
   "outputs": [],
   "source": [
    "interstate_trips = trip_details[(trip_details['trip_completed'] == 'Yes') & \n",
    "             (trip_details['member_state'] != trip_details['car_state'])]\n",
    "interstate_trips.groupby(['distance_decile']).count()[['member_id']]"
   ]
  },
  {
   "cell_type": "code",
   "execution_count": null,
   "metadata": {
    "ExecuteTime": {
     "end_time": "2021-09-20T07:01:14.887788Z",
     "start_time": "2021-09-20T06:58:01.094Z"
    },
    "id": "U9cwAclBFywy"
   },
   "outputs": [],
   "source": [
    "interstate_trips"
   ]
  },
  {
   "cell_type": "code",
   "execution_count": null,
   "metadata": {
    "ExecuteTime": {
     "end_time": "2021-09-20T07:01:14.894576Z",
     "start_time": "2021-09-20T06:58:01.098Z"
    },
    "id": "1gPAvZENVc0n"
   },
   "outputs": [],
   "source": [
    "trip_details.loc[trip_details['car_state'] == 'New South Wales', 'car_state'] = 'NSW'\n",
    "trip_details.loc[trip_details['car_state'] == 'Queensland', 'car_state'] = 'QLD'\n",
    "trip_details.loc[trip_details['car_state'] == 'Victoria', 'car_state'] = 'VIC'\n",
    "trip_details.loc[trip_details['car_state'] == 'Australian Capital Territory', 'car_state'] = 'ACT'\n",
    "trip_details.loc[trip_details['car_state'] == 'Tasmania', 'car_state'] = 'TAS'\n",
    "trip_details.loc[trip_details['car_state'] == 'Western Australia', 'car_state'] = 'WA'\n",
    "trip_details.loc[trip_details['car_state'] == 'South Australia', 'car_state'] = 'SA'\n",
    "trip_details.loc[trip_details['car_state'] == 'Northern Territory', 'car_state'] = 'NT'"
   ]
  },
  {
   "cell_type": "code",
   "execution_count": null,
   "metadata": {
    "ExecuteTime": {
     "end_time": "2021-09-20T07:01:14.897503Z",
     "start_time": "2021-09-20T06:58:01.100Z"
    },
    "id": "197ZAOl3VaHI"
   },
   "outputs": [],
   "source": [
    "trip_details['member_state'].unique()"
   ]
  },
  {
   "cell_type": "code",
   "execution_count": null,
   "metadata": {
    "ExecuteTime": {
     "end_time": "2021-09-20T07:01:14.898450Z",
     "start_time": "2021-09-20T06:58:01.103Z"
    },
    "id": "l2po2HxkVV8X"
   },
   "outputs": [],
   "source": [
    "trip_details['car_state'].unique()"
   ]
  },
  {
   "cell_type": "markdown",
   "metadata": {
    "id": "FwLINzhmVI_v"
   },
   "source": [
    "## Look at inter-state distances "
   ]
  },
  {
   "cell_type": "code",
   "execution_count": null,
   "metadata": {
    "ExecuteTime": {
     "end_time": "2021-09-20T07:01:14.898450Z",
     "start_time": "2021-09-20T06:58:01.106Z"
    },
    "id": "CBtv9KyxOfhr"
   },
   "outputs": [],
   "source": [
    "plt.figure(figsize=(12,7))\n",
    "sns.histplot(trip_details[(trip_details['trip_completed'] == 'Yes') & \n",
    "             (trip_details['end_month'] == '2021-07') & \n",
    "             (trip_details['distance'] < 50) & \n",
    "             (trip_details['distance'] > 5)]['distance'], binwidth=1)"
   ]
  },
  {
   "cell_type": "code",
   "execution_count": null,
   "metadata": {
    "ExecuteTime": {
     "end_time": "2021-09-20T07:01:14.904571Z",
     "start_time": "2021-09-20T06:58:01.109Z"
    },
    "id": "YjLdysCERTGi"
   },
   "outputs": [],
   "source": [
    "trip_details[trip_details['trip_completed'] == 'Yes'].groupby('end_month').agg(mean = ('distance',lambda x: x.mean()),\n",
    "                                                                               percentile_50 = ('distance',lambda x: x.quantile(0.5)),\n",
    "                                                                               percentile_80 = ('distance',lambda x: x.quantile(0.8)),\n",
    "                                                                               percentile_95 = ('distance',lambda x: x.quantile(0.95))\n",
    "                                                                               )"
   ]
  },
  {
   "cell_type": "code",
   "execution_count": null,
   "metadata": {
    "ExecuteTime": {
     "end_time": "2021-09-20T07:01:14.906967Z",
     "start_time": "2021-09-20T06:58:01.111Z"
    },
    "colab": {
     "base_uri": "https://localhost:8080/",
     "height": 370
    },
    "id": "hCD0xdn_Sm9_",
    "outputId": "9095a0f4-8bd0-4b9c-b206-78cc6ee23372"
   },
   "outputs": [],
   "source": [
    "trip_details[trip_details['trip_completed'] == 'Yes'].agg(percentile_50 = ('distance',lambda x: x.quantile(0.5)),\n",
    "                                                                               percentile_80 = ('distance',lambda x: x.quantile(0.8)),\n",
    "                                                                               percentile_95 = ('distance',lambda x: x.quantile(0.95))\n",
    "                                                                               )"
   ]
  },
  {
   "cell_type": "code",
   "execution_count": null,
   "metadata": {
    "ExecuteTime": {
     "end_time": "2021-09-20T07:01:14.906967Z",
     "start_time": "2021-09-20T06:58:01.114Z"
    },
    "colab": {
     "base_uri": "https://localhost:8080/",
     "height": 355
    },
    "id": "RrNQOQNETCCd",
    "outputId": "369d4efd-4b4e-45ab-9414-7aff3d54cec4"
   },
   "outputs": [],
   "source": [
    "distance_deciles =  pd.qcut(trip_details[trip_details['trip_completed'] == 'Yes']['borrower_distance'], \n",
    "                             q = 10).value_counts().to_frame()\n",
    "distance_deciles.reset_index().sort_values(by='index')                             "
   ]
  },
  {
   "cell_type": "markdown",
   "metadata": {
    "id": "FDF-CIXUaFiZ"
   },
   "source": [
    "Cumulative percentage of borrowers based on number of completed trips. From this, if we specify at least 3 trips to segment a user,  we will only capture less than 20%"
   ]
  },
  {
   "cell_type": "markdown",
   "metadata": {},
   "source": [
    "# Totals "
   ]
  },
  {
   "cell_type": "markdown",
   "metadata": {},
   "source": [
    "- 87480 total borrowers\n",
    "- 78477 total car sharers\n",
    "- 12651 total car tourists\n",
    "- 483 total van borrowers"
   ]
  },
  {
   "cell_type": "code",
   "execution_count": 133,
   "metadata": {
    "ExecuteTime": {
     "end_time": "2021-09-20T08:25:34.857658Z",
     "start_time": "2021-09-20T08:25:34.834070Z"
    }
   },
   "outputs": [
    {
     "data": {
      "text/plain": [
       "89.70850480109739"
      ]
     },
     "execution_count": 133,
     "metadata": {},
     "output_type": "execute_result"
    }
   ],
   "source": [
    "78477/87480 * 100"
   ]
  },
  {
   "cell_type": "code",
   "execution_count": 134,
   "metadata": {
    "ExecuteTime": {
     "end_time": "2021-09-20T08:25:38.958370Z",
     "start_time": "2021-09-20T08:25:38.942581Z"
    }
   },
   "outputs": [
    {
     "data": {
      "text/plain": [
       "14.461591220850481"
      ]
     },
     "execution_count": 134,
     "metadata": {},
     "output_type": "execute_result"
    }
   ],
   "source": [
    "12651/87480 * 100"
   ]
  },
  {
   "cell_type": "code",
   "execution_count": 135,
   "metadata": {
    "ExecuteTime": {
     "end_time": "2021-09-20T08:25:41.351340Z",
     "start_time": "2021-09-20T08:25:41.330681Z"
    }
   },
   "outputs": [
    {
     "data": {
      "text/plain": [
       "0.5521262002743484"
      ]
     },
     "execution_count": 135,
     "metadata": {},
     "output_type": "execute_result"
    }
   ],
   "source": [
    "483/87480 * 100"
   ]
  },
  {
   "cell_type": "code",
   "execution_count": 136,
   "metadata": {
    "ExecuteTime": {
     "end_time": "2021-09-20T08:26:20.695128Z",
     "start_time": "2021-09-20T08:26:20.676654Z"
    }
   },
   "outputs": [
    {
     "data": {
      "text/plain": [
       "104.72222222222221"
      ]
     },
     "execution_count": 136,
     "metadata": {},
     "output_type": "execute_result"
    }
   ],
   "source": [
    "89.70850480109739 + 14.461591220850481 + 0.5521262002743484"
   ]
  },
  {
   "cell_type": "code",
   "execution_count": null,
   "metadata": {},
   "outputs": [],
   "source": []
  }
 ],
 "metadata": {
  "colab": {
   "name": "Borrower Segmentation - Location.ipynb",
   "provenance": [],
   "toc_visible": true
  },
  "hide_input": false,
  "kernelspec": {
   "display_name": "Python 3",
   "language": "python",
   "name": "python3"
  },
  "language_info": {
   "codemirror_mode": {
    "name": "ipython",
    "version": 3
   },
   "file_extension": ".py",
   "mimetype": "text/x-python",
   "name": "python",
   "nbconvert_exporter": "python",
   "pygments_lexer": "ipython3",
   "version": "3.8.5"
  },
  "toc": {
   "base_numbering": 1,
   "nav_menu": {},
   "number_sections": true,
   "sideBar": true,
   "skip_h1_title": false,
   "title_cell": "Table of Contents",
   "title_sidebar": "Contents",
   "toc_cell": false,
   "toc_position": {
    "height": "calc(100% - 180px)",
    "left": "10px",
    "top": "150px",
    "width": "251.781px"
   },
   "toc_section_display": true,
   "toc_window_display": true
  },
  "varInspector": {
   "cols": {
    "lenName": 16,
    "lenType": 16,
    "lenVar": 40
   },
   "kernels_config": {
    "python": {
     "delete_cmd_postfix": "",
     "delete_cmd_prefix": "del ",
     "library": "var_list.py",
     "varRefreshCmd": "print(var_dic_list())"
    },
    "r": {
     "delete_cmd_postfix": ") ",
     "delete_cmd_prefix": "rm(",
     "library": "var_list.r",
     "varRefreshCmd": "cat(var_dic_list()) "
    }
   },
   "oldHeight": 430,
   "position": {
    "height": "452px",
    "left": "1140px",
    "right": "20px",
    "top": "120px",
    "width": "430px"
   },
   "types_to_exclude": [
    "module",
    "function",
    "builtin_function_or_method",
    "instance",
    "_Feature"
   ],
   "varInspector_section_display": "block",
   "window_display": false
  }
 },
 "nbformat": 4,
 "nbformat_minor": 1
}
